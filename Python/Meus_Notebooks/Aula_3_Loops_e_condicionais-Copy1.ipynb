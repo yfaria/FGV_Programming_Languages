{
 "cells": [
  {
   "cell_type": "markdown",
   "metadata": {},
   "source": [
    "FGV - Escola de Matemática Aplicada\n",
    "==\n",
    "Curso de Verão - Introdução à Programação com a Linguagem Python\n",
    "--"
   ]
  },
  {
   "cell_type": "code",
   "execution_count": 1,
   "metadata": {
    "collapsed": true
   },
   "outputs": [],
   "source": [
    "import time\n",
    "import random"
   ]
  },
  {
   "cell_type": "markdown",
   "metadata": {},
   "source": [
    "## Condicionais e Loops"
   ]
  },
  {
   "cell_type": "markdown",
   "metadata": {},
   "source": [
    "### Condicionais:\n",
    "\n",
    "Em Python usamos os Controles de Fluxo if/elif/else para avaliar as condições que são postas na estrutura do código. As condições são sequencias que devem ser avaliadas em True ou False e uma estrutura condicional simples pode conter vários elif, mas somente um else."
   ]
  },
  {
   "cell_type": "markdown",
   "metadata": {},
   "source": [
    "###### Modelo da sintaxe:\n",
    "\n",
    "###### if condição1:\n",
    "\n",
    "   código a ser implementado caso a condição 1 seja verdadeira.\n",
    "    \n",
    "###### elif condição2:\n",
    "\n",
    "   código a ser implementado caso a condição 1 seja falsa e a condição 2 seja verdadeira.\n",
    "    \n",
    "###### elif condição3:\n",
    "\n",
    "   código a ser implementado caso as condições 1 e 2 sejam falsas e a condição 3 seja verdadeira.\n",
    "    \n",
    "###### else:\n",
    "\n",
    "   código a ser implementado caso nenhuma das condições acima sejam verdadeiras\n"
   ]
  },
  {
   "cell_type": "code",
   "execution_count": 2,
   "metadata": {},
   "outputs": [
    {
     "name": "stdout",
     "output_type": "stream",
     "text": [
      "o nome começa com i e termina com U\n",
      "Saí do if\n"
     ]
    }
   ],
   "source": [
    "nome = 'Uerlei'\n",
    "\n",
    "if nome.startswith('T'):\n",
    "    print('o nome começa com {}'.format(nome[0]))\n",
    "    print('Estou aqui')\n",
    "elif nome.startswith('U'):\n",
    "    print('o nome começa com {1} e termina com {0}'.format(nome[0],nome[-1]))\n",
    "elif nome.startswith('V'):\n",
    "    print('o nome começa com {}'.format(nome[0]))\n",
    "elif nome.startswith('X'):\n",
    "    print('o nome começa com {}'.format(nome[0]))\n",
    "elif nome.startswith('Z'):\n",
    "    print('o nome começa com {}'.format(nome[0]))\n",
    "else:\n",
    "    print('o nome não começa com T,U,V, X ou Z')\n",
    "print('Saí do if')"
   ]
  },
  {
   "cell_type": "markdown",
   "metadata": {},
   "source": [
    "Podemos usar, também, condicionais aninhadas. Isto é, dentro do código a ser rodado caso alguma condição seja verdadeira podemos colocar outra estrutura if/elif/else. Vejamos no exemplo a seguir:"
   ]
  },
  {
   "cell_type": "code",
   "execution_count": 1,
   "metadata": {},
   "outputs": [
    {
     "name": "stdout",
     "output_type": "stream",
     "text": [
      "maior que 5\n",
      "maior que 7\n",
      "maior que 3\n"
     ]
    }
   ],
   "source": [
    "numero = 10\n",
    "if numero > 5:\n",
    "    print('maior que 5')\n",
    "    if numero > 7:\n",
    "        print('maior que 7')\n",
    "        if numero > 3:\n",
    "            print('maior que 3')\n",
    "else:\n",
    "    print('o numero é menor ou igual a 5')"
   ]
  },
  {
   "cell_type": "markdown",
   "metadata": {},
   "source": [
    "### Range:\n",
    "\n",
    "Range representa uma sequência imutável de números e é usado para fazer um número específico de loop nos loops (não cria lista). "
   ]
  },
  {
   "cell_type": "code",
   "execution_count": 3,
   "metadata": {},
   "outputs": [],
   "source": [
    "s=range(10)"
   ]
  },
  {
   "cell_type": "code",
   "execution_count": 4,
   "metadata": {},
   "outputs": [
    {
     "data": {
      "text/plain": [
       "[0, 1, 2, 3, 4, 5, 6, 7, 8, 9]"
      ]
     },
     "execution_count": 4,
     "metadata": {},
     "output_type": "execute_result"
    }
   ],
   "source": [
    "list(range(10))"
   ]
  },
  {
   "cell_type": "markdown",
   "metadata": {},
   "source": [
    "O resultado gerado é uma lista que vai de 0 até o número dado como argumento - 1. Se colocar dois argumentos, ele toma como inicial e final."
   ]
  },
  {
   "cell_type": "code",
   "execution_count": 5,
   "metadata": {},
   "outputs": [
    {
     "data": {
      "text/plain": [
       "[1, 2, 3, 4, 5, 6, 7, 8, 9, 10, 11, 12]"
      ]
     },
     "execution_count": 5,
     "metadata": {},
     "output_type": "execute_result"
    }
   ],
   "source": [
    "list(range(1,13)) "
   ]
  },
  {
   "cell_type": "code",
   "execution_count": 6,
   "metadata": {},
   "outputs": [
    {
     "data": {
      "text/plain": [
       "[0, 2, 4, 6, 8, 10]"
      ]
     },
     "execution_count": 6,
     "metadata": {},
     "output_type": "execute_result"
    }
   ],
   "source": [
    "list(range(0,11,2)) # o terceiro argumento é o passo, quanto cresce cada elemento da sequência."
   ]
  },
  {
   "cell_type": "markdown",
   "metadata": {},
   "source": [
    "Nesse caso temos o intervalo definido. Dessa forma, o resultado gerado é uma lista que vai do primeiro número dado até o segundo - 1."
   ]
  },
  {
   "cell_type": "code",
   "execution_count": 5,
   "metadata": {},
   "outputs": [],
   "source": [
    "gen50 = range(5,51,3)"
   ]
  },
  {
   "cell_type": "code",
   "execution_count": 6,
   "metadata": {},
   "outputs": [
    {
     "data": {
      "text/plain": [
       "range(5, 51, 3)"
      ]
     },
     "execution_count": 6,
     "metadata": {},
     "output_type": "execute_result"
    }
   ],
   "source": [
    "gen50"
   ]
  },
  {
   "cell_type": "code",
   "execution_count": 7,
   "metadata": {},
   "outputs": [
    {
     "data": {
      "text/plain": [
       "[5, 8, 11, 14, 17, 20, 23, 26, 29, 32, 35, 38, 41, 44, 47, 50]"
      ]
     },
     "execution_count": 7,
     "metadata": {},
     "output_type": "execute_result"
    }
   ],
   "source": [
    "lista = list(gen50)\n",
    "lista"
   ]
  },
  {
   "cell_type": "markdown",
   "metadata": {},
   "source": [
    "Já nesse caso temos a estrutura composta por range(início do intervalo, fim do intervalo + 1, diferença entre um elemento e o próximo na sequência). Dessa forma temos que os elementos, no exemplo, são listados, de três em três, de 5 até 50."
   ]
  },
  {
   "cell_type": "code",
   "execution_count": 10,
   "metadata": {},
   "outputs": [
    {
     "data": {
      "text/plain": [
       "range(0, 282429536481)"
      ]
     },
     "execution_count": 10,
     "metadata": {},
     "output_type": "execute_result"
    }
   ],
   "source": [
    "range(9**12) #o Python não armazena essa sequência; ele sabe que o limite é 9^12, que o primeiro é 0 e o passo é 1."
   ]
  },
  {
   "cell_type": "markdown",
   "metadata": {},
   "source": [
    "### Loops:"
   ]
  },
  {
   "cell_type": "markdown",
   "metadata": {},
   "source": [
    " #### O comando \"for\":\n",
    "\n",
    "Executa uma seqüência de instruções várias vezes, até que o intervalo dado termine."
   ]
  },
  {
   "cell_type": "code",
   "execution_count": 11,
   "metadata": {},
   "outputs": [
    {
     "name": "stdout",
     "output_type": "stream",
     "text": [
      "2\n",
      "Margaridas\n",
      "\n",
      "4\n",
      "Margaridas\n",
      "\n",
      "6\n",
      "Margaridas\n",
      "\n",
      "8\n",
      "Margaridas\n",
      "\n",
      "10\n",
      "Margaridas\n",
      "\n"
     ]
    }
   ],
   "source": [
    "for inteiro in range(2,11,2):\n",
    "    print(inteiro)\n",
    "    #print()\n",
    "    #print(inteiro + 1)\n",
    "    print('Margaridas')\n",
    "    print()"
   ]
  },
  {
   "cell_type": "code",
   "execution_count": 12,
   "metadata": {},
   "outputs": [
    {
     "name": "stdout",
     "output_type": "stream",
     "text": [
      "1\n",
      "\n",
      "9\n",
      "\n",
      "25\n",
      "\n",
      "49\n",
      "\n",
      "81\n",
      "\n"
     ]
    }
   ],
   "source": [
    "for inteiro in range(1,10,2):\n",
    "    print(inteiro**2)\n",
    "    print()"
   ]
  },
  {
   "cell_type": "code",
   "execution_count": 13,
   "metadata": {},
   "outputs": [
    {
     "name": "stdout",
     "output_type": "stream",
     "text": [
      "M\n",
      "e\n",
      "u\n",
      " \n",
      "n\n",
      "o\n",
      "m\n",
      "e\n",
      " \n",
      "n\n",
      "ã\n",
      "o\n",
      " \n",
      "é\n",
      " \n",
      "J\n",
      "o\n",
      "h\n",
      "n\n",
      "n\n",
      "y\n"
     ]
    }
   ],
   "source": [
    "for letra in 'Meu nome não é Johnny':\n",
    "    print(letra)"
   ]
  },
  {
   "cell_type": "code",
   "execution_count": 9,
   "metadata": {},
   "outputs": [
    {
     "name": "stdout",
     "output_type": "stream",
     "text": [
      "chave1\n",
      "chave3\n",
      "chave2\n",
      "chave4\n"
     ]
    }
   ],
   "source": [
    "dic = {'chave1':1, 'chave2':2, 'chave3':3, 'chave4':4}\n",
    "for elemento in dic:\n",
    "    print (elemento)"
   ]
  },
  {
   "cell_type": "code",
   "execution_count": 10,
   "metadata": {},
   "outputs": [
    {
     "name": "stdout",
     "output_type": "stream",
     "text": [
      "1 1 1\n",
      "elemento: 1; elemento ao quadrado: 1; elemento ao cubo: 1\n",
      "\n",
      "4 16 64\n",
      "elemento: 4; elemento ao quadrado: 16; elemento ao cubo: 64\n",
      "\n",
      "8 64 512\n",
      "elemento: 8; elemento ao quadrado: 64; elemento ao cubo: 512\n",
      "\n",
      "9 81 729\n",
      "elemento: 9; elemento ao quadrado: 81; elemento ao cubo: 729\n",
      "\n",
      "10 100 1000\n",
      "elemento: 10; elemento ao quadrado: 100; elemento ao cubo: 1000\n",
      "\n"
     ]
    }
   ],
   "source": [
    "for elemento in [1,4,8,9,10]:\n",
    "    print(elemento, elemento**2, elemento**3)\n",
    "    print('elemento: {}; elemento ao quadrado: {}; elemento ao cubo: {} \\n'.format(elemento, elemento**2, elemento**3))"
   ]
  },
  {
   "cell_type": "code",
   "execution_count": null,
   "metadata": {},
   "outputs": [],
   "source": [
    "x,y,z=(1,2,3) #ele entende x,y,z como (x,y,z)"
   ]
  },
  {
   "cell_type": "code",
   "execution_count": 1,
   "metadata": {},
   "outputs": [],
   "source": [
    "x,*y,z = (1,2,9,3) # Definindo mais de uma variável em uma linha; empacotamento e desempacotamento de tuplas."
   ]
  },
  {
   "cell_type": "code",
   "execution_count": 2,
   "metadata": {},
   "outputs": [
    {
     "data": {
      "text/plain": [
       "1"
      ]
     },
     "execution_count": 2,
     "metadata": {},
     "output_type": "execute_result"
    }
   ],
   "source": [
    "x "
   ]
  },
  {
   "cell_type": "code",
   "execution_count": 3,
   "metadata": {},
   "outputs": [
    {
     "data": {
      "text/plain": [
       "[2, 9]"
      ]
     },
     "execution_count": 3,
     "metadata": {},
     "output_type": "execute_result"
    }
   ],
   "source": [
    "y"
   ]
  },
  {
   "cell_type": "code",
   "execution_count": 4,
   "metadata": {},
   "outputs": [
    {
     "data": {
      "text/plain": [
       "3"
      ]
     },
     "execution_count": 4,
     "metadata": {},
     "output_type": "execute_result"
    }
   ],
   "source": [
    "z"
   ]
  },
  {
   "cell_type": "code",
   "execution_count": 6,
   "metadata": {},
   "outputs": [
    {
     "data": {
      "text/plain": [
       "tuple"
      ]
     },
     "execution_count": 6,
     "metadata": {},
     "output_type": "execute_result"
    }
   ],
   "source": [
    "p = (1)  #p é inteiro\n",
    "q = (1,) #q é tupla\n",
    "r = 1,   #se não houver parênteses mas tiver vírgula, ele entende como tupla.\n",
    "type(r)"
   ]
  },
  {
   "cell_type": "code",
   "execution_count": 19,
   "metadata": {},
   "outputs": [
    {
     "name": "stdout",
     "output_type": "stream",
     "text": [
      "1\n",
      "4\n",
      "5\n"
     ]
    }
   ],
   "source": [
    "c = {1,4,4,4,4,5}\n",
    "for elemento in c:\n",
    "    print(elemento)"
   ]
  },
  {
   "cell_type": "markdown",
   "metadata": {},
   "source": [
    "### Instruções de comando de loop\n",
    "\n",
    "Elas alteram a execução da sequência em sua ordem normal. São elas: break, continue e pass."
   ]
  },
  {
   "cell_type": "markdown",
   "metadata": {},
   "source": [
    "##### Break: \n",
    "Termina a instrução do loop e segue o fluxo normal do programa.\n"
   ]
  },
  {
   "cell_type": "code",
   "execution_count": 10,
   "metadata": {},
   "outputs": [
    {
     "name": "stdout",
     "output_type": "stream",
     "text": [
      "Sum of first  10 integers is :  55\n"
     ]
    }
   ],
   "source": [
    "numbers = range(1,1000)\n",
    "num_sum = 0  \n",
    "count = 0  \n",
    "for x in numbers:  \n",
    "    num_sum = num_sum + x  \n",
    "    count = count + 1   \n",
    "    if count == 10:  \n",
    "        break  \n",
    "print(\"Sum of first \",count,\"integers is : \", num_sum)  "
   ]
  },
  {
   "cell_type": "markdown",
   "metadata": {},
   "source": [
    "#### Continue:\n",
    "Continua com a próxima iteração do loop.\n"
   ]
  },
  {
   "cell_type": "code",
   "execution_count": 21,
   "metadata": {},
   "outputs": [
    {
     "name": "stdout",
     "output_type": "stream",
     "text": [
      "a latitude é 1\n",
      "a longitude é 2\n",
      "a latitude é 7\n",
      "a longitude é 9\n"
     ]
    }
   ],
   "source": [
    "for x,y in [(1,2),(3,6),(7,9)]:\n",
    "    if x == 3:\n",
    "        continue #ele pula a iteração do loop em que x=3\n",
    "    print('a latitude é {}'.format(x))\n",
    "    print('a longitude é {}'.format(y))"
   ]
  },
  {
   "cell_type": "code",
   "execution_count": 11,
   "metadata": {},
   "outputs": [
    {
     "name": "stdout",
     "output_type": "stream",
     "text": [
      "a latitude é 1\n",
      "a longitude é 2\n"
     ]
    }
   ],
   "source": [
    "for x,y in [(1,2),(3,6),(7,9)]:\n",
    "    if x == 3:\n",
    "        break #ele quebra o loop quando x=3.\n",
    "    print('a latitude é {}'.format(x))\n",
    "    print('a longitude é {}'.format(y))"
   ]
  },
  {
   "cell_type": "code",
   "execution_count": 17,
   "metadata": {},
   "outputs": [
    {
     "name": "stdout",
     "output_type": "stream",
     "text": [
      "Found an even number 2\n",
      "Found an odd number 3\n",
      "Found an even number 4\n",
      "Found an odd number 5\n",
      "Found an even number 6\n",
      "Found an odd number 7\n",
      "Found an even number 8\n",
      "Found an odd number 9\n",
      "Found an even number 10\n"
     ]
    }
   ],
   "source": [
    "for num in range(2, 11):\n",
    "    if num % 2 == 0:\n",
    "        print(\"Found an even number\", num)\n",
    "        continue\n",
    "    print (\"Found an odd number\", num)"
   ]
  },
  {
   "cell_type": "code",
   "execution_count": 13,
   "metadata": {},
   "outputs": [
    {
     "name": "stdout",
     "output_type": "stream",
     "text": [
      "0\n",
      "1\n",
      "2\n",
      "3\n",
      "4\n",
      "6\n",
      "8\n"
     ]
    }
   ],
   "source": [
    "for numero in range(10):\n",
    "    if numero in [5,7,9]:\n",
    "        continue\n",
    "    print(numero)"
   ]
  },
  {
   "cell_type": "markdown",
   "metadata": {},
   "source": [
    "#### Pass:\n",
    "Pode ser usado quando uma declaração é requerida sintaticamente, mas o programa não requer nenhuma ação."
   ]
  },
  {
   "cell_type": "code",
   "execution_count": 18,
   "metadata": {},
   "outputs": [
    {
     "ename": "SyntaxError",
     "evalue": "unexpected EOF while parsing (<ipython-input-18-03e38097613e>, line 11)",
     "output_type": "error",
     "traceback": [
      "\u001b[0;36m  File \u001b[0;32m\"<ipython-input-18-03e38097613e>\"\u001b[0;36m, line \u001b[0;32m11\u001b[0m\n\u001b[0;31m    \u001b[0m\n\u001b[0m    ^\u001b[0m\n\u001b[0;31mSyntaxError\u001b[0m\u001b[0;31m:\u001b[0m unexpected EOF while parsing\n"
     ]
    }
   ],
   "source": [
    "def funcao1():\n",
    "    print('faz nada')\n",
    "\n",
    "def funcao2():\n",
    "    pass\n",
    "\n",
    "def funcao3():\n",
    "    pass\n",
    "\n",
    "if True: #se não botar nada dentro do if True, dá erro.\n",
    "    \n",
    "if True:\n",
    "    pass #se botar pass, ele funciona.\n",
    "    "
   ]
  },
  {
   "cell_type": "code",
   "execution_count": 25,
   "metadata": {},
   "outputs": [
    {
     "name": "stdout",
     "output_type": "stream",
     "text": [
      "Current Letter : P\n",
      "Current Letter : y\n",
      "Current Letter : t\n",
      "This is pass block\n",
      "Current Letter : h\n",
      "Current Letter : o\n",
      "Current Letter : n\n"
     ]
    }
   ],
   "source": [
    "for letter in 'Python': \n",
    "    if letter == 'h':\n",
    "        pass\n",
    "        print('This is pass block')\n",
    "    print('Current Letter :', letter)\n"
   ]
  },
  {
   "cell_type": "markdown",
   "metadata": {},
   "source": [
    "* Números ímpares divisíveis por 7 e 5 até 100"
   ]
  },
  {
   "cell_type": "code",
   "execution_count": 74,
   "metadata": {},
   "outputs": [
    {
     "name": "stdout",
     "output_type": "stream",
     "text": [
      "CPU times: user 0 ns, sys: 0 ns, total: 0 ns\n",
      "Wall time: 20.7 µs\n",
      "[35]\n"
     ]
    }
   ],
   "source": [
    "%time seq = range(101) #%time dá o tempo de execução do programa.\n",
    "lista = []\n",
    "for numero in seq:\n",
    "    if numero%7 == 0 and numero%5 == 0 and numero%2 != 0:\n",
    "        lista.append(numero)\n",
    "print(lista)"
   ]
  },
  {
   "cell_type": "markdown",
   "metadata": {},
   "source": [
    "* Gerando números primos"
   ]
  },
  {
   "cell_type": "code",
   "execution_count": 77,
   "metadata": {},
   "outputs": [
    {
     "name": "stdout",
     "output_type": "stream",
     "text": [
      "[2, 3, 5, 5, 7, 7, 7, 7, 9]\n"
     ]
    }
   ],
   "source": [
    "primos = [2]\n",
    "for i in range(3,10):\n",
    "    for j in primos:\n",
    "        if i%j ==0:\n",
    "            break\n",
    "        primos.append(i)\n",
    "print(primos) #ver erro"
   ]
  },
  {
   "cell_type": "code",
   "execution_count": 68,
   "metadata": {},
   "outputs": [
    {
     "name": "stdout",
     "output_type": "stream",
     "text": [
      "48.667530831167575\n"
     ]
    },
    {
     "data": {
      "text/plain": [
       "True"
      ]
     },
     "execution_count": 68,
     "metadata": {},
     "output_type": "execute_result"
    }
   ],
   "source": [
    "print(time.time()/(3600*24*365))"
   ]
  },
  {
   "cell_type": "code",
   "execution_count": 73,
   "metadata": {},
   "outputs": [
    {
     "name": "stdout",
     "output_type": "stream",
     "text": [
      "13.85434889793396\n"
     ]
    }
   ],
   "source": [
    "t0 = time.time()\n",
    "primos = []\n",
    "for i in range(2, 10000):\n",
    "    k = True\n",
    "    for j in range(2, i):\n",
    "        if i%j==0:\n",
    "            k = False\n",
    "    if k:\n",
    "        primos.append(i)\n",
    "#print(primos)\n",
    "print(time.time() - t0)"
   ]
  },
  {
   "cell_type": "code",
   "execution_count": 29,
   "metadata": {},
   "outputs": [
    {
     "name": "stdout",
     "output_type": "stream",
     "text": [
      "0.09703826904296875\n"
     ]
    }
   ],
   "source": [
    "t0 = time.time()\n",
    "seq = range(3,10000)\n",
    "primos = [2]\n",
    "for candidato in seq:\n",
    "    E_primo = True\n",
    "    for primo in primos:\n",
    "        if candidato%primo == 0:\n",
    "            E_primo = False\n",
    "            break\n",
    "    if E_primo:\n",
    "        primos.append(candidato)\n",
    "        #print(candidato)\n",
    "print(time.time() - t0)"
   ]
  },
  {
   "cell_type": "markdown",
   "metadata": {},
   "source": [
    "#### O comando \"while\":\n",
    "\n",
    "No comando WHILE declara-se uma condição de parada. Dessa maneira os comandos serão executados até que se chegue na condição de parada.\n"
   ]
  },
  {
   "cell_type": "code",
   "execution_count": 20,
   "metadata": {},
   "outputs": [
    {
     "name": "stdout",
     "output_type": "stream",
     "text": [
      "1\n",
      "2\n",
      "2\n",
      "3\n",
      "3\n",
      "4\n",
      "4\n",
      "5\n",
      "5\n",
      "6\n",
      "6\n",
      "7\n",
      "7\n",
      "8\n",
      "8\n",
      "9\n",
      "9\n",
      "10\n"
     ]
    }
   ],
   "source": [
    "x = 1\n",
    "while x < 10:\n",
    "    print(x)\n",
    "    x += 1 #incremento\n",
    "    y =+ x\n",
    "    print(y)"
   ]
  },
  {
   "cell_type": "code",
   "execution_count": 21,
   "metadata": {},
   "outputs": [],
   "source": [
    "import time"
   ]
  },
  {
   "cell_type": "code",
   "execution_count": null,
   "metadata": {},
   "outputs": [],
   "source": [
    "time.time()#número de segundos desde a criação do UNIX\n",
    "time.clock()#fornece um tempo interno no PC"
   ]
  },
  {
   "cell_type": "code",
   "execution_count": null,
   "metadata": {},
   "outputs": [],
   "source": [
    "while True:\n",
    "    print(time.time())\n",
    "    time.sleep(2) #faz o pc parar de executar o progrma por 2 segundos."
   ]
  },
  {
   "cell_type": "code",
   "execution_count": 31,
   "metadata": {},
   "outputs": [
    {
     "name": "stdout",
     "output_type": "stream",
     "text": [
      "3\n",
      "1\n",
      "9\n",
      "6\n",
      "4\n",
      "10\n",
      "6\n",
      "5\n",
      "1\n",
      "2\n"
     ]
    }
   ],
   "source": [
    "for x in range(10):\n",
    "    print(random.randrange(1,11))"
   ]
  },
  {
   "cell_type": "code",
   "execution_count": 57,
   "metadata": {},
   "outputs": [
    {
     "name": "stdout",
     "output_type": "stream",
     "text": [
      "0.6852406109453055\n",
      "0.6917506752746148\n",
      "0.109646703427563\n",
      "0.04335031486505292\n",
      "0.6500906165836088\n",
      "0.5505554836357229\n",
      "0.9361061783282376\n",
      "0.663089814279473\n",
      "0.9704642744675728\n",
      "0.5259810183183642\n",
      "0.1421945701658861\n",
      "0.20103678276387804\n",
      "0.43132762733090113\n"
     ]
    }
   ],
   "source": [
    "while True:\n",
    "    x = random.random()\n",
    "    print(x)\n",
    "    if 0.5 > x > 0.4:\n",
    "        break"
   ]
  },
  {
   "cell_type": "code",
   "execution_count": 24,
   "metadata": {},
   "outputs": [],
   "source": [
    "import random"
   ]
  },
  {
   "cell_type": "code",
   "execution_count": null,
   "metadata": {},
   "outputs": [],
   "source": []
  }
 ],
 "metadata": {
  "kernelspec": {
   "display_name": "Python 3",
   "language": "python",
   "name": "python3"
  },
  "language_info": {
   "codemirror_mode": {
    "name": "ipython",
    "version": 3
   },
   "file_extension": ".py",
   "mimetype": "text/x-python",
   "name": "python",
   "nbconvert_exporter": "python",
   "pygments_lexer": "ipython3",
   "version": "3.5.2"
  }
 },
 "nbformat": 4,
 "nbformat_minor": 2
}
