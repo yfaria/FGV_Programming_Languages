{
 "cells": [
  {
   "cell_type": "code",
   "execution_count": 1,
   "metadata": {
    "collapsed": true
   },
   "outputs": [],
   "source": [
    "import random"
   ]
  },
  {
   "cell_type": "code",
   "execution_count": 31,
   "metadata": {
    "collapsed": false
   },
   "outputs": [
    {
     "data": {
      "text/plain": [
       "16"
      ]
     },
     "execution_count": 31,
     "metadata": {},
     "output_type": "execute_result"
    }
   ],
   "source": [
    "random.randrange(30)"
   ]
  },
  {
   "cell_type": "code",
   "execution_count": 45,
   "metadata": {
    "collapsed": false
   },
   "outputs": [
    {
     "data": {
      "text/plain": [
       "'gato'"
      ]
     },
     "execution_count": 45,
     "metadata": {},
     "output_type": "execute_result"
    }
   ],
   "source": [
    "random.choice(['gato', 'cachorro', 'papagaio'])"
   ]
  },
  {
   "cell_type": "code",
   "execution_count": 63,
   "metadata": {
    "collapsed": false
   },
   "outputs": [
    {
     "name": "stdout",
     "output_type": "stream",
     "text": [
      "22\n",
      "12\n",
      "28\n",
      "48\n",
      "42\n",
      "22\n"
     ]
    }
   ],
   "source": [
    "for i in range(6):\n",
    "    print(random.randrange(1,61))"
   ]
  },
  {
   "cell_type": "code",
   "execution_count": 70,
   "metadata": {
    "collapsed": false
   },
   "outputs": [
    {
     "name": "stdout",
     "output_type": "stream",
     "text": [
      "[34, 11, 15, 21, 26, 31]\n"
     ]
    }
   ],
   "source": [
    "aposta = set()\n",
    "while len(aposta) < 6:\n",
    "    aposta.add(random.randrange(1,61))\n",
    "print(list(aposta))"
   ]
  },
  {
   "cell_type": "code",
   "execution_count": 71,
   "metadata": {
    "collapsed": false
   },
   "outputs": [
    {
     "name": "stdout",
     "output_type": "stream",
     "text": [
      "[3, 51, 13, 42, 35, 17]\n"
     ]
    }
   ],
   "source": [
    "aposta = []\n",
    "while len(aposta) < 6:\n",
    "    numero = random.randrange(1,61)\n",
    "    if not numero in aposta:\n",
    "        aposta.append(numero)\n",
    "print(aposta)"
   ]
  },
  {
   "cell_type": "code",
   "execution_count": 80,
   "metadata": {
    "collapsed": true
   },
   "outputs": [],
   "source": [
    "def fibo(n):\n",
    "    if n == 1:\n",
    "        return 1\n",
    "    elif n == 2:\n",
    "        return 2\n",
    "    else:\n",
    "        return(fibo(n-1)+fibo(n-2))"
   ]
  },
  {
   "cell_type": "code",
   "execution_count": 82,
   "metadata": {
    "collapsed": false
   },
   "outputs": [],
   "source": [
    "#fibo(100)"
   ]
  },
  {
   "cell_type": "code",
   "execution_count": 1,
   "metadata": {
    "collapsed": true
   },
   "outputs": [],
   "source": [
    "texto = \"um texto legal como sempre ommmmm renato escreve\""
   ]
  },
  {
   "cell_type": "code",
   "execution_count": 11,
   "metadata": {
    "collapsed": false
   },
   "outputs": [],
   "source": [
    "def acha_posicoes(texto,letra):\n",
    "    posicoes = []\n",
    "    atual = 0\n",
    "    while not texto.find(letra) == -1:\n",
    "        posicao = texto.find(letra)\n",
    "        posicoes.append(posicao+atual)\n",
    "        atual += posicao + 1\n",
    "        texto = texto[posicao+1:]       \n",
    "    print(posicoes)"
   ]
  },
  {
   "cell_type": "code",
   "execution_count": 12,
   "metadata": {
    "collapsed": false
   },
   "outputs": [
    {
     "name": "stdout",
     "output_type": "stream",
     "text": [
      "[1, 17, 22, 28, 29, 30, 31, 32]\n"
     ]
    }
   ],
   "source": [
    "acha_posicoes(texto,'m')"
   ]
  },
  {
   "cell_type": "code",
   "execution_count": 21,
   "metadata": {
    "collapsed": true
   },
   "outputs": [],
   "source": [
    "def acha_posicoes2(texto,letra):\n",
    "    posicoes = []\n",
    "    atual = 0\n",
    "    while not texto.find(letra, atual) == -1:\n",
    "        posicao = texto.find(letra, atual)\n",
    "        posicoes.append(posicao)\n",
    "        atual = posicao + 1      \n",
    "    print(posicoes)"
   ]
  },
  {
   "cell_type": "code",
   "execution_count": 22,
   "metadata": {
    "collapsed": false
   },
   "outputs": [
    {
     "name": "stdout",
     "output_type": "stream",
     "text": [
      "[1, 17, 22, 28, 29, 30, 31, 32]\n"
     ]
    }
   ],
   "source": [
    "acha_posicoes2(texto,'m')"
   ]
  },
  {
   "cell_type": "markdown",
   "metadata": {},
   "source": [
    "Imprima o antecessor e o sucessor de cada elemento de uma lista caso este elemento seja inteiro ou uma string que represente um inteiro"
   ]
  },
  {
   "cell_type": "code",
   "execution_count": 12,
   "metadata": {
    "collapsed": false
   },
   "outputs": [],
   "source": [
    "def imprime_ant_suc(lista):\n",
    "    for elemento in lista:\n",
    "        if type(elemento) == int:\n",
    "            print(elemento - 1, elemento + 1)\n",
    "        elif type(elemento) == str and elemento.isdigit():\n",
    "            print(int(elemento) - 1, int(elemento) + 1)\n",
    "        else:\n",
    "            print('Não é um inteiro')"
   ]
  },
  {
   "cell_type": "code",
   "execution_count": 14,
   "metadata": {
    "collapsed": false
   },
   "outputs": [
    {
     "name": "stdout",
     "output_type": "stream",
     "text": [
      "0 2\n",
      "1 3\n",
      "Não é um inteiro\n",
      "Não é um inteiro\n",
      "2 4\n",
      "33 35\n",
      "22 24\n",
      "Não é um inteiro\n"
     ]
    }
   ],
   "source": [
    "lista = ['1',2,'1.4',1.5,'3','34',23,'outra coisa']\n",
    "imprime_ant_suc(lista)"
   ]
  },
  {
   "cell_type": "code",
   "execution_count": null,
   "metadata": {
    "collapsed": true
   },
   "outputs": [],
   "source": []
  }
 ],
 "metadata": {
  "kernelspec": {
   "display_name": "Python 3",
   "language": "python",
   "name": "python3"
  },
  "language_info": {
   "codemirror_mode": {
    "name": "ipython",
    "version": 3
   },
   "file_extension": ".py",
   "mimetype": "text/x-python",
   "name": "python",
   "nbconvert_exporter": "python",
   "pygments_lexer": "ipython3",
   "version": "3.5.1+"
  }
 },
 "nbformat": 4,
 "nbformat_minor": 0
}
