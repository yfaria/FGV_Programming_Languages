{
 "cells": [
  {
   "cell_type": "code",
   "execution_count": 1,
   "metadata": {},
   "outputs": [
    {
     "name": "stdout",
     "output_type": "stream",
     "text": [
      "2\n",
      "7\n",
      "X = 9\n"
     ]
    }
   ],
   "source": [
    "### PROB 1001 ###\n",
    "A = int(input())\n",
    "B = int(input())\n",
    "print('X = ' + str(A+B))"
   ]
  },
  {
   "cell_type": "code",
   "execution_count": 28,
   "metadata": {},
   "outputs": [
    {
     "name": "stdout",
     "output_type": "stream",
     "text": [
      "Valor:   7.89\n",
      "Valor:   7.89\n",
      "Valor:  7.892\n"
     ]
    }
   ],
   "source": [
    "valor = 7.8916452355\n",
    "print('Valor:{0:7.2f}'.format(valor)) #fica reservado 7 colunas numa linha de texto para o número\n",
    "print('Valor:{:7.2f}'.format(valor)) # o 0 de antes se refere ao elemente de indice 0 dentro do format.\n",
    "print('Valor:{:7.3f}'.format(valor)) #perceba que ele não faz o truncate do float, ele arrendonda antes de botar."
   ]
  },
  {
   "cell_type": "code",
   "execution_count": 12,
   "metadata": {},
   "outputs": [
    {
     "name": "stdout",
     "output_type": "stream",
     "text": [
      "150.00\n",
      "A=70685.7750\n"
     ]
    }
   ],
   "source": [
    "### PROB 1002 ###\n",
    "R = float(input())\n",
    "A = round(3.14159 * R**2, 4)\n",
    "print(\"A={:.4f}\".format(A))\n",
    "#print(\"A={.4f}\".format(A))\n",
    "#print(\"A={4f}\".format(A))"
   ]
  },
  {
   "cell_type": "code",
   "execution_count": 13,
   "metadata": {},
   "outputs": [
    {
     "name": "stdout",
     "output_type": "stream",
     "text": [
      "2\n",
      "9\n",
      "SOMA = 11\n"
     ]
    }
   ],
   "source": [
    "### PROB 1003 ###\n",
    "A = int(input())\n",
    "B = int(input())\n",
    "SOMA = A + B\n",
    "print('SOMA = {}'.format(SOMA))"
   ]
  },
  {
   "cell_type": "code",
   "execution_count": 24,
   "metadata": {},
   "outputs": [
    {
     "name": "stdout",
     "output_type": "stream",
     "text": [
      "6\n",
      "9\n",
      "PROD = 54\n"
     ]
    }
   ],
   "source": [
    "### PROB 1004 ###\n",
    "A = int(input())\n",
    "B = int(input())\n",
    "PROD = A * B\n",
    "print('PROD = {}'.format(PROD))"
   ]
  },
  {
   "cell_type": "code",
   "execution_count": 25,
   "metadata": {},
   "outputs": [
    {
     "name": "stdout",
     "output_type": "stream",
     "text": [
      "7.1\n",
      "9\n",
      "MEDIA = 8.39545\n"
     ]
    }
   ],
   "source": [
    "### PROB 1005 ###\n",
    "A = float(input())\n",
    "B = float(input())\n",
    "MEDIA = round((3.5*A + 7.5*B)/11, 5)\n",
    "print('MEDIA = {:.5f}'.format(MEDIA))"
   ]
  },
  {
   "cell_type": "code",
   "execution_count": 29,
   "metadata": {},
   "outputs": [
    {
     "name": "stdout",
     "output_type": "stream",
     "text": [
      "5\n",
      "10\n",
      "10\n",
      "MEDIA = 9.00\n"
     ]
    }
   ],
   "source": [
    "### PROB 1006 ###\n",
    "A = float(input())\n",
    "B = float(input())\n",
    "C = float(input())\n",
    "MEDIA = (2*A + 3*B + 5*C)/10\n",
    "print('MEDIA = {:.1f}'.format(MEDIA))"
   ]
  },
  {
   "cell_type": "code",
   "execution_count": null,
   "metadata": {},
   "outputs": [],
   "source": [
    "### PROB 1007 ###\n",
    "A = int(input())\n",
    "B = int(input())\n",
    "C = int(input())\n",
    "D = int(input())\n",
    "DIFERENCA = A*B - C*D\n",
    "print('DIFERENCA = {}'.format(DIFERENCA))"
   ]
  },
  {
   "cell_type": "code",
   "execution_count": 36,
   "metadata": {},
   "outputs": [
    {
     "name": "stdout",
     "output_type": "stream",
     "text": [
      "5\n",
      "100\n",
      "200\n",
      "NUMBER = 5\n",
      "SALARY = U$ 5.00\n"
     ]
    }
   ],
   "source": [
    "### PROB 1008 ###\n",
    "number = int(input())\n",
    "hours = int(input())\n",
    "salperhour = float(input())\n",
    "salary = hours * salperhour\n",
    "print('NUMBER = {}\\nSALARY = U$ {:.2f}'.format(number, salary))\n",
    "#print('NUMBER = {0}\\nSALARY = U$ {1:.2f}'.format(number, salary))\n",
    "#print('NUMBER = {}\\nSALARY = U$ {0:.2f}'.format(number, salary)) dá errado, ele não troca de reconhecimento auto para manual\n"
   ]
  },
  {
   "cell_type": "code",
   "execution_count": null,
   "metadata": {},
   "outputs": [],
   "source": [
    "### PROB 1009 ###\n",
    "employee = input()\n",
    "salary = float(input())\n",
    "sold = float(input())\n",
    "total = salary + 0.15*sold\n",
    "print('TOTAL = R$ {:.2f}'.format(total))"
   ]
  },
  {
   "cell_type": "code",
   "execution_count": 43,
   "metadata": {},
   "outputs": [
    {
     "name": "stdout",
     "output_type": "stream",
     "text": [
      "12 5 5.5\n"
     ]
    }
   ],
   "source": [
    "texto = input().split()"
   ]
  },
  {
   "cell_type": "code",
   "execution_count": 44,
   "metadata": {},
   "outputs": [
    {
     "data": {
      "text/plain": [
       "['12', '5', '5.5']"
      ]
     },
     "execution_count": 44,
     "metadata": {},
     "output_type": "execute_result"
    }
   ],
   "source": [
    "texto"
   ]
  },
  {
   "cell_type": "code",
   "execution_count": 47,
   "metadata": {},
   "outputs": [
    {
     "name": "stdout",
     "output_type": "stream",
     "text": [
      "12 1 5.30\n",
      "16 2 2.00\n",
      "VALOR A PAGAR: R$ 9.30\n"
     ]
    }
   ],
   "source": [
    "### PROB 1010 ###\n",
    "A = input().split()\n",
    "B = input().split()\n",
    "print('VALOR A PAGAR: R$ {:.2f}'.format(float(A[2])*int(A[1]) + float(B[2])*int(B[1])))"
   ]
  },
  {
   "cell_type": "code",
   "execution_count": null,
   "metadata": {},
   "outputs": [],
   "source": [
    "### PROB 1011 ###\n",
    "R = float(input())\n",
    "V = (4/3) * 3.14159 * (R**3)\n",
    "print('VOLUME = {:.3f}'.format(V))"
   ]
  },
  {
   "cell_type": "code",
   "execution_count": 8,
   "metadata": {},
   "outputs": [
    {
     "name": "stdout",
     "output_type": "stream",
     "text": [
      "12.7 10.4 15.2\n",
      "TRIANGULO: 96.520\n",
      "CIRCULO: 725.833\n",
      "TRAPEZIO: 175.560\n",
      "QUADRADO: 20.800\n",
      "RETANGULO: 132.080\n"
     ]
    }
   ],
   "source": [
    "### PROB 1012 ###\n",
    "entrada = input()\n",
    "lista = entrada.split()\n",
    "lista = [float(elemento) for elemento in lista]\n",
    "A,B,C = lista\n",
    "trig = A*C / 2\n",
    "circ = 3.14159 * (C**2)\n",
    "trap = (A+B) * C / 2\n",
    "quad = B**2\n",
    "rect = A*B\n",
    "print('TRIANGULO: {:.3f}'.format(trig))\n",
    "print('CIRCULO: {:.3f}'.format(circ))\n",
    "print('TRAPEZIO: {:.3f}'.format(trap))\n",
    "print('QUADRADO: {:.3f}'.format(quad))\n",
    "print('RETANGULO: {:.3f}'.format(rect))"
   ]
  },
  {
   "cell_type": "code",
   "execution_count": null,
   "metadata": {},
   "outputs": [],
   "source": [
    "### PROB 1013 ###\n",
    "entrada = input()\n",
    "lista = entrada.split()\n",
    "lista = [int(elemento) for elemento in lista]\n",
    "print('{} eh o maior'.format(max(lista)))\n",
    "\n"
   ]
  },
  {
   "cell_type": "code",
   "execution_count": null,
   "metadata": {},
   "outputs": [],
   "source": [
    "### PROB 1014 ###\n",
    "desloc = int(input())\n",
    "consumo = float(input())\n",
    "deslocmedio = desloc / consumo\n",
    "print('{:.3f} km/l'.format(deslocmedio))\n"
   ]
  },
  {
   "cell_type": "code",
   "execution_count": 10,
   "metadata": {},
   "outputs": [
    {
     "name": "stdout",
     "output_type": "stream",
     "text": [
      "2.5 -0.4\n",
      "-12.2 7.0\n",
      "16.45752107700306\n"
     ]
    }
   ],
   "source": [
    "### PROB 1015 ###\n",
    "p1 = input()\n",
    "p2 = input()\n",
    "p1 = p1.split()\n",
    "p2 = p2.split()\n",
    "p1 = [float(numero) for numero in  p1]\n",
    "p2 = [float(numero) for numero in  p2]\n",
    "x1, y1 = p1\n",
    "x2, y2 = p2\n",
    "D = ((x2 - x1)**2 + (y2 - y1)**2 )**(1/2)\n",
    "print(round(D,4))"
   ]
  },
  {
   "cell_type": "code",
   "execution_count": null,
   "metadata": {},
   "outputs": [],
   "source": [
    "### PROB 1016 ###\n",
    "D = int(input())\n",
    "t = 2*D\n",
    "print('{} minutos'.format(t))"
   ]
  },
  {
   "cell_type": "code",
   "execution_count": 13,
   "metadata": {},
   "outputs": [
    {
     "name": "stdout",
     "output_type": "stream",
     "text": [
      "10\n",
      "85\n",
      "70.833\n"
     ]
    }
   ],
   "source": [
    "### PROB 1017 ###\n",
    "time = int(input())\n",
    "avgspeed = int(input())\n",
    "D = avgspeed * time / 12\n",
    "print(round(D,3))"
   ]
  },
  {
   "cell_type": "code",
   "execution_count": 19,
   "metadata": {},
   "outputs": [
    {
     "name": "stdout",
     "output_type": "stream",
     "text": [
      "576\n",
      "576\n",
      "5 nota(s) de R$ 100,00\n",
      "1 nota(s) de R$ 50,00\n",
      "1 nota(s) de R$ 20,00\n",
      "0 nota(s) de R$ 10,00\n",
      "1 nota(s) de R$ 5,00\n",
      "0 nota(s) de R$ 2,00\n",
      "1 nota(s) de R$ 1,00\n"
     ]
    }
   ],
   "source": [
    "### PROB 1018 ###\n",
    "dinheiro = int(input())\n",
    "dinotas = dinheiro\n",
    "n100, n50, n20, n10, n5, n2, n1 = 0,0,0,0,0,0,0\n",
    "while dinotas >= 100:\n",
    "    n100 += 1\n",
    "    dinotas -= 100\n",
    "while dinotas >= 50:\n",
    "    n50 += 1\n",
    "    dinotas -= 50\n",
    "while dinotas >= 20:\n",
    "    n20 += 1\n",
    "    dinotas -= 20\n",
    "while dinotas >= 10:\n",
    "    n10 += 1\n",
    "    dinotas -= 10\n",
    "while dinotas >= 5:\n",
    "    n5 += 1\n",
    "    dinotas -= 5\n",
    "while dinotas >= 2:\n",
    "    n2 += 1\n",
    "    dinotas -= 2\n",
    "while dinotas >= 1:\n",
    "    n1 += 1\n",
    "    dinotas -= 1\n",
    "print('{}\\n{} nota(s) de R$ 100,00\\n{} nota(s) de R$ 50,00\\n{} nota(s) de R$ 20,00\\n{} nota(s) de R$ 10,00\\n{} nota(s) de R$ 5,00\\n{} nota(s) de R$ 2,00\\n{} nota(s) de R$ 1,00'.format(dinheiro,n100,n50,n20,n10,n5,n2,n1))"
   ]
  },
  {
   "cell_type": "code",
   "execution_count": 13,
   "metadata": {},
   "outputs": [
    {
     "name": "stdout",
     "output_type": "stream",
     "text": [
      "134.04\n",
      "NOTAS:\n",
      "1 nota(s) de R$ 100,00\n",
      "0 nota(s) de R$ 50,00\n",
      "1 nota(s) de R$ 20,00\n",
      "1 nota(s) de R$ 10,00\n",
      "0 nota(s) de R$ 5,00\n",
      "2 nota(s) de R$ 2,00\n",
      "MOEDAS:\n",
      "0 moeda(s) de R$ 1,00\n",
      "0 moeda(s) de R$ 0,50\n",
      "0 moeda(s) de R$ 0,25\n",
      "0 moeda(s) de R$ 0,10\n",
      "0 moeda(s) de R$ 0,05\n",
      "4 moeda(s) de R$ 0,01\n"
     ]
    }
   ],
   "source": [
    "dinheiro = float(input())\n",
    "dinheiro = int(100*dinheiro)\n",
    "n100, n50, n20, n10, n5, n2 = 0, 0, 0, 0, 0, 0\n",
    "m100, m50, m25, m10, m5, m1 = 0, 0, 0, 0, 0, 0\n",
    "while dinheiro >= 10000:\n",
    "    n100 += 1\n",
    "    dinheiro -= 10000\n",
    "while dinheiro >= 5000:\n",
    "    n50 += 1\n",
    "    dinheiro -= 5000\n",
    "while dinheiro >= 2000:\n",
    "    n20 += 1\n",
    "    dinheiro -= 2000\n",
    "while dinheiro >= 1000:\n",
    "    n10 += 1\n",
    "    dinheiro -= 1000\n",
    "while dinheiro >= 500:\n",
    "    n5 += 1\n",
    "    dinheiro -= 500\n",
    "while dinheiro >= 200:\n",
    "    n2 += 1\n",
    "    dinheiro -= 200\n",
    "while dinheiro >= 100:\n",
    "    m100 += 1\n",
    "    dinheiro -= 100\n",
    "while dinheiro >= 50:\n",
    "    m50 += 1\n",
    "    dinheiro -= 50\n",
    "while dinheiro >= 25:\n",
    "    m25 += 1\n",
    "    dinheiro -= 25\n",
    "while dinheiro >= 10:\n",
    "    m10 += 1\n",
    "    dinheiro -= 10\n",
    "while dinheiro >= 5:\n",
    "    m5 += 1\n",
    "    dinheiro -= 5\n",
    "while dinheiro > 0:\n",
    "    m1 += 1\n",
    "    dinheiro -= 1\n",
    "#print('NOTAS:\\n{} nota(s) de R$ 100,00\\n{} nota(s) de R$ 50,00\\n{} nota(s) de R$ 20,00\\n{} nota(s) de R$ 10,00\\n{} nota(s) de R$ 5,00\\n{} nota(s) de R$ 2,00'.format(n100,n50,n20,n10,n5,n2))\n",
    "#print('MOEDAS:\\n{} moeda(s) de R$ 1,00\\n{} moeda(s) de R$ 0,50\\n{} moeda(s) de R$ 0,25\\n{} moeda(s) de R$ 0,10\\n{} moeda(s) de R$ 0,05\\n{} moeda(s) de R$ 0,01'.format(m100,m50,m25,m10,m5,m1))\n",
    "print('NOTAS:\\n{} nota(s) de R$ 100,00\\n{} nota(s) de R$ 50,00\\n{} nota(s) de R$ 20,00\\n{} nota(s) de R$ 10,00\\n{} nota(s) de R$ 5,00\\n{} nota(s) de R$ 2,00\\nMOEDAS:\\n{} moeda(s) de R$ 1,00\\n{} moeda(s) de R$ 0,50\\n{} moeda(s) de R$ 0,25\\n{} moeda(s) de R$ 0,10\\n{} moeda(s) de R$ 0,05\\n{} moeda(s) de R$ 0,01'.format(n100,n50,n20,n10,n5,n2,m100,m50,m25,m10,m5,m1))\n"
   ]
  },
  {
   "cell_type": "code",
   "execution_count": 16,
   "metadata": {},
   "outputs": [],
   "source": [
    "a = '164851.28'.split('.')"
   ]
  },
  {
   "cell_type": "code",
   "execution_count": 17,
   "metadata": {},
   "outputs": [
    {
     "data": {
      "text/plain": [
       "['164851', '28']"
      ]
     },
     "execution_count": 17,
     "metadata": {},
     "output_type": "execute_result"
    }
   ],
   "source": [
    "a"
   ]
  },
  {
   "cell_type": "code",
   "execution_count": 28,
   "metadata": {},
   "outputs": [
    {
     "name": "stdout",
     "output_type": "stream",
     "text": [
      "91.01\n",
      "NOTAS:\n",
      "0 nota(s) de R$ 100,00\n",
      "1 nota(s) de R$ 50,00\n",
      "2 nota(s) de R$ 20,00\n",
      "0 nota(s) de R$ 10,00\n",
      "0 nota(s) de R$ 5,00\n",
      "0 nota(s) de R$ 2,00\n",
      "MOEDAS:\n",
      "1 moeda(s) de R$ 1,00\n",
      "0 moeda(s) de R$ 0,50\n",
      "0 moeda(s) de R$ 0,25\n",
      "0 moeda(s) de R$ 0,10\n",
      "0 moeda(s) de R$ 0,05\n",
      "1 moeda(s) de R$ 0,01\n"
     ]
    }
   ],
   "source": [
    "dinheiro = input()\n",
    "dinheiro = dinheiro.split('.')\n",
    "reais, centavos = int(dinheiro[0]), int(dinheiro[1]) \n",
    "n100, n50, n20, n10, n5, n2 = 0, 0, 0, 0, 0, 0\n",
    "m100, m50, m25, m10, m5, m1 = 0, 0, 0, 0, 0, 0\n",
    "while reais >= 100:\n",
    "    n100 += 1\n",
    "    reais -= 100\n",
    "while reais >= 50:\n",
    "    n50 += 1\n",
    "    reais -= 50\n",
    "while reais >= 20:\n",
    "    n20 += 1\n",
    "    reais -= 20\n",
    "while reais >= 10:\n",
    "    n10 += 1\n",
    "    reais -= 10\n",
    "while reais >= 5:\n",
    "    n5 += 1\n",
    "    reais -= 5\n",
    "while reais >= 2:\n",
    "    n2 += 1\n",
    "    reais -= 2\n",
    "    \n",
    "if reais == 1:\n",
    "    centavos += 100\n",
    "while centavos >= 100:\n",
    "    m100 += 1\n",
    "    centavos -= 100\n",
    "while centavos >= 50:\n",
    "    m50 += 1\n",
    "    centavos -= 50\n",
    "while centavos >= 25:\n",
    "    m25 += 1\n",
    "    centavos -= 25\n",
    "while centavos >= 10:\n",
    "    m10 += 1\n",
    "    centavos -= 10\n",
    "while centavos >= 5:\n",
    "    m5 += 1\n",
    "    centavos -= 5\n",
    "while centavos > 0:\n",
    "    m1 += 1\n",
    "    centavos -= 1\n",
    "#print('NOTAS:\\n{} nota(s) de R$ 100,00\\n{} nota(s) de R$ 50,00\\n{} nota(s) de R$ 20,00\\n{} nota(s) de R$ 10,00\\n{} nota(s) de R$ 5,00\\n{} nota(s) de R$ 2,00'.format(n100,n50,n20,n10,n5,n2))\n",
    "#print('MOEDAS:\\n{} moeda(s) de R$ 1,00\\n{} moeda(s) de R$ 0,50\\n{} moeda(s) de R$ 0,25\\n{} moeda(s) de R$ 0,10\\n{} moeda(s) de R$ 0,05\\n{} moeda(s) de R$ 0,01'.format(m100,m50,m25,m10,m5,m1))\n",
    "print('NOTAS:\\n{} nota(s) de R$ 100.00\\n{} nota(s) de R$ 50.00\\n{} nota(s) de R$ 20.00\\n{} nota(s) de R$ 10.00\\n{} nota(s) de R$ 5.00\\n{} nota(s) de R$ 2.00\\nMOEDAS:\\n{} moeda(s) de R$ 1.00\\n{} moeda(s) de R$ 0.50\\n{} moeda(s) de R$ 0.25\\n{} moeda(s) de R$ 0.10\\n{} moeda(s) de R$ 0.05\\n{} moeda(s) de R$ 0.01'.format(n100,n50,n20,n10,n5,n2,m100,m50,m25,m10,m5,m1))\n"
   ]
  },
  {
   "cell_type": "code",
   "execution_count": 29,
   "metadata": {},
   "outputs": [
    {
     "name": "stdout",
     "output_type": "stream",
     "text": [
      "2 3 4 5\n"
     ]
    }
   ],
   "source": [
    "p = input().split()"
   ]
  },
  {
   "cell_type": "code",
   "execution_count": 30,
   "metadata": {},
   "outputs": [
    {
     "data": {
      "text/plain": [
       "['2', '3', '4', '5']"
      ]
     },
     "execution_count": 30,
     "metadata": {},
     "output_type": "execute_result"
    }
   ],
   "source": [
    "p"
   ]
  },
  {
   "cell_type": "code",
   "execution_count": 33,
   "metadata": {},
   "outputs": [
    {
     "name": "stdout",
     "output_type": "stream",
     "text": [
      "10.0 20.1 52152\n",
      "Impossivel calcular\n"
     ]
    }
   ],
   "source": [
    "numeros = input().split()\n",
    "A, B, C = float(numeros[0]), float(numeros[1]), float(numeros[2])\n",
    "if B**2 - 4*A*C < 0 or A == 0:\n",
    "    print('Impossivel calcular')\n",
    "else:\n",
    "    R1 = (-B + (B**2 - 4*A*C)**(1/2)) / (2 * A)\n",
    "    R2 = (-B - (B**2 - 4*A*C)**(1/2)) / (2 * A)"
   ]
  },
  {
   "cell_type": "code",
   "execution_count": 36,
   "metadata": {},
   "outputs": [
    {
     "name": "stdout",
     "output_type": "stream",
     "text": [
      "3 2\n",
      "Total: R$ 10.0\n"
     ]
    }
   ],
   "source": [
    "list = input().split()\n",
    "X, Y = int(list[0]), int(list[1])\n",
    "if X == 1:\n",
    "    print('Total: R$ {:.2f}'.format(4.00*Y))\n",
    "elif X == 2:\n",
    "    print('Total: R$ {:.2f}'.format(4.50*Y))\n",
    "elif X == 3:\n",
    "    print('Total: R$ {:.2f}'.format(5.00*Y))\n",
    "elif X == 4:\n",
    "    print('Total: R$ {:.2f}'.format(2.00*Y))\n",
    "elif X == 5:\n",
    "    print('Total: R$ {:.2f}'.format(1.50*Y))\n",
    "    "
   ]
  }
 ],
 "metadata": {
  "kernelspec": {
   "display_name": "Python 3",
   "language": "python",
   "name": "python3"
  },
  "language_info": {
   "codemirror_mode": {
    "name": "ipython",
    "version": 3
   },
   "file_extension": ".py",
   "mimetype": "text/x-python",
   "name": "python",
   "nbconvert_exporter": "python",
   "pygments_lexer": "ipython3",
   "version": "3.5.2"
  }
 },
 "nbformat": 4,
 "nbformat_minor": 2
}
