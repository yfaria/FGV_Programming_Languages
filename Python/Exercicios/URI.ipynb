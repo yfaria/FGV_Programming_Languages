{
 "cells": [
  {
   "cell_type": "code",
   "execution_count": 1,
   "metadata": {},
   "outputs": [
    {
     "name": "stdout",
     "output_type": "stream",
     "text": [
      "2\n",
      "7\n",
      "X = 9\n"
     ]
    }
   ],
   "source": [
    "### PROB 1001 ###\n",
    "A = int(input())\n",
    "B = int(input())\n",
    "print('X = ' + str(A+B))"
   ]
  },
  {
   "cell_type": "code",
   "execution_count": 28,
   "metadata": {},
   "outputs": [
    {
     "name": "stdout",
     "output_type": "stream",
     "text": [
      "Valor:   7.89\n",
      "Valor:   7.89\n",
      "Valor:  7.892\n"
     ]
    }
   ],
   "source": [
    "valor = 7.8916452355\n",
    "print('Valor:{0:7.2f}'.format(valor)) #fica reservado 7 colunas numa linha de texto para o número\n",
    "print('Valor:{:7.2f}'.format(valor)) # o 0 de antes se refere ao elemente de indice 0 dentro do format.\n",
    "print('Valor:{:7.3f}'.format(valor)) #perceba que ele não faz o truncate do float, ele arrendonda antes de botar."
   ]
  },
  {
   "cell_type": "code",
   "execution_count": 12,
   "metadata": {},
   "outputs": [
    {
     "name": "stdout",
     "output_type": "stream",
     "text": [
      "150.00\n",
      "A=70685.7750\n"
     ]
    }
   ],
   "source": [
    "### PROB 1002 ###\n",
    "R = float(input())\n",
    "A = round(3.14159 * R**2, 4)\n",
    "print(\"A={:.4f}\".format(A))\n",
    "#print(\"A={.4f}\".format(A))\n",
    "#print(\"A={4f}\".format(A))"
   ]
  },
  {
   "cell_type": "code",
   "execution_count": 13,
   "metadata": {},
   "outputs": [
    {
     "name": "stdout",
     "output_type": "stream",
     "text": [
      "2\n",
      "9\n",
      "SOMA = 11\n"
     ]
    }
   ],
   "source": [
    "### PROB 1003 ###\n",
    "A = int(input())\n",
    "B = int(input())\n",
    "SOMA = A + B\n",
    "print('SOMA = {}'.format(SOMA))"
   ]
  },
  {
   "cell_type": "code",
   "execution_count": 24,
   "metadata": {},
   "outputs": [
    {
     "name": "stdout",
     "output_type": "stream",
     "text": [
      "6\n",
      "9\n",
      "PROD = 54\n"
     ]
    }
   ],
   "source": [
    "### PROB 1004 ###\n",
    "A = int(input())\n",
    "B = int(input())\n",
    "PROD = A * B\n",
    "print('PROD = {}'.format(PROD))"
   ]
  },
  {
   "cell_type": "code",
   "execution_count": 25,
   "metadata": {},
   "outputs": [
    {
     "name": "stdout",
     "output_type": "stream",
     "text": [
      "7.1\n",
      "9\n",
      "MEDIA = 8.39545\n"
     ]
    }
   ],
   "source": [
    "### PROB 1005 ###\n",
    "A = float(input())\n",
    "B = float(input())\n",
    "MEDIA = round((3.5*A + 7.5*B)/11, 5)\n",
    "print('MEDIA = {:.5f}'.format(MEDIA))"
   ]
  },
  {
   "cell_type": "code",
   "execution_count": 29,
   "metadata": {},
   "outputs": [
    {
     "name": "stdout",
     "output_type": "stream",
     "text": [
      "5\n",
      "10\n",
      "10\n",
      "MEDIA = 9.00\n"
     ]
    }
   ],
   "source": [
    "### PROB 1006 ###\n",
    "A = float(input())\n",
    "B = float(input())\n",
    "C = float(input())\n",
    "MEDIA = (2*A + 3*B + 5*C)/10\n",
    "print('MEDIA = {:.1f}'.format(MEDIA))"
   ]
  },
  {
   "cell_type": "code",
   "execution_count": null,
   "metadata": {},
   "outputs": [],
   "source": [
    "### PROB 1007 ###\n",
    "A = int(input())\n",
    "B = int(input())\n",
    "C = int(input())\n",
    "D = int(input())\n",
    "DIFERENCA = A*B - C*D\n",
    "print('DIFERENCA = {}'.format(DIFERENCA))"
   ]
  },
  {
   "cell_type": "code",
   "execution_count": 36,
   "metadata": {},
   "outputs": [
    {
     "name": "stdout",
     "output_type": "stream",
     "text": [
      "5\n",
      "100\n",
      "200\n",
      "NUMBER = 5\n",
      "SALARY = U$ 5.00\n"
     ]
    }
   ],
   "source": [
    "### PROB 1008 ###\n",
    "number = int(input())\n",
    "hours = int(input())\n",
    "salperhour = float(input())\n",
    "salary = hours * salperhour\n",
    "print('NUMBER = {}\\nSALARY = U$ {:.2f}'.format(number, salary))\n",
    "#print('NUMBER = {0}\\nSALARY = U$ {1:.2f}'.format(number, salary))\n",
    "#print('NUMBER = {}\\nSALARY = U$ {0:.2f}'.format(number, salary)) dá errado, ele não troca de reconhecimento auto para manual\n"
   ]
  },
  {
   "cell_type": "code",
   "execution_count": null,
   "metadata": {},
   "outputs": [],
   "source": [
    "### PROB 1009 ###\n",
    "employee = input()\n",
    "salary = float(input())\n",
    "sold = float(input())\n",
    "total = salary + 0.15*sold\n",
    "print('TOTAL = R$ {:.2f}'.format(total))"
   ]
  },
  {
   "cell_type": "code",
   "execution_count": 43,
   "metadata": {},
   "outputs": [
    {
     "name": "stdout",
     "output_type": "stream",
     "text": [
      "12 5 5.5\n"
     ]
    }
   ],
   "source": [
    "texto = input().split()"
   ]
  },
  {
   "cell_type": "code",
   "execution_count": 44,
   "metadata": {},
   "outputs": [
    {
     "data": {
      "text/plain": [
       "['12', '5', '5.5']"
      ]
     },
     "execution_count": 44,
     "metadata": {},
     "output_type": "execute_result"
    }
   ],
   "source": [
    "texto"
   ]
  },
  {
   "cell_type": "code",
   "execution_count": 47,
   "metadata": {},
   "outputs": [
    {
     "name": "stdout",
     "output_type": "stream",
     "text": [
      "12 1 5.30\n",
      "16 2 2.00\n",
      "VALOR A PAGAR: R$ 9.30\n"
     ]
    }
   ],
   "source": [
    "### PROB 1010 ###\n",
    "A = input().split()\n",
    "B = input().split()\n",
    "print('VALOR A PAGAR: R$ {:.2f}'.format(float(A[2])*int(A[1]) + float(B[2])*int(B[1])))"
   ]
  },
  {
   "cell_type": "code",
   "execution_count": null,
   "metadata": {},
   "outputs": [],
   "source": [
    "### PROB 1011 ###\n",
    "R = float(input())\n",
    "V = (4/3) * 3.14159 * (R**3)\n",
    "print('VOLUME = {:.3f}'.format(V))"
   ]
  },
  {
   "cell_type": "code",
   "execution_count": 8,
   "metadata": {},
   "outputs": [
    {
     "name": "stdout",
     "output_type": "stream",
     "text": [
      "12.7 10.4 15.2\n",
      "TRIANGULO: 96.520\n",
      "CIRCULO: 725.833\n",
      "TRAPEZIO: 175.560\n",
      "QUADRADO: 20.800\n",
      "RETANGULO: 132.080\n"
     ]
    }
   ],
   "source": [
    "### PROB 1012 ###\n",
    "entrada = input()\n",
    "lista = entrada.split()\n",
    "lista = [float(elemento) for elemento in lista]\n",
    "A,B,C = lista\n",
    "trig = A*C / 2\n",
    "circ = 3.14159 * (C**2)\n",
    "trap = (A+B) * C / 2\n",
    "quad = B**2\n",
    "rect = A*B\n",
    "print('TRIANGULO: {:.3f}'.format(trig))\n",
    "print('CIRCULO: {:.3f}'.format(circ))\n",
    "print('TRAPEZIO: {:.3f}'.format(trap))\n",
    "print('QUADRADO: {:.3f}'.format(quad))\n",
    "print('RETANGULO: {:.3f}'.format(rect))"
   ]
  },
  {
   "cell_type": "code",
   "execution_count": null,
   "metadata": {},
   "outputs": [],
   "source": [
    "### PROB 1013 ###\n",
    "entrada = input()\n",
    "lista = entrada.split()\n",
    "lista = [int(elemento) for elemento in lista]\n",
    "print('{} eh o maior'.format(max(lista)))\n",
    "\n"
   ]
  },
  {
   "cell_type": "code",
   "execution_count": null,
   "metadata": {},
   "outputs": [],
   "source": [
    "### PROB 1014 ###\n",
    "desloc = int(input())\n",
    "consumo = float(input())\n",
    "deslocmedio = desloc / consumo\n",
    "print('{:.3f} km/l'.format(deslocmedio))\n"
   ]
  },
  {
   "cell_type": "code",
   "execution_count": 10,
   "metadata": {},
   "outputs": [
    {
     "name": "stdout",
     "output_type": "stream",
     "text": [
      "2.5 -0.4\n",
      "-12.2 7.0\n",
      "16.45752107700306\n"
     ]
    }
   ],
   "source": [
    "### PROB 1015 ###\n",
    "p1 = input()\n",
    "p2 = input()\n",
    "p1 = p1.split()\n",
    "p2 = p2.split()\n",
    "p1 = [float(numero) for numero in  p1]\n",
    "p2 = [float(numero) for numero in  p2]\n",
    "x1, y1 = p1\n",
    "x2, y2 = p2\n",
    "D = ((x2 - x1)**2 + (y2 - y1)**2 )**(1/2)\n",
    "print(round(D,4))"
   ]
  },
  {
   "cell_type": "code",
   "execution_count": null,
   "metadata": {},
   "outputs": [],
   "source": [
    "### PROB 1016 ###\n",
    "D = int(input())\n",
    "t = 2*D\n",
    "print('{} minutos'.format(t))"
   ]
  },
  {
   "cell_type": "code",
   "execution_count": 13,
   "metadata": {},
   "outputs": [
    {
     "name": "stdout",
     "output_type": "stream",
     "text": [
      "10\n",
      "85\n",
      "70.833\n"
     ]
    }
   ],
   "source": [
    "### PROB 1017 ###\n",
    "time = int(input())\n",
    "avgspeed = int(input())\n",
    "D = avgspeed * time / 12\n",
    "print(round(D,3))"
   ]
  },
  {
   "cell_type": "code",
   "execution_count": 19,
   "metadata": {},
   "outputs": [
    {
     "name": "stdout",
     "output_type": "stream",
     "text": [
      "576\n",
      "576\n",
      "5 nota(s) de R$ 100,00\n",
      "1 nota(s) de R$ 50,00\n",
      "1 nota(s) de R$ 20,00\n",
      "0 nota(s) de R$ 10,00\n",
      "1 nota(s) de R$ 5,00\n",
      "0 nota(s) de R$ 2,00\n",
      "1 nota(s) de R$ 1,00\n"
     ]
    }
   ],
   "source": [
    "### PROB 1018 ###\n",
    "dinheiro = int(input())\n",
    "dinotas = dinheiro\n",
    "n100, n50, n20, n10, n5, n2, n1 = 0,0,0,0,0,0,0\n",
    "while dinotas >= 100:\n",
    "    n100 += 1\n",
    "    dinotas -= 100\n",
    "while dinotas >= 50:\n",
    "    n50 += 1\n",
    "    dinotas -= 50\n",
    "while dinotas >= 20:\n",
    "    n20 += 1\n",
    "    dinotas -= 20\n",
    "while dinotas >= 10:\n",
    "    n10 += 1\n",
    "    dinotas -= 10\n",
    "while dinotas >= 5:\n",
    "    n5 += 1\n",
    "    dinotas -= 5\n",
    "while dinotas >= 2:\n",
    "    n2 += 1\n",
    "    dinotas -= 2\n",
    "while dinotas >= 1:\n",
    "    n1 += 1\n",
    "    dinotas -= 1\n",
    "print('{}\\n{} nota(s) de R$ 100,00\\n{} nota(s) de R$ 50,00\\n{} nota(s) de R$ 20,00\\n{} nota(s) de R$ 10,00\\n{} nota(s) de R$ 5,00\\n{} nota(s) de R$ 2,00\\n{} nota(s) de R$ 1,00'.format(dinheiro,n100,n50,n20,n10,n5,n2,n1))"
   ]
  },
  {
   "cell_type": "code",
   "execution_count": 13,
   "metadata": {},
   "outputs": [
    {
     "name": "stdout",
     "output_type": "stream",
     "text": [
      "134.04\n",
      "NOTAS:\n",
      "1 nota(s) de R$ 100,00\n",
      "0 nota(s) de R$ 50,00\n",
      "1 nota(s) de R$ 20,00\n",
      "1 nota(s) de R$ 10,00\n",
      "0 nota(s) de R$ 5,00\n",
      "2 nota(s) de R$ 2,00\n",
      "MOEDAS:\n",
      "0 moeda(s) de R$ 1,00\n",
      "0 moeda(s) de R$ 0,50\n",
      "0 moeda(s) de R$ 0,25\n",
      "0 moeda(s) de R$ 0,10\n",
      "0 moeda(s) de R$ 0,05\n",
      "4 moeda(s) de R$ 0,01\n"
     ]
    }
   ],
   "source": [
    "dinheiro = float(input())\n",
    "dinheiro = int(100*dinheiro)\n",
    "n100, n50, n20, n10, n5, n2 = 0, 0, 0, 0, 0, 0\n",
    "m100, m50, m25, m10, m5, m1 = 0, 0, 0, 0, 0, 0\n",
    "while dinheiro >= 10000:\n",
    "    n100 += 1\n",
    "    dinheiro -= 10000\n",
    "while dinheiro >= 5000:\n",
    "    n50 += 1\n",
    "    dinheiro -= 5000\n",
    "while dinheiro >= 2000:\n",
    "    n20 += 1\n",
    "    dinheiro -= 2000\n",
    "while dinheiro >= 1000:\n",
    "    n10 += 1\n",
    "    dinheiro -= 1000\n",
    "while dinheiro >= 500:\n",
    "    n5 += 1\n",
    "    dinheiro -= 500\n",
    "while dinheiro >= 200:\n",
    "    n2 += 1\n",
    "    dinheiro -= 200\n",
    "while dinheiro >= 100:\n",
    "    m100 += 1\n",
    "    dinheiro -= 100\n",
    "while dinheiro >= 50:\n",
    "    m50 += 1\n",
    "    dinheiro -= 50\n",
    "while dinheiro >= 25:\n",
    "    m25 += 1\n",
    "    dinheiro -= 25\n",
    "while dinheiro >= 10:\n",
    "    m10 += 1\n",
    "    dinheiro -= 10\n",
    "while dinheiro >= 5:\n",
    "    m5 += 1\n",
    "    dinheiro -= 5\n",
    "while dinheiro > 0:\n",
    "    m1 += 1\n",
    "    dinheiro -= 1\n",
    "#print('NOTAS:\\n{} nota(s) de R$ 100,00\\n{} nota(s) de R$ 50,00\\n{} nota(s) de R$ 20,00\\n{} nota(s) de R$ 10,00\\n{} nota(s) de R$ 5,00\\n{} nota(s) de R$ 2,00'.format(n100,n50,n20,n10,n5,n2))\n",
    "#print('MOEDAS:\\n{} moeda(s) de R$ 1,00\\n{} moeda(s) de R$ 0,50\\n{} moeda(s) de R$ 0,25\\n{} moeda(s) de R$ 0,10\\n{} moeda(s) de R$ 0,05\\n{} moeda(s) de R$ 0,01'.format(m100,m50,m25,m10,m5,m1))\n",
    "print('NOTAS:\\n{} nota(s) de R$ 100,00\\n{} nota(s) de R$ 50,00\\n{} nota(s) de R$ 20,00\\n{} nota(s) de R$ 10,00\\n{} nota(s) de R$ 5,00\\n{} nota(s) de R$ 2,00\\nMOEDAS:\\n{} moeda(s) de R$ 1,00\\n{} moeda(s) de R$ 0,50\\n{} moeda(s) de R$ 0,25\\n{} moeda(s) de R$ 0,10\\n{} moeda(s) de R$ 0,05\\n{} moeda(s) de R$ 0,01'.format(n100,n50,n20,n10,n5,n2,m100,m50,m25,m10,m5,m1))\n"
   ]
  },
  {
   "cell_type": "code",
   "execution_count": 16,
   "metadata": {},
   "outputs": [],
   "source": [
    "a = '164851.28'.split('.')"
   ]
  },
  {
   "cell_type": "code",
   "execution_count": 17,
   "metadata": {},
   "outputs": [
    {
     "data": {
      "text/plain": [
       "['164851', '28']"
      ]
     },
     "execution_count": 17,
     "metadata": {},
     "output_type": "execute_result"
    }
   ],
   "source": [
    "a"
   ]
  },
  {
   "cell_type": "code",
   "execution_count": 28,
   "metadata": {},
   "outputs": [
    {
     "name": "stdout",
     "output_type": "stream",
     "text": [
      "91.01\n",
      "NOTAS:\n",
      "0 nota(s) de R$ 100,00\n",
      "1 nota(s) de R$ 50,00\n",
      "2 nota(s) de R$ 20,00\n",
      "0 nota(s) de R$ 10,00\n",
      "0 nota(s) de R$ 5,00\n",
      "0 nota(s) de R$ 2,00\n",
      "MOEDAS:\n",
      "1 moeda(s) de R$ 1,00\n",
      "0 moeda(s) de R$ 0,50\n",
      "0 moeda(s) de R$ 0,25\n",
      "0 moeda(s) de R$ 0,10\n",
      "0 moeda(s) de R$ 0,05\n",
      "1 moeda(s) de R$ 0,01\n"
     ]
    }
   ],
   "source": [
    "dinheiro = input()\n",
    "dinheiro = dinheiro.split('.')\n",
    "reais, centavos = int(dinheiro[0]), int(dinheiro[1]) \n",
    "n100, n50, n20, n10, n5, n2 = 0, 0, 0, 0, 0, 0\n",
    "m100, m50, m25, m10, m5, m1 = 0, 0, 0, 0, 0, 0\n",
    "while reais >= 100:\n",
    "    n100 += 1\n",
    "    reais -= 100\n",
    "while reais >= 50:\n",
    "    n50 += 1\n",
    "    reais -= 50\n",
    "while reais >= 20:\n",
    "    n20 += 1\n",
    "    reais -= 20\n",
    "while reais >= 10:\n",
    "    n10 += 1\n",
    "    reais -= 10\n",
    "while reais >= 5:\n",
    "    n5 += 1\n",
    "    reais -= 5\n",
    "while reais >= 2:\n",
    "    n2 += 1\n",
    "    reais -= 2\n",
    "    \n",
    "if reais == 1:\n",
    "    centavos += 100\n",
    "while centavos >= 100:\n",
    "    m100 += 1\n",
    "    centavos -= 100\n",
    "while centavos >= 50:\n",
    "    m50 += 1\n",
    "    centavos -= 50\n",
    "while centavos >= 25:\n",
    "    m25 += 1\n",
    "    centavos -= 25\n",
    "while centavos >= 10:\n",
    "    m10 += 1\n",
    "    centavos -= 10\n",
    "while centavos >= 5:\n",
    "    m5 += 1\n",
    "    centavos -= 5\n",
    "while centavos > 0:\n",
    "    m1 += 1\n",
    "    centavos -= 1\n",
    "#print('NOTAS:\\n{} nota(s) de R$ 100,00\\n{} nota(s) de R$ 50,00\\n{} nota(s) de R$ 20,00\\n{} nota(s) de R$ 10,00\\n{} nota(s) de R$ 5,00\\n{} nota(s) de R$ 2,00'.format(n100,n50,n20,n10,n5,n2))\n",
    "#print('MOEDAS:\\n{} moeda(s) de R$ 1,00\\n{} moeda(s) de R$ 0,50\\n{} moeda(s) de R$ 0,25\\n{} moeda(s) de R$ 0,10\\n{} moeda(s) de R$ 0,05\\n{} moeda(s) de R$ 0,01'.format(m100,m50,m25,m10,m5,m1))\n",
    "print('NOTAS:\\n{} nota(s) de R$ 100.00\\n{} nota(s) de R$ 50.00\\n{} nota(s) de R$ 20.00\\n{} nota(s) de R$ 10.00\\n{} nota(s) de R$ 5.00\\n{} nota(s) de R$ 2.00\\nMOEDAS:\\n{} moeda(s) de R$ 1.00\\n{} moeda(s) de R$ 0.50\\n{} moeda(s) de R$ 0.25\\n{} moeda(s) de R$ 0.10\\n{} moeda(s) de R$ 0.05\\n{} moeda(s) de R$ 0.01'.format(n100,n50,n20,n10,n5,n2,m100,m50,m25,m10,m5,m1))\n"
   ]
  },
  {
   "cell_type": "code",
   "execution_count": 29,
   "metadata": {},
   "outputs": [
    {
     "name": "stdout",
     "output_type": "stream",
     "text": [
      "2 3 4 5\n"
     ]
    }
   ],
   "source": [
    "p = input().split()"
   ]
  },
  {
   "cell_type": "code",
   "execution_count": 30,
   "metadata": {},
   "outputs": [
    {
     "data": {
      "text/plain": [
       "['2', '3', '4', '5']"
      ]
     },
     "execution_count": 30,
     "metadata": {},
     "output_type": "execute_result"
    }
   ],
   "source": [
    "p"
   ]
  },
  {
   "cell_type": "code",
   "execution_count": 33,
   "metadata": {},
   "outputs": [
    {
     "name": "stdout",
     "output_type": "stream",
     "text": [
      "10.0 20.1 52152\n",
      "Impossivel calcular\n"
     ]
    }
   ],
   "source": [
    "numeros = input().split()\n",
    "A, B, C = float(numeros[0]), float(numeros[1]), float(numeros[2])\n",
    "if B**2 - 4*A*C < 0 or A == 0:\n",
    "    print('Impossivel calcular')\n",
    "else:\n",
    "    R1 = (-B + (B**2 - 4*A*C)**(1/2)) / (2 * A)\n",
    "    R2 = (-B - (B**2 - 4*A*C)**(1/2)) / (2 * A)"
   ]
  },
  {
   "cell_type": "code",
   "execution_count": 36,
   "metadata": {},
   "outputs": [
    {
     "name": "stdout",
     "output_type": "stream",
     "text": [
      "3 2\n",
      "Total: R$ 10.0\n"
     ]
    }
   ],
   "source": [
    "list = input().split()\n",
    "X, Y = int(list[0]), int(list[1])\n",
    "if X == 1:\n",
    "    print('Total: R$ {:.2f}'.format(4.00*Y))\n",
    "elif X == 2:\n",
    "    print('Total: R$ {:.2f}'.format(4.50*Y))\n",
    "elif X == 3:\n",
    "    print('Total: R$ {:.2f}'.format(5.00*Y))\n",
    "elif X == 4:\n",
    "    print('Total: R$ {:.2f}'.format(2.00*Y))\n",
    "elif X == 5:\n",
    "    print('Total: R$ {:.2f}'.format(1.50*Y))\n",
    "    "
   ]
  },
  {
   "cell_type": "code",
   "execution_count": 5,
   "metadata": {},
   "outputs": [
    {
     "name": "stdout",
     "output_type": "stream",
     "text": [
      "7 21 -14\n",
      "-14\n",
      "7\n",
      "21\n",
      "\n",
      "7\n",
      "21\n",
      "-14\n"
     ]
    }
   ],
   "source": [
    "lista = input().split()\n",
    "listasort = lista.copy()\n",
    "lista = [int(elemento) for elemento in lista]\n",
    "listasort = [int(elemento) for elemento in listasort]\n",
    "listasort.sort()\n",
    "print('{}\\n{}\\n{}\\n\\n{}\\n{}\\n{}'.format(listasort[0], listasort[1], listasort[2], lista[0], lista[1], lista[2]))"
   ]
  },
  {
   "cell_type": "code",
   "execution_count": 8,
   "metadata": {},
   "outputs": [
    {
     "name": "stdout",
     "output_type": "stream",
     "text": [
      "9 4 5\n",
      "Perimetro = 18.0\n"
     ]
    }
   ],
   "source": [
    "valores = input().split()\n",
    "valores = [float(i) for i in valores]\n",
    "valores.sort()\n",
    "[A, B, C] = valores\n",
    "if A < B + C :\n",
    "    print('Perimetro = {:.1f}'.format(A + B + C))\n",
    "else:\n",
    "    print('Area = {:.1f}'.format((A + B) * C /2))"
   ]
  },
  {
   "cell_type": "code",
   "execution_count": 9,
   "metadata": {},
   "outputs": [
    {
     "name": "stdout",
     "output_type": "stream",
     "text": [
      "9 4 5\n"
     ]
    }
   ],
   "source": [
    "teste = input(). split()"
   ]
  },
  {
   "cell_type": "code",
   "execution_count": 13,
   "metadata": {},
   "outputs": [
    {
     "data": {
      "text/plain": [
       "[9.0, 4.0, 5.0]"
      ]
     },
     "execution_count": 13,
     "metadata": {},
     "output_type": "execute_result"
    }
   ],
   "source": [
    "teste\n",
    "teste = [float(i) for i in teste]\n",
    "teste"
   ]
  },
  {
   "cell_type": "code",
   "execution_count": 18,
   "metadata": {},
   "outputs": [],
   "source": [
    "teste.sort(reverse=True)"
   ]
  },
  {
   "cell_type": "code",
   "execution_count": 19,
   "metadata": {},
   "outputs": [
    {
     "data": {
      "text/plain": [
       "[9.0, 5.0, 4.0]"
      ]
     },
     "execution_count": 19,
     "metadata": {},
     "output_type": "execute_result"
    }
   ],
   "source": [
    "teste"
   ]
  },
  {
   "cell_type": "code",
   "execution_count": 20,
   "metadata": {},
   "outputs": [
    {
     "name": "stdout",
     "output_type": "stream",
     "text": [
      "16 9\n",
      "O JOGO DUROU 17 HORA(S)\n"
     ]
    }
   ],
   "source": [
    "tempos = input().split()\n",
    "tempos = [int(i) for i in tempos]\n",
    "[t0, tf] = tempos\n",
    "if t0 == tf:\n",
    "    print('O JOGO DUROU 24 HORA(S)')\n",
    "else:\n",
    "    print('O JOGO DUROU {} HORA(S)'.format((tf-t0)%24))"
   ]
  },
  {
   "cell_type": "code",
   "execution_count": 29,
   "metadata": {},
   "outputs": [
    {
     "name": "stdout",
     "output_type": "stream",
     "text": [
      "18 50 6 20\n",
      "O JOGO DUROU 11 HORA(S) E 30 MINUTOS(S)\n"
     ]
    }
   ],
   "source": [
    "tempos = input().split()\n",
    "tempos = [int(i) for i in tempos]\n",
    "[t0, m0, tf, mf] = tempos\n",
    "if t0 == tf and m0 == mf:\n",
    "    print('O JOGO DUROU 24 HORA(S) E 0 MINUTO(S)')\n",
    "else:\n",
    "    dt = (60 * tf + mf - 60 * t0 - m0) % 1440\n",
    "    print('O JOGO DUROU {} HORA(S) E {} MINUTOS(S)'.format(int(dt/60), dt%60))"
   ]
  },
  {
   "cell_type": "code",
   "execution_count": 4,
   "metadata": {},
   "outputs": [
    {
     "name": "stdout",
     "output_type": "stream",
     "text": [
      "1 0 1 1\n"
     ]
    }
   ],
   "source": [
    "tempos = input().split()\n",
    "tempos = [int(i) for i in tempos]\n",
    "[t0, m0, tf, mf] = tempos\n",
    "if t0 == tf and m0 == mf:\n",
    "    print('O JOGO DUROU 24 HORA(S) E 0 MINUTO(S)')\n",
    "elif t0 > tf:\n",
    "    if mf > m0:\n",
    "        dt = 24 - t0 + tf\n",
    "        dm = mf - m0\n",
    "    else:\n",
    "        dt = 24 - t0 + tf - 1\n",
    "        dm = 60 + mf - m0\n",
    "    print('O JOGO DUROU {} HORA(S) E {} MINUTO(S)'.format(dt,dm))\n",
    "elif t0 < tf:\n",
    "    if mf > m0:\n",
    "        dt = tf - t0\n",
    "        dm = mf - m0\n",
    "    else:\n",
    "        dt = tf - t0 - 1\n",
    "        dm = 60 + mf - m0\n",
    "    print('O JOGO DUROU {} HORA(S) E {} MINUTO(S)'.format(dt,dm))\n",
    "\n",
    "    "
   ]
  },
  {
   "cell_type": "code",
   "execution_count": 10,
   "metadata": {},
   "outputs": [
    {
     "name": "stdout",
     "output_type": "stream",
     "text": [
      "2000.00\n",
      "Novo salario: 2140.00\n",
      "Reajuste ganho: 140.00\n",
      "Em percentual: 7 %\n"
     ]
    }
   ],
   "source": [
    "salario = float(input())\n",
    "if 0 < salario <= 400:\n",
    "    percent = 0.15\n",
    "    strpercent = '15'\n",
    "elif 400 < salario <= 800:\n",
    "    percent = 0.12\n",
    "    strpercent = '12'\n",
    "elif 800 < salario <= 1200:\n",
    "    percent = 0.10\n",
    "    strpercent = '10'\n",
    "elif 1200 < salario <= 2000:\n",
    "    percent = 0.07\n",
    "    strpercent = '7'\n",
    "elif 2000 < salario:\n",
    "    percent = 0.04\n",
    "    strpercent = '4'\n",
    "reaj = percent * salario\n",
    "novosal = salario + reaj\n",
    "print('Novo salario: {:.2f}\\nReajuste ganho: {:.2f}\\nEm percentual: {} %'.format(novosal, reaj, strpercent))"
   ]
  },
  {
   "cell_type": "code",
   "execution_count": 12,
   "metadata": {},
   "outputs": [],
   "source": [
    "dicMeses = [(1, 'January'), (2,'February'), (3,'March'), (4, 'April'), (5, 'May'),\n",
    "            (6, 'June'), (7, 'July'), (8, 'August'), (9, 'September'), (10, 'October'),\n",
    "            (11, 'November'), (12, 'December')]\n",
    "dicMeses = dict(dicMeses)"
   ]
  },
  {
   "cell_type": "code",
   "execution_count": 14,
   "metadata": {},
   "outputs": [
    {
     "data": {
      "text/plain": [
       "'January'"
      ]
     },
     "execution_count": 14,
     "metadata": {},
     "output_type": "execute_result"
    }
   ],
   "source": [
    "lista = ['{}\\n'.format(i) for i in range(2,2,101)\n",
    "x = lista.join()\n",
    "print(x)"
   ]
  },
  {
   "cell_type": "code",
   "execution_count": 28,
   "metadata": {},
   "outputs": [
    {
     "name": "stdout",
     "output_type": "stream",
     "text": [
      "2\n",
      "4\n",
      "6\n",
      "8\n",
      "10\n",
      "12\n",
      "14\n",
      "16\n",
      "18\n",
      "20\n",
      "22\n",
      "24\n",
      "26\n",
      "28\n",
      "30\n",
      "32\n",
      "34\n",
      "36\n",
      "38\n",
      "40\n",
      "42\n",
      "44\n",
      "46\n",
      "48\n",
      "50\n",
      "52\n",
      "54\n",
      "56\n",
      "58\n",
      "60\n",
      "62\n",
      "64\n",
      "66\n",
      "68\n",
      "70\n",
      "72\n",
      "74\n",
      "76\n",
      "78\n",
      "80\n",
      "82\n",
      "84\n",
      "86\n",
      "88\n",
      "90\n",
      "92\n",
      "94\n",
      "96\n",
      "98\n",
      "100\n"
     ]
    }
   ],
   "source": [
    "lista = [str(i) for i in range(2,101,2)]\n",
    "lista\n",
    "l = '\\n'.join(lista)\n",
    "print(l)"
   ]
  },
  {
   "cell_type": "code",
   "execution_count": 20,
   "metadata": {},
   "outputs": [
    {
     "name": "stdout",
     "output_type": "stream",
     "text": [
      "1\n",
      "-2\n",
      "3\n",
      "-4\n",
      "5\n",
      "8\n",
      "4 valores positivos\n",
      "4.25\n"
     ]
    }
   ],
   "source": [
    "n1 = float(input())\n",
    "n2 = float(input())\n",
    "n3 = float(input())\n",
    "n4 = float(input())\n",
    "n5 = float(input())\n",
    "n6 = float(input())\n",
    "num = n1, n2, n3, n4, n5, n6\n",
    "contpos = 0\n",
    "somapos = 0\n",
    "for elemento in num:\n",
    "    if elemento > 0:\n",
    "        somapos += elemento\n",
    "        contpos += 1\n",
    "print('{} valores positivos'.format(contpos))\n",
    "print('{:.1f}'.formar(somapos/contpos)\n",
    "        "
   ]
  },
  {
   "cell_type": "code",
   "execution_count": 2,
   "metadata": {},
   "outputs": [
    {
     "data": {
      "text/plain": [
       "['08 ', ' 12 ', ' 29']"
      ]
     },
     "execution_count": 2,
     "metadata": {},
     "output_type": "execute_result"
    }
   ],
   "source": [
    "'08 : 12 : 29'.split(':')"
   ]
  },
  {
   "cell_type": "code",
   "execution_count": 23,
   "metadata": {},
   "outputs": [
    {
     "name": "stdout",
     "output_type": "stream",
     "text": [
      "6 9\n"
     ]
    },
    {
     "data": {
      "text/plain": [
       "15"
      ]
     },
     "execution_count": 23,
     "metadata": {},
     "output_type": "execute_result"
    }
   ],
   "source": [
    "[n1, n2] = input().split()\n",
    "n1, n2 = int(n1), int(n2)\n",
    "n1, n2 = bin(n1), bin(n2)\n",
    "num1, num2 = str(n1), str(n2)\n",
    "num1 = num1.replace('b','0')\n",
    "num2 = num2.replace('b','0')\n",
    "[z1, z2] = [32 - len(num) for num in (n1, n2)]\n",
    "zeros1, zeros2 = '', ''\n",
    "for zeros in range (0,z1):\n",
    "    zeros1 = zeros1 + '0'\n",
    "for zeros in range (0,z2):\n",
    "    zeros2 = zeros2 + '0'\n",
    "num1 = zeros1 + num1\n",
    "num2 = zeros2 + num2\n",
    "num1.replace('b','0')\n",
    "num2.replace('b','0')\n",
    "testar = zip(num1, num2)\n",
    "resultado = ''\n",
    "for pares in testar:\n",
    "    if pares == ('0','0') or pares == ('1','1'):\n",
    "        resultado = resultado + '0'\n",
    "    elif pares == ('1','0') or pares == ('0','1'):\n",
    "        resultado = resultado + '1'\n",
    "tres = int(resultado)\n",
    "trasfrente = str(tres)[::-1]\n",
    "j = 0\n",
    "numf = 0\n",
    "for i in trasfrente:\n",
    "    numf += int(i) * (2**j)\n",
    "    j += 1\n",
    "numf"
   ]
  },
  {
   "cell_type": "code",
   "execution_count": 25,
   "metadata": {},
   "outputs": [
    {
     "data": {
      "text/plain": [
       "15"
      ]
     },
     "execution_count": 25,
     "metadata": {},
     "output_type": "execute_result"
    }
   ],
   "source": [
    "6^9"
   ]
  },
  {
   "cell_type": "code",
   "execution_count": 16,
   "metadata": {},
   "outputs": [
    {
     "name": "stdout",
     "output_type": "stream",
     "text": [
      "Dia 12\n",
      "07 : 30 : 00\n",
      "Dia 12\n",
      "07 : 30 : 10\n",
      "0 dia(s)\n",
      "0 hora(s)\n",
      "0 minuto(s)\n",
      "10 segundos(s)\n"
     ]
    }
   ],
   "source": [
    "d1 = input().split()\n",
    "tt1 = input().split(':')\n",
    "d2 = input().split()\n",
    "tt2 = input().split(':')\n",
    "d1, d2 = int(d1[1]), int(d2[1])\n",
    "h1, m1, s1 = tt1\n",
    "h1, m1, s1 = int(h1), int(m1), int(s1)\n",
    "h2, m2, s2 = tt2\n",
    "h2, m2, s2 = int(h2), int(m2), int(s2)\n",
    "t1 = s1 + 60 * m1 + 3600 * h1 + 24 * 3600 * d1\n",
    "t2 = s2 + 60 * m2 + 3600 * h2 + 24 * 3600 * d2\n",
    "dt = t2 - t1\n",
    "ds = dt % 60\n",
    "dm = ((dt - ds) % 3600)/60\n",
    "dh = ((dt - 60*dm - ds) % (24 * 3600)) / 3600\n",
    "dd = ((dt - 3600*dh - 60*dm - ds))/ (24 * 3600)\n",
    "print('{} dia(s)'.format(int(dd)))\n",
    "print('{} hora(s)'.format(int(dh)))\n",
    "print('{} minuto(s)'.format(int(dm)))\n",
    "print('{} segundo(s)'.format(int(ds)))"
   ]
  },
  {
   "cell_type": "code",
   "execution_count": null,
   "metadata": {},
   "outputs": [],
   "source": [
    "Dia 12\n",
    "07 : 30 : 00\n",
    "Dia 12\n",
    "19 : 30 : 00"
   ]
  },
  {
   "cell_type": "code",
   "execution_count": 30,
   "metadata": {},
   "outputs": [
    {
     "name": "stdout",
     "output_type": "stream",
     "text": [
      "1\n",
      "4\n",
      "1 1\n",
      "3 2 4 6\n",
      "4 1 3 5 7\n",
      "5\n",
      "1 1 2\n"
     ]
    },
    {
     "ename": "ValueError",
     "evalue": "invalid literal for int() with base 10: '1 1 2'",
     "output_type": "error",
     "traceback": [
      "\u001b[0;31m---------------------------------------------------------------------------\u001b[0m",
      "\u001b[0;31mValueError\u001b[0m                                Traceback (most recent call last)",
      "\u001b[0;32m<ipython-input-30-914c759e2d98>\u001b[0m in \u001b[0;36m<module>\u001b[0;34m()\u001b[0m\n\u001b[1;32m      7\u001b[0m         \u001b[0mconj\u001b[0m \u001b[0;34m=\u001b[0m \u001b[0;34m{\u001b[0m\u001b[0mint\u001b[0m\u001b[0;34m(\u001b[0m\u001b[0melemnto\u001b[0m\u001b[0;34m)\u001b[0m \u001b[0;32mfor\u001b[0m \u001b[0melemnto\u001b[0m \u001b[0;32min\u001b[0m \u001b[0melementos\u001b[0m\u001b[0;34m[\u001b[0m\u001b[0;36m1\u001b[0m\u001b[0;34m:\u001b[0m\u001b[0;34m]\u001b[0m\u001b[0;34m}\u001b[0m\u001b[0;34m\u001b[0m\u001b[0m\n\u001b[1;32m      8\u001b[0m         \u001b[0mconjuntos\u001b[0m\u001b[0;34m.\u001b[0m\u001b[0mappend\u001b[0m\u001b[0;34m(\u001b[0m\u001b[0mconj\u001b[0m\u001b[0;34m)\u001b[0m\u001b[0;34m\u001b[0m\u001b[0m\n\u001b[0;32m----> 9\u001b[0;31m     \u001b[0mn_ops\u001b[0m \u001b[0;34m=\u001b[0m \u001b[0mint\u001b[0m\u001b[0;34m(\u001b[0m\u001b[0minput\u001b[0m\u001b[0;34m(\u001b[0m\u001b[0;34m)\u001b[0m\u001b[0;34m)\u001b[0m\u001b[0;34m\u001b[0m\u001b[0m\n\u001b[0m\u001b[1;32m     10\u001b[0m     \u001b[0mvalores\u001b[0m \u001b[0;34m=\u001b[0m \u001b[0;34m[\u001b[0m\u001b[0;34m]\u001b[0m\u001b[0;34m\u001b[0m\u001b[0m\n\u001b[1;32m     11\u001b[0m     \u001b[0;32mfor\u001b[0m \u001b[0mops\u001b[0m \u001b[0;32min\u001b[0m \u001b[0mrange\u001b[0m\u001b[0;34m(\u001b[0m\u001b[0mn_ops\u001b[0m\u001b[0;34m)\u001b[0m\u001b[0;34m:\u001b[0m\u001b[0;34m\u001b[0m\u001b[0m\n",
      "\u001b[0;31mValueError\u001b[0m: invalid literal for int() with base 10: '1 1 2'"
     ]
    }
   ],
   "source": [
    "N = int(input())\n",
    "for rep in range(N):\n",
    "    n_conjs = int(input())\n",
    "    conjuntos = []\n",
    "    for i in range(n_conjs):\n",
    "        elementos = input().split()\n",
    "        conj = {int(elemnto) for elemnto in elementos[1:]}\n",
    "        conjuntos.append(conj)\n",
    "    n_ops = int(input())\n",
    "    valores = []\n",
    "    for ops in range(n_ops):\n",
    "        operacao = input().split()\n",
    "        if operacao[0] == 1:\n",
    "            valores.append(len(conjuntos[operacao[1]] & conjuntos[operacao[2]]))\n",
    "        elif operacao[0] == 2:\n",
    "            valores.append(len(conjuntos[operacao[1]] | conjuntos[operacao[2]]))\n",
    "print(valores)\n",
    "valores"
   ]
  },
  {
   "cell_type": "code",
   "execution_count": 28,
   "metadata": {},
   "outputs": [
    {
     "data": {
      "text/plain": [
       "2"
      ]
     },
     "execution_count": 28,
     "metadata": {},
     "output_type": "execute_result"
    }
   ],
   "source": [
    "len({1,101})"
   ]
  },
  {
   "cell_type": "code",
   "execution_count": null,
   "metadata": {},
   "outputs": [],
   "source": [
    "1\n",
    "4\n",
    "1 1\n",
    "2 1 5\n",
    "3 2 4 6\n",
    "4 1 3 5 7\n",
    "5\n",
    "1 1 2\n",
    "1 1 4\n",
    "2 1 4\n",
    "2 3 4\n",
    "1 2 4 "
   ]
  }
 ],
 "metadata": {
  "kernelspec": {
   "display_name": "Python 3",
   "language": "python",
   "name": "python3"
  },
  "language_info": {
   "codemirror_mode": {
    "name": "ipython",
    "version": 3
   },
   "file_extension": ".py",
   "mimetype": "text/x-python",
   "name": "python",
   "nbconvert_exporter": "python",
   "pygments_lexer": "ipython3",
   "version": "3.5.2"
  }
 },
 "nbformat": 4,
 "nbformat_minor": 2
}
