{
 "cells": [
  {
   "cell_type": "code",
   "execution_count": 1,
   "metadata": {},
   "outputs": [],
   "source": [
    "import string"
   ]
  },
  {
   "cell_type": "code",
   "execution_count": 26,
   "metadata": {},
   "outputs": [],
   "source": [
    "texto = '''A população brasileira é de 208.494.900 habitantes, espalhados pelos 5.570 municípios do país, de acordo com dados divulgados hoje (29) pelo Instituto Brasileiro de Geografia e Estatística (IBGE). A estimativa é referente a 1º de julho e mostra crescimento populacional de 0,82% de 2017 para 2018. No ano passado, o Brasil tinha 207.660.929 habitantes.\n",
    "\n",
    "Segundo as informações já publicadas no Diário Oficial da União (DOU), o município de São Paulo continua sendo o mais populoso do país, com 12,2 milhões de habitantes, seguido do Rio de Janeiro (6,7 milhões de habitantes), de Brasília e de Salvador, com cerca de 3 milhões de habitantes cada.\n",
    "\n",
    "De acordo a divulgação, 17 municípios brasileiros concentram população superior a 1 milhão de pessoas e juntos somam 45,7 milhões de habitantes ou 21,9% da população do Brasil.\n",
    "\n",
    "Serra da Saudade, em Minas Gerais, é o município brasileiro de menor população, 786 habitantes, seguido de Borá (SP), com 836 habitantes, e Araguainha (MT), com 956 habitantes.\n",
    "\n",
    "Estados\n",
    "Os três estados mais populosos estão na Região Sudeste, enquanto os cinco menos populosos, na Região Norte. O mais populoso é o de São Paulo, com 45,5 milhões de habitantes, concentrando 21,8% da população do país. Roraima é o menos populoso, com 576,6 mil habitantes, apenas 0,3% da população total.\n",
    "\n",
    "As estimativas da população residente para os municípios brasileiros, com data de referência em 1º de julho de 2018, foram calculadas com base na Projeção de População (Revisão 2018) divulgada no último dia 27 de julho pelo IBGE.\n",
    "\n",
    "Imigrantes venezuelanos cruzam a fronteira com o Brasil.\n",
    "Estudo incluiu imigrantes venezuelanos no estado de Roraima  - Marcelo Camargo/Agência Brasil\n",
    "Segundo o instituto, essa revisão incorporou os imigrantes venezuelanos no estado de Roraima, dos quais 99% estavam concentrados nos municípios de Boa Vista e Pacaraima.\n",
    "\n",
    "As estimativas populacionais municipais são um dos parâmetros usados pelo Tribunal de Contas da União (TCU) no cálculo do Fundo de Participação de Estados e Municípios e são referência para vários indicadores sociais, econômicos e demográficos.\n",
    "\n",
    "Regiões metropolitanas\n",
    "Entre as regiões metropolitanas e Regiões Integradas de Desenvolvimento (Rides), a de São Paulo é a mais populosa, com 21,6 milhões de habitantes, seguida do Rio de Janeiro (12,7 milhões de habitantes), de Belo Horizonte (5,9 milhões de habitantes) e da Região Integrada de Desenvolvimento (Ride) do Distrito Federal e Entorno, com 4,3 milhões de habitantes.\n",
    "\n",
    "Ainda entre as regiões metropolitanas ou Rides, 28 têm população superior a 1 milhão de habitantes e somam 98,7 milhões de habitantes, representando 47,3% da população total. O conjunto das 27 capitais totaliza 49,7 milhões de habitantes, reunindo 23,8% da população do país.'''"
   ]
  },
  {
   "cell_type": "code",
   "execution_count": 27,
   "metadata": {},
   "outputs": [],
   "source": [
    "palavras = texto.split()"
   ]
  },
  {
   "cell_type": "code",
   "execution_count": 52,
   "metadata": {},
   "outputs": [
    {
     "data": {
      "text/plain": [
       "{'a': 9,\n",
       " 'acordo': 2,\n",
       " 'ainda': 1,\n",
       " 'ano': 1,\n",
       " 'apenas': 1,\n",
       " 'araguainha': 1,\n",
       " 'as': 5,\n",
       " 'base': 1,\n",
       " 'belo': 1,\n",
       " 'boa': 1,\n",
       " 'borá': 1,\n",
       " 'brasil': 4,\n",
       " 'brasileira': 1,\n",
       " 'brasileiro': 2,\n",
       " 'brasileiros': 2,\n",
       " 'brasília': 1,\n",
       " 'cada': 1,\n",
       " 'calculadas': 1,\n",
       " 'capitais': 1,\n",
       " 'cerca': 1,\n",
       " 'cinco': 1,\n",
       " 'com': 12,\n",
       " 'concentrados': 1,\n",
       " 'concentram': 1,\n",
       " 'concentrando': 1,\n",
       " 'conjunto': 1,\n",
       " 'contas': 1,\n",
       " 'continua': 1,\n",
       " 'crescimento': 1,\n",
       " 'cruzam': 1,\n",
       " 'cálculo': 1,\n",
       " 'da': 10,\n",
       " 'dados': 1,\n",
       " 'das': 1,\n",
       " 'data': 1,\n",
       " 'de': 44,\n",
       " 'demográficos': 1,\n",
       " 'desenvolvimento': 2,\n",
       " 'dia': 1,\n",
       " 'distrito': 1,\n",
       " 'divulgada': 1,\n",
       " 'divulgados': 1,\n",
       " 'divulgação': 1,\n",
       " 'diário': 1,\n",
       " 'do': 9,\n",
       " 'dos': 2,\n",
       " 'dou': 1,\n",
       " 'e': 13,\n",
       " 'econômicos': 1,\n",
       " 'em': 2,\n",
       " 'enquanto': 1,\n",
       " 'entorno': 1,\n",
       " 'entre': 2,\n",
       " 'espalhados': 1,\n",
       " 'essa': 1,\n",
       " 'estado': 2,\n",
       " 'estados': 3,\n",
       " 'estatística': 1,\n",
       " 'estavam': 1,\n",
       " 'estimativa': 1,\n",
       " 'estimativas': 2,\n",
       " 'estudo': 1,\n",
       " 'estão': 1,\n",
       " 'federal': 1,\n",
       " 'foram': 1,\n",
       " 'fronteira': 1,\n",
       " 'fundo': 1,\n",
       " 'geografia': 1,\n",
       " 'gerais': 1,\n",
       " 'habitantes': 18,\n",
       " 'hoje': 1,\n",
       " 'horizonte': 1,\n",
       " 'ibge': 2,\n",
       " 'imigrantes': 3,\n",
       " 'incluiu': 1,\n",
       " 'incorporou': 1,\n",
       " 'indicadores': 1,\n",
       " 'informações': 1,\n",
       " 'instituto': 2,\n",
       " 'integrada': 1,\n",
       " 'integradas': 1,\n",
       " 'janeiro': 2,\n",
       " 'julho': 3,\n",
       " 'juntos': 1,\n",
       " 'já': 1,\n",
       " 'mais': 4,\n",
       " 'marcelo': 1,\n",
       " 'menor': 1,\n",
       " 'menos': 2,\n",
       " 'metropolitanas': 3,\n",
       " 'mil': 1,\n",
       " 'milhão': 2,\n",
       " 'milhões': 11,\n",
       " 'minas': 1,\n",
       " 'mostra': 1,\n",
       " 'mt': 1,\n",
       " 'municipais': 1,\n",
       " 'município': 2,\n",
       " 'municípios': 5,\n",
       " 'na': 3,\n",
       " 'no': 6,\n",
       " 'norte': 1,\n",
       " 'nos': 1,\n",
       " 'o': 10,\n",
       " 'oficial': 1,\n",
       " 'os': 4,\n",
       " 'ou': 2,\n",
       " 'pacaraima': 1,\n",
       " 'para': 3,\n",
       " 'participação': 1,\n",
       " 'parâmetros': 1,\n",
       " 'passado': 1,\n",
       " 'paulo': 3,\n",
       " 'país': 4,\n",
       " 'pelo': 3,\n",
       " 'pelos': 1,\n",
       " 'pessoas': 1,\n",
       " 'populacionais': 1,\n",
       " 'populacional': 1,\n",
       " 'população': 11,\n",
       " 'populosa': 1,\n",
       " 'populoso': 3,\n",
       " 'populosos': 2,\n",
       " 'projeção': 1,\n",
       " 'publicadas': 1,\n",
       " 'quais': 1,\n",
       " 'referente': 1,\n",
       " 'referência': 2,\n",
       " 'região': 3,\n",
       " 'regiões': 4,\n",
       " 'representando': 1,\n",
       " 'residente': 1,\n",
       " 'reunindo': 1,\n",
       " 'revisão': 2,\n",
       " 'ride': 1,\n",
       " 'rides': 2,\n",
       " 'rio': 2,\n",
       " 'roraima': 3,\n",
       " 'salvador': 1,\n",
       " 'saudade': 1,\n",
       " 'seguida': 1,\n",
       " 'seguido': 2,\n",
       " 'segundo': 2,\n",
       " 'sendo': 1,\n",
       " 'serra': 1,\n",
       " 'sociais': 1,\n",
       " 'somam': 2,\n",
       " 'sp': 1,\n",
       " 'sudeste': 1,\n",
       " 'superior': 2,\n",
       " 'são': 5,\n",
       " 'tcu': 1,\n",
       " 'tinha': 1,\n",
       " 'total': 2,\n",
       " 'totaliza': 1,\n",
       " 'tribunal': 1,\n",
       " 'três': 1,\n",
       " 'têm': 1,\n",
       " 'um': 1,\n",
       " 'união': 2,\n",
       " 'usados': 1,\n",
       " 'venezuelanos': 3,\n",
       " 'vista': 1,\n",
       " 'vários': 1,\n",
       " 'é': 6,\n",
       " 'último': 1}"
      ]
     },
     "execution_count": 52,
     "metadata": {},
     "output_type": "execute_result"
    }
   ],
   "source": [
    "teste1 = [palavra.strip(string.punctuation) for palavra in palavras]\n",
    "#teste1\n",
    "teste2 = [palavra for palavra in teste1 if palavra.isalpha()]\n",
    "#teste2\n",
    "possiveisNomes = [nome for nome in teste2 if nome.istitle()]\n",
    "#possiveisNomes\n",
    "teste3 = [palavra.lower() for palavra in teste2]\n",
    "#teste3\n",
    "teste4 = [palavra,qtd for palavra in ]\n",
    "dic = {palavra:teste3.count(palavra) for palavra in teste3}\n",
    "dic"
   ]
  },
  {
   "cell_type": "code",
   "execution_count": 18,
   "metadata": {},
   "outputs": [
    {
     "data": {
      "text/plain": [
       "'!\"#$%&\\'()*+,-./:;<=>?@[\\\\]^_`{|}~'"
      ]
     },
     "execution_count": 18,
     "metadata": {},
     "output_type": "execute_result"
    }
   ],
   "source": [
    "string.punctuation"
   ]
  },
  {
   "cell_type": "code",
   "execution_count": 23,
   "metadata": {},
   "outputs": [
    {
     "data": {
      "text/plain": [
       "False"
      ]
     },
     "execution_count": 23,
     "metadata": {},
     "output_type": "execute_result"
    }
   ],
   "source": [
    "'1º'.isalpha()"
   ]
  },
  {
   "cell_type": "code",
   "execution_count": 31,
   "metadata": {},
   "outputs": [
    {
     "data": {
      "text/plain": [
       "True"
      ]
     },
     "execution_count": 31,
     "metadata": {},
     "output_type": "execute_result"
    }
   ],
   "source": [
    "'Belo'.lower"
   ]
  },
  {
   "cell_type": "code",
   "execution_count": 53,
   "metadata": {},
   "outputs": [
    {
     "data": {
      "text/plain": [
       "2"
      ]
     },
     "execution_count": 53,
     "metadata": {},
     "output_type": "execute_result"
    }
   ],
   "source": [
    "[1,1,1,1,4,55,66,66].count(66)"
   ]
  },
  {
   "cell_type": "code",
   "execution_count": null,
   "metadata": {},
   "outputs": [],
   "source": []
  }
 ],
 "metadata": {
  "kernelspec": {
   "display_name": "Python 3",
   "language": "python",
   "name": "python3"
  },
  "language_info": {
   "codemirror_mode": {
    "name": "ipython",
    "version": 3
   },
   "file_extension": ".py",
   "mimetype": "text/x-python",
   "name": "python",
   "nbconvert_exporter": "python",
   "pygments_lexer": "ipython3",
   "version": "3.5.2"
  }
 },
 "nbformat": 4,
 "nbformat_minor": 2
}
