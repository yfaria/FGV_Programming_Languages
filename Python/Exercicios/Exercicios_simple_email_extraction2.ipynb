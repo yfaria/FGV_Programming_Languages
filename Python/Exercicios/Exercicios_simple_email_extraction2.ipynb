{
 "cells": [
  {
   "cell_type": "code",
   "execution_count": 3,
   "metadata": {
    "collapsed": true
   },
   "outputs": [],
   "source": [
    "import requests\n",
    "from bs4 import BeautifulSoup\n",
    "import string\n",
    "from collections import Counter"
   ]
  },
  {
   "cell_type": "code",
   "execution_count": 14,
   "metadata": {
    "collapsed": false
   },
   "outputs": [],
   "source": [
    "requisicao = requests.get('http://emap.fgv.br/professores')\n",
    "soup = BeautifulSoup(requisicao.text, \"lxml\")"
   ]
  },
  {
   "cell_type": "code",
   "execution_count": 19,
   "metadata": {
    "collapsed": false
   },
   "outputs": [],
   "source": [
    "links = soup.findAll('a')"
   ]
  },
  {
   "cell_type": "code",
   "execution_count": 31,
   "metadata": {
    "collapsed": false
   },
   "outputs": [],
   "source": [
    "lista_links = []\n",
    "for link in links:\n",
    "    lista_links.append(link.get('href'))"
   ]
  },
  {
   "cell_type": "code",
   "execution_count": 35,
   "metadata": {
    "collapsed": false
   },
   "outputs": [],
   "source": [
    "lista_links = [link for link in lista_links if link.startswith('http://emap')]"
   ]
  },
  {
   "cell_type": "code",
   "execution_count": 36,
   "metadata": {
    "collapsed": false
   },
   "outputs": [
    {
     "data": {
      "text/plain": [
       "['http://emap.fgv.br/corpo-docente/alexandre-rademaker',\n",
       " 'http://emap.fgv.br/eduardo-wagner-0',\n",
       " 'http://emap.fgv.br/asla-medeiros-sa-0',\n",
       " 'http://emap.fgv.br/corpo-docente/eduardo-fonseca-mendes',\n",
       " 'http://emap.fgv.br/corpo-docente/eduardo-wagner',\n",
       " 'http://emap.fgv.br/antonio-carlos-saraiva',\n",
       " 'http://emap.fgv.br/corpo-docente/hugo-alexander-de-la-cruz-cansino',\n",
       " 'http://emap.fgv.br/corpo-docente/maria-izabel-tavares-camacho-diretora-fgvemap',\n",
       " 'http://emap.fgv.br/corpo-docente/maria-soledad-aronna',\n",
       " 'http://emap.fgv.br/corpo-docente/margaret-armstrong',\n",
       " 'http://emap.fgv.br/corpo-docente/moacyr-alvim-horta-barbosa-silva',\n",
       " 'http://emap.fgv.br/corpo-docente/paulo-cezar-pinto-carvalho',\n",
       " 'http://emap.fgv.br/corpo-docente/pierre-alexandre-bliman',\n",
       " 'http://emap.fgv.br/corpo-docente/renato-rocha-souza',\n",
       " 'http://emap.fgv.br/corpo-docente/vincent-gerard-yannick-guigues',\n",
       " 'http://emap.fgv.br/corpo-docente/walter-wagner-carvalho-sande-professor-assistente',\n",
       " 'http://emap.fgv.br/corpo-docente/yuri-fahham-saporito',\n",
       " 'http://emap.fgv.br/corpo-docente/elivelton-ferreira-bueno',\n",
       " 'http://emap.fgv.br/corpo-docente/sabrina-camargo']"
      ]
     },
     "execution_count": 36,
     "metadata": {},
     "output_type": "execute_result"
    }
   ],
   "source": [
    "lista_links"
   ]
  },
  {
   "cell_type": "code",
   "execution_count": 53,
   "metadata": {
    "collapsed": true
   },
   "outputs": [],
   "source": [
    "requisicao = requests.get(lista_links[4])\n",
    "soup = BeautifulSoup(requisicao.text, \"lxml\")"
   ]
  },
  {
   "cell_type": "code",
   "execution_count": 56,
   "metadata": {
    "collapsed": false
   },
   "outputs": [],
   "source": [
    "email_do_professor = soup.select('a[href^=mailto]')"
   ]
  },
  {
   "cell_type": "code",
   "execution_count": 57,
   "metadata": {
    "collapsed": false
   },
   "outputs": [
    {
     "data": {
      "text/plain": [
       "[<a href=\"mailto:eduardo.wagner@fgv.br\">eduardo.wagner@fgv.br</a>]"
      ]
     },
     "execution_count": 57,
     "metadata": {},
     "output_type": "execute_result"
    }
   ],
   "source": [
    "email_do_professor"
   ]
  },
  {
   "cell_type": "code",
   "execution_count": null,
   "metadata": {
    "collapsed": true
   },
   "outputs": [],
   "source": []
  }
 ],
 "metadata": {
  "kernelspec": {
   "display_name": "Python 3",
   "language": "python",
   "name": "python3"
  },
  "language_info": {
   "codemirror_mode": {
    "name": "ipython",
    "version": 3
   },
   "file_extension": ".py",
   "mimetype": "text/x-python",
   "name": "python",
   "nbconvert_exporter": "python",
   "pygments_lexer": "ipython3",
   "version": "3.5.1+"
  }
 },
 "nbformat": 4,
 "nbformat_minor": 0
}
