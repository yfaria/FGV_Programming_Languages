{
 "cells": [
  {
   "cell_type": "code",
   "execution_count": 1,
   "metadata": {},
   "outputs": [
    {
     "name": "stdout",
     "output_type": "stream",
     "text": [
      "2\n",
      "7\n",
      "X = 9\n"
     ]
    }
   ],
   "source": [
    "### PROB 1001 ###\n",
    "A = int(input())\n",
    "B = int(input())\n",
    "print('X = ' + str(A+B))"
   ]
  },
  {
   "cell_type": "code",
   "execution_count": 28,
   "metadata": {},
   "outputs": [
    {
     "name": "stdout",
     "output_type": "stream",
     "text": [
      "Valor:   7.89\n",
      "Valor:   7.89\n",
      "Valor:  7.892\n"
     ]
    }
   ],
   "source": [
    "valor = 7.8916452355\n",
    "print('Valor:{0:7.2f}'.format(valor)) #fica reservado 7 colunas numa linha de texto para o número\n",
    "print('Valor:{:7.2f}'.format(valor)) # o 0 de antes se refere ao elemente de indice 0 dentro do format.\n",
    "print('Valor:{:7.3f}'.format(valor)) #perceba que ele não faz o truncate do float, ele arrendonda antes de botar."
   ]
  },
  {
   "cell_type": "code",
   "execution_count": 12,
   "metadata": {},
   "outputs": [
    {
     "name": "stdout",
     "output_type": "stream",
     "text": [
      "150.00\n",
      "A=70685.7750\n"
     ]
    }
   ],
   "source": [
    "### PROB 1002 ###\n",
    "R = float(input())\n",
    "A = round(3.14159 * R**2, 4)\n",
    "print(\"A={:.4f}\".format(A))\n",
    "#print(\"A={.4f}\".format(A))\n",
    "#print(\"A={4f}\".format(A))"
   ]
  },
  {
   "cell_type": "code",
   "execution_count": 13,
   "metadata": {},
   "outputs": [
    {
     "name": "stdout",
     "output_type": "stream",
     "text": [
      "2\n",
      "9\n",
      "SOMA = 11\n"
     ]
    }
   ],
   "source": [
    "### PROB 1003 ###\n",
    "A = int(input())\n",
    "B = int(input())\n",
    "SOMA = A + B\n",
    "print('SOMA = {}'.format(SOMA))"
   ]
  },
  {
   "cell_type": "code",
   "execution_count": 24,
   "metadata": {},
   "outputs": [
    {
     "name": "stdout",
     "output_type": "stream",
     "text": [
      "6\n",
      "9\n",
      "PROD = 54\n"
     ]
    }
   ],
   "source": [
    "### PROB 1004 ###\n",
    "A = int(input())\n",
    "B = int(input())\n",
    "PROD = A * B\n",
    "print('PROD = {}'.format(PROD))"
   ]
  },
  {
   "cell_type": "code",
   "execution_count": 25,
   "metadata": {},
   "outputs": [
    {
     "name": "stdout",
     "output_type": "stream",
     "text": [
      "7.1\n",
      "9\n",
      "MEDIA = 8.39545\n"
     ]
    }
   ],
   "source": [
    "### PROB 1005 ###\n",
    "A = float(input())\n",
    "B = float(input())\n",
    "MEDIA = round((3.5*A + 7.5*B)/11, 5)\n",
    "print('MEDIA = {:.5f}'.format(MEDIA))"
   ]
  },
  {
   "cell_type": "code",
   "execution_count": 29,
   "metadata": {},
   "outputs": [
    {
     "name": "stdout",
     "output_type": "stream",
     "text": [
      "5\n",
      "10\n",
      "10\n",
      "MEDIA = 9.00\n"
     ]
    }
   ],
   "source": [
    "### PROB 1006 ###\n",
    "A = float(input())\n",
    "B = float(input())\n",
    "C = float(input())\n",
    "MEDIA = (2*A + 3*B + 5*C)/10\n",
    "print('MEDIA = {:.1f}'.format(MEDIA))"
   ]
  },
  {
   "cell_type": "code",
   "execution_count": null,
   "metadata": {},
   "outputs": [],
   "source": [
    "### PROB 1007 ###\n",
    "A = int(input())\n",
    "B = int(input())\n",
    "C = int(input())\n",
    "D = int(input())\n",
    "DIFERENCA = A*B - C*D\n",
    "print('DIFERENCA = {}'.format(DIFERENCA))"
   ]
  },
  {
   "cell_type": "code",
   "execution_count": 36,
   "metadata": {},
   "outputs": [
    {
     "name": "stdout",
     "output_type": "stream",
     "text": [
      "5\n",
      "100\n",
      "200\n",
      "NUMBER = 5\n",
      "SALARY = U$ 5.00\n"
     ]
    }
   ],
   "source": [
    "### PROB 1008 ###\n",
    "number = int(input())\n",
    "hours = int(input())\n",
    "salperhour = float(input())\n",
    "salary = hours * salperhour\n",
    "print('NUMBER = {}\\nSALARY = U$ {:.2f}'.format(number, salary))\n",
    "#print('NUMBER = {0}\\nSALARY = U$ {1:.2f}'.format(number, salary))\n",
    "#print('NUMBER = {}\\nSALARY = U$ {0:.2f}'.format(number, salary)) dá errado, ele não troca de reconhecimento auto para manual\n"
   ]
  },
  {
   "cell_type": "code",
   "execution_count": null,
   "metadata": {},
   "outputs": [],
   "source": [
    "### PROB 1009 ###\n",
    "employee = input()\n",
    "salary = float(input())\n",
    "sold = float(input())\n",
    "total = salary + 0.15*sold\n",
    "print('TOTAL = R$ {:.2f}'.format(total))"
   ]
  },
  {
   "cell_type": "code",
   "execution_count": 43,
   "metadata": {},
   "outputs": [
    {
     "name": "stdout",
     "output_type": "stream",
     "text": [
      "12 5 5.5\n"
     ]
    }
   ],
   "source": [
    "texto = input().split()"
   ]
  },
  {
   "cell_type": "code",
   "execution_count": 44,
   "metadata": {},
   "outputs": [
    {
     "data": {
      "text/plain": [
       "['12', '5', '5.5']"
      ]
     },
     "execution_count": 44,
     "metadata": {},
     "output_type": "execute_result"
    }
   ],
   "source": [
    "texto"
   ]
  },
  {
   "cell_type": "code",
   "execution_count": 47,
   "metadata": {},
   "outputs": [
    {
     "name": "stdout",
     "output_type": "stream",
     "text": [
      "12 1 5.30\n",
      "16 2 2.00\n",
      "VALOR A PAGAR: R$ 9.30\n"
     ]
    }
   ],
   "source": [
    "### PROB 1010 ###\n",
    "A = input().split()\n",
    "B = input().split()\n",
    "print('VALOR A PAGAR: R$ {:.2f}'.format(float(A[2])*int(A[1]) + float(B[2])*int(B[1])))"
   ]
  },
  {
   "cell_type": "code",
   "execution_count": null,
   "metadata": {},
   "outputs": [],
   "source": [
    "### PROB 1011 ###\n",
    "R = float(input())\n",
    "V = (4/3) * 3.14159 * (R**3)\n",
    "print('VOLUME = {:.3f}'.format(V))"
   ]
  }
 ],
 "metadata": {
  "kernelspec": {
   "display_name": "Python 3",
   "language": "python",
   "name": "python3"
  },
  "language_info": {
   "codemirror_mode": {
    "name": "ipython",
    "version": 3
   },
   "file_extension": ".py",
   "mimetype": "text/x-python",
   "name": "python",
   "nbconvert_exporter": "python",
   "pygments_lexer": "ipython3",
   "version": "3.5.2"
  }
 },
 "nbformat": 4,
 "nbformat_minor": 2
}
