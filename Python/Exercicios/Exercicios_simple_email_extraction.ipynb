{
 "cells": [
  {
   "cell_type": "code",
   "execution_count": 11,
   "metadata": {
    "collapsed": true
   },
   "outputs": [],
   "source": [
    "from bs4 import BeautifulSoup\n",
    "import nltk\n",
    "import requests"
   ]
  },
  {
   "cell_type": "code",
   "execution_count": 55,
   "metadata": {
    "collapsed": true
   },
   "outputs": [],
   "source": [
    "url = 'http://www.dcc.ufmg.br/dcc/?q=pt-br/professores'"
   ]
  },
  {
   "cell_type": "code",
   "execution_count": 56,
   "metadata": {
    "collapsed": false
   },
   "outputs": [],
   "source": [
    "pagina = requests.get(url)\n",
    "texto = pagina.text\n",
    "#soup = BeautifulSoup(texto)"
   ]
  },
  {
   "cell_type": "code",
   "execution_count": 58,
   "metadata": {
    "collapsed": false
   },
   "outputs": [
    {
     "data": {
      "text/plain": [
       "['adrianov@dcc.ufmg.br',\n",
       " 'adrianoc@dcc.ufmg.br',\n",
       " 'laender@dcc.ufmg.br',\n",
       " 'acunha@dcc.ufmg.br',\n",
       " 'ana.coutosilva@dcc.ufmg.br',\n",
       " 'loureiro@dcc.ufmg.br',\n",
       " 'otavio@dcc.ufmg.br',\n",
       " 'arnaldo@dcc.ufmg.br',\n",
       " 'berthier@dcc.ufmg.br',\n",
       " 'camarao@dcc.ufmg.br',\n",
       " 'clarindo@dcc.ufmg.br',\n",
       " 'coelho@dcc.ufmg.br',\n",
       " 'clodoveu@dcc.ufmg.br',\n",
       " 'damacedo@dcc.ufmg.br',\n",
       " 'dorgival@dcc.ufmg.br',\n",
       " 'doug@dcc.ufmg.br',\n",
       " 'echaves@dcc.ufmg.br',\n",
       " 'figueiredo@dcc.ufmg.br',\n",
       " 'erickson@dcc.ufmg.br',\n",
       " 'fabricio@dcc.ufmg.br',\n",
       " 'fernando@dcc.ufmg.br',\n",
       " 'ffcampos@dcc.ufmg.br',\n",
       " 'mateus@dcc.ufmg.br',\n",
       " 'glpappa@dcc.ufmg.br',\n",
       " 'hfmatos@dcc.ufmg.br',\n",
       " 'cunha@dcc.ufmg.br',\n",
       " 'jefersson@dcc.ufmg.br',\n",
       " 'jvdg.ufmg@gmail.com',\n",
       " 'jose@dcc.ufmg.br',\n",
       " 'jmarcos@dcc.ufmg.br',\n",
       " 'arabe@dcc.ufmg.br',\n",
       " 'jussara@dcc.ufmg.br',\n",
       " 'leonardo.barbosa@dcc.ufmg.br',\n",
       " 'lcerf@dcc.ufmg.br',\n",
       " 'chaimo@dcc.ufmg.br',\n",
       " 'lfvieira@dcc.ufmg.br',\n",
       " 'mlbc@dcc.ufmg.br',\n",
       " 'mgoncalv@dcc.ufmg.br',\n",
       " 'marcos@dcc.ufmg.br',\n",
       " 'mmvieira@dcc.ufmg.br',\n",
       " 'mtov@dcc.ufmg.br',\n",
       " 'mario@dcc.ufmg.br',\n",
       " 'msalvim@dcc.ufmg.br',\n",
       " 'mariza@dcc.ufmg.br',\n",
       " 'mirella@dcc.ufmg.br',\n",
       " 'nvieira@dcc.ufmg.br',\n",
       " 'olga@dcc.ufmg.br',\n",
       " 'omar@dcc.ufmg.br',\n",
       " 'osvaldo@dcc.ufmg.br',\n",
       " 'olmo@dcc.ufmg.br',\n",
       " 'raquelcm@dcc.ufmg.br',\n",
       " 'rprates@dcc.ufmg.br',\n",
       " 'renato@dcc.ufmg.br',\n",
       " 'assuncao@dcc.ufmg.br',\n",
       " 'rodolfo@dcc.ufmg.br',\n",
       " 'rodrygo@dcc.ufmg.br',\n",
       " 'surrutia@dcc.ufmg.br',\n",
       " 'scampos@dcc.ufmg.br',\n",
       " 'tfn@dcc.ufmg.br',\n",
       " 'virgilio@dcc.ufmg.br',\n",
       " 'meira@dcc.ufmg.br',\n",
       " 'william@dcc.ufmg.br',\n",
       " 'nivio@dcc.ufmg.br',\n",
       " 'contato@dcc.ufmg.br',\n",
       " 'contato@dcc.ufmg.br',\n",
       " 'amendes@dcc.ufmg.br',\n",
       " 'contato@dcc.ufmg.br',\n",
       " 'contato@dcc.ufmg.br',\n",
       " 'contato@dcc.ufmg.br',\n",
       " 'contato@dcc.ufmg.br',\n",
       " 'contato@dcc.ufmg.br',\n",
       " 'contato@dcc.ufmg.br',\n",
       " 'contato@dcc.ufmg.br',\n",
       " 'contato@dcc.ufmg.br',\n",
       " 'contato@dcc.ufmg.br',\n",
       " 'contato@dcc.ufmg.br',\n",
       " 'contato@dcc.ufmg.br',\n",
       " 'contato@dcc.ufmg.br',\n",
       " 'contato@dcc.ufmg.br',\n",
       " 'contato@dcc.ufmg.br',\n",
       " 'contato@dcc.ufmg.br',\n",
       " 'bigonha@dcc.ufmg.br',\n",
       " 'wppf@ieee.org',\n",
       " 'contato@dcc.ufmg.b']"
      ]
     },
     "execution_count": 58,
     "metadata": {},
     "output_type": "execute_result"
    }
   ],
   "source": [
    "res1 = [candidato for candidato in texto.split() if '@' in candidato]\n",
    "res2 = [candidato for candidato in res1 if 'http' not in candidato]\n",
    "res3 = [candidato.replace('href=\"mailto:','') for candidato in res2]\n",
    "res4 = [candidato.strip('\"') for candidato in res3]\n",
    "res5 = [candidato for candidato in res4 if '.' in candidato[candidato.find('@'):]]\n",
    "res6 = [candidato[:candidato.find('\"')] for candidato in res5]\n",
    "res6"
   ]
  },
  {
   "cell_type": "code",
   "execution_count": null,
   "metadata": {
    "collapsed": true
   },
   "outputs": [],
   "source": []
  }
 ],
 "metadata": {
  "kernelspec": {
   "display_name": "Python 3",
   "language": "python",
   "name": "python3"
  },
  "language_info": {
   "codemirror_mode": {
    "name": "ipython",
    "version": 3
   },
   "file_extension": ".py",
   "mimetype": "text/x-python",
   "name": "python",
   "nbconvert_exporter": "python",
   "pygments_lexer": "ipython3",
   "version": "3.5.1+"
  }
 },
 "nbformat": 4,
 "nbformat_minor": 0
}
