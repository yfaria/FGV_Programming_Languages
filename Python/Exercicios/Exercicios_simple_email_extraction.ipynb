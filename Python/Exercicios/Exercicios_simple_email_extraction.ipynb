{
 "cells": [
  {
   "cell_type": "code",
   "execution_count": 1,
   "metadata": {
    "collapsed": true
   },
   "outputs": [],
   "source": [
    "from bs4 import BeautifulSoup\n",
    "import nltk\n",
    "import requests\n",
    "import string\n",
    "from collections import Counter"
   ]
  },
  {
   "cell_type": "code",
   "execution_count": 2,
   "metadata": {
    "collapsed": true
   },
   "outputs": [],
   "source": [
    "url1 = 'http://www.dcc.ufmg.br/dcc/?q=pt-br/professores'\n",
    "url2 = 'https://emap.fgv.br/pessoas'"
   ]
  },
  {
   "cell_type": "code",
   "execution_count": 3,
   "metadata": {
    "collapsed": false
   },
   "outputs": [
    {
     "name": "stdout",
     "output_type": "stream",
     "text": [
      "<!DOCTYPE html>\n",
      "<html lang=\"pt-br\" dir=\"ltr\"\n",
      "  xmlns:content=\"http://purl.org/rss/1.0/modules/content/\"\n",
      "  xmlns:dc=\"http://purl.org/dc/terms/\"\n",
      "  xmlns:foaf=\"http://xmlns.com/foaf/0.1/\"\n",
      "  xmlns:og=\"http://ogp.me/ns#\"\n",
      "  xmlns:rdfs=\"http://www.w3.org/2000/01/rdf-schema#\"\n",
      "  xmlns:sioc=\"http://rdfs.org/sioc/ns#\"\n",
      "  xmlns:sioct=\"http://rdfs.org/sioc/types#\"\n",
      "  xmlns:skos=\"http://www.w3.org/2004/02/skos/core#\"\n",
      "  xmlns:xsd=\"http://www.w3.org/2001/XMLSchema#\">\n",
      "<head profile=\"http://www.w3.org/1999/xhtml/vocab\">\n",
      "  <meta http-equiv=\"Content-Type\" content=\"text/html; charset=utf-8\" />\n",
      "<link rel=\"shortcut icon\" href=\"https://www.dcc.ufmg.br/dcc/misc/dcc_imagem.png\" type=\"image/png\" />\n",
      "<meta name=\"viewport\" content=\"width=device-width, initial-scale=1\" />\n",
      "<meta name=\"MobileOptimized\" content=\"width\" />\n",
      "<meta name=\"Generator\" content=\"Drupal 7 (http://drupal.org)\" />\n",
      "<meta name=\"HandheldFriendly\" content=\"true\" />\n",
      "  <title>Professores | DCC</title>\n",
      "  <link type=\"text/css\" rel=\"stylesheet\" href=\"https:/\n"
     ]
    }
   ],
   "source": [
    "pagina = requests.get(url1)\n",
    "texto = pagina.text\n",
    "print(texto[0:1000])"
   ]
  },
  {
   "cell_type": "code",
   "execution_count": 4,
   "metadata": {
    "collapsed": false
   },
   "outputs": [
    {
     "name": "stdout",
     "output_type": "stream",
     "text": [
      "['adrianov@dcc.ufmg.br', 'adrianoc@dcc.ufmg.br', 'laender@dcc.ufmg.br', 'acunha@dcc.ufmg.br', 'ana.coutosilva@dcc.ufmg.br', 'loureiro@dcc.ufmg.br', 'otavio@dcc.ufmg.br', 'arnaldo@dcc.ufmg.br', 'berthier@dcc.ufmg.br', 'camarao@dcc.ufmg.br', 'clarindo@dcc.ufmg.br', 'clodoveu@dcc.ufmg.br', 'arbex@dcc.ufmg.br', 'damacedo@dcc.ufmg.br', 'dorgival@dcc.ufmg.br', 'doug@dcc.ufmg.br', 'figueiredo@dcc.ufmg.br', 'erickson@dcc.ufmg.br', 'fabricio@dcc.ufmg.br', 'murai@dcc.ufmg.br', 'fernando@dcc.ufmg.br', 'flaviovdf@dcc.ufmg.br', 'ffcampos@dcc.ufmg.br', 'gabriel@dcc.ufmg.br', 'mateus@dcc.ufmg.br', 'gilberto@dcc.ufmg.br', 'glpappa@dcc.ufmg.br', 'hfmatos@dcc.ufmg.br', 'cunha@dcc.ufmg.br', 'jefersson@dcc.ufmg.br', 'jvdg.ufmg@gmail.com', 'jgmm@dcc.ufmg.br', 'jose@dcc.ufmg.br', 'jmarcos@dcc.ufmg.br', 'arabe@dcc.ufmg.br', 'jussara@dcc.ufmg.br', 'leonardo.barbosa@dcc.ufmg.br', 'lcerf@dcc.ufmg.br', 'chaimo@dcc.ufmg.br', 'lfvieira@dcc.ufmg.br', 'mlbc@dcc.ufmg.br', 'mgoncalv@dcc.ufmg.br', 'marcos@dcc.ufmg.br', 'mmvieira@dcc.ufmg.br', 'mtov@dcc.ufmg.br', 'mario@dcc.ufmg.br', 'msalvim@dcc.ufmg.br', 'mariza@dcc.ufmg.br', 'mirella@dcc.ufmg.br', 'nvieira@dcc.ufmg.br', 'olga@dcc.ufmg.br', 'omar@dcc.ufmg.br', 'osvaldo@dcc.ufmg.br', 'olmo@dcc.ufmg.br', 'raquelcm@dcc.ufmg.br', 'rprates@dcc.ufmg.br', 'renato@dcc.ufmg.br', 'assuncao@dcc.ufmg.br', 'rodolfo@dcc.ufmg.br', 'rodrygo@dcc.ufmg.br', 'surrutia@dcc.ufmg.br', 'scampos@dcc.ufmg.br', 'tfn@dcc.ufmg.br', 'viniciussantos@dcc.ufmg.br', 'virgilio@dcc.ufmg.br', 'meira@dcc.ufmg.br', 'william@dcc.ufmg.br', 'imcampos@ufmg.br', 'nivio@dcc.ufmg.br', 'bigonha@dcc.ufmg.br', 'wppf@ieee.org', 'contato@dcc.ufmg.br', 'contato@dcc.ufmg.br', 'amendes@dcc.ufmg.br', 'contato@dcc.ufmg.br', 'echaves@dcc.ufmg.br', 'contato@dcc.ufmg.br', 'contato@dcc.ufmg.br', 'contato@dcc.ufmg.br', 'contato@dcc.ufmg.br', 'contato@dcc.ufmg.br', 'contato@dcc.ufmg.br', 'contato@dcc.ufmg.br', 'contato@dcc.ufmg.br', 'contato@dcc.ufmg.br', 'contato@dcc.ufmg.br', 'contato@dcc.ufmg.br', 'contato@dcc.ufmg.br', 'contato@dcc.ufmg.br', 'contato@dcc.ufmg.b']\n"
     ]
    }
   ],
   "source": [
    "res1 = [candidato for candidato in texto.split() if '@' in candidato]\n",
    "res2 = [candidato for candidato in res1 if 'http' not in candidato]\n",
    "res3 = [candidato.replace('href=\"mailto:','') for candidato in res2]\n",
    "res4 = [candidato.strip('\"') for candidato in res3]\n",
    "res5 = [candidato for candidato in res4 if '.' in candidato[candidato.find('@'):]]\n",
    "res6 = [candidato[:candidato.find('\"')] for candidato in res5]\n",
    "print(res6)"
   ]
  },
  {
   "cell_type": "code",
   "execution_count": 5,
   "metadata": {
    "collapsed": true
   },
   "outputs": [
    {
     "name": "stdout",
     "output_type": "stream",
     "text": [
      "<!DOCTYPE html>\n",
      "<!--[if IEMobile 7]><html class=\"iem7\" lang=\"pt-br\" dir=\"ltr\"><![endif]-->\n",
      "<!--[if lte IE 6]><html class=\"lt-ie9 lt-ie8 lt-ie7\" lang=\"pt-br\" dir=\"ltr\"><![endif]-->\n",
      "<!--[if (IE 7)&(!IEMobile)]><html class=\"lt-ie9 lt-ie8\" lang=\"pt-br\" dir=\"ltr\"><![endif]-->\n",
      "<!--[if IE 8]><html class=\"lt-ie9\" lang=\"pt-br\" dir=\"ltr\"><![endif]-->\n",
      "<!--[if (gte IE 9)|(gt IEMobile 7)]><!--><html lang=\"pt-br\" dir=\"ltr\"><!--<![endif]-->\n",
      "<head>\n",
      "<meta charset=\"utf-8\" />\n",
      "<meta name=\"viewport\" content=\"width=device-width, initial-scale=1\" />\n",
      "<meta name=\"MobileOptimized\" content=\"width\" />\n",
      "<meta name=\"HandheldFriendly\" content=\"true\" />\n",
      "<meta name=\"apple-mobile-web-app-capable\" content=\"yes\" />\n",
      "<meta name=\"generator\" content=\"Drupal 7 (http://drupal.org)\" />\n",
      "<link rel=\"canonical\" href=\"https://emap.fgv.br/pessoas\" />\n",
      "<link rel=\"shortlink\" href=\"https://emap.fgv.br/node/12\" />\n",
      "<meta http-equiv=\"X-UA-Compatible\" content=\"IE=Edge\" />\n",
      "<link href='//fonts.googleapis.com/css?family=Dosis:400,700' rel='style\n"
     ]
    }
   ],
   "source": [
    "pagina = requests.get(url2)\n",
    "texto = pagina.text\n",
    "print(texto[0:1000])"
   ]
  },
  {
   "cell_type": "code",
   "execution_count": 17,
   "metadata": {},
   "outputs": [
    {
     "name": "stdout",
     "output_type": "stream",
     "text": [
      "[r].q||[]).push(arguments)},i[r].l=1*new Date();a=s.createElement(o),m=s.getElementsByTagName(o)[0];a.async=1;a.src=g;m.parentNode.insertBefore(a,m)})(window,document,\"script\",\"//www.google-analytics.com/analytics.js\",\"ga\");ga(\"create\", \"UA-18960726-2\", {\"cookieDomain\":\"auto\"});ga(\"send\", \"pageview\");\n",
      "\n",
      "\n",
      "jQuery.extend(Drupal.settings, {\"basePath\":\"\\u002F\", \"pathPrefix\":\"\", \"ajaxPageState\":{\"theme\":\"emap_theme\", \"theme_token\":\"MMNLSp4IPeejLL8aLZ-OB66DvVOFyZ-SO-jPZVD8TY0\", \"js\":{\"sites\\u002Fall\\u002Fmodules\\u002Fjquery_update\\u002Freplace\\u002Fjquery\\u002F1.7\\u002Fjquery.min.js\":1, \"misc\\u002Fjquery.once.js\":1, \"misc\\u002Fdrupal.js\":1,\n"
     ]
    }
   ],
   "source": [
    "soup = BeautifulSoup(pagina.text, \"lxml\")\n",
    "print(soup.text[160:800])"
   ]
  },
  {
   "cell_type": "code",
   "execution_count": 18,
   "metadata": {},
   "outputs": [],
   "source": [
    "links = soup.findAll('a')"
   ]
  },
  {
   "cell_type": "code",
   "execution_count": 19,
   "metadata": {},
   "outputs": [
    {
     "name": "stdout",
     "output_type": "stream",
     "text": [
      "['#main-content', '/', '/quem-somos', '/quem-somos', '/institucional', '/estrutura-organizacional', '/comissao-propria-de-avaliacao', '/pessoas', '/noticias', '/graduacao/apresentacao', '/graduacao/apresentacao', '/vestibular', '/graduacao/grade-curricular', '/horarios-calendarios', '/graduacao/corpo-docente', '/transferencia-portadores-de-diploma', '/colocacao-profissional', '/nucleo-de-apoio-pedagogico-nap', '/academia-matematica', '/mestrado/modelagem-matematica', '/mestrado/modelagem-matematica', '/mestrado/disciplinas', '/mestrado/corpo-docente', '/processo-seletivo', '/mestrado/dissertacoes', '/curso-de-verao', '/projetos-de-pesquisa-aplicada', '/linhas-de-pesquisa', '/publicacoes', '/projetos-de-pesquisa-aplicada', '/projetos-de-pesquisa-academica', '/pesquisa-aplicada-andamento', '/pesquisa-academica-andamento', '/', '/eventos', '/seminarios', '/cursos', '/defesa-de-dissertacao', '/contato', '/quem-somos', '/quem-somos', '/institucional', '/estrutura-organizacional', '/comissao-propria-de-avaliacao', '/pessoas', '/noticias', '/graduacao/apresentacao', '/graduacao/apresentacao', '/vestibular', '/graduacao/grade-curricular', '/horarios-calendarios', '/graduacao/corpo-docente', '/transferencia-portadores-de-diploma', '/colocacao-profissional', '/nucleo-de-apoio-pedagogico-nap', '/academia-matematica', '/mestrado/modelagem-matematica', '/mestrado/modelagem-matematica', '/mestrado/disciplinas', '/mestrado/corpo-docente', '/processo-seletivo', '/mestrado/dissertacoes', '/curso-de-verao', '/projetos-de-pesquisa-aplicada', '/linhas-de-pesquisa', '/publicacoes', '/projetos-de-pesquisa-aplicada', '/projetos-de-pesquisa-academica', '/pesquisa-aplicada-andamento', '/pesquisa-academica-andamento', '/', '/eventos', '/seminarios', '/cursos', '/defesa-de-dissertacao', '/contato', '/quem-somos', '/graduacao/apresentacao', '/mestrado/modelagem-matematica', '/projetos-de-pesquisa-aplicada', '/', '/contato', '/en/people', '/corpo-docente/alexandre-rademaker', '/corpo-docente/antonio-carlos-saraiva-branco', '/corpo-docente/asla-medeiros-sa', '/corpo-docente/cesar-camacho-diretor-emap', '/corpo-docente/eduardo-fonseca-mendes', '/corpo-docente/eduardo-massad', '/corpo-docente/eduardo-wagner', '/corpo-docente/flavio-codeco-coelho', '/corpo-docente/hugo-de-la-cruz-cancino', '/corpo-docente/margaret-armstrong', '/corpo-docente/maria-izabel-tavares-camacho', '/corpo-docente/maria-soledad-aronna', '/corpo-docente/moacyr-alvim-horta-barbosa-silva', '/corpo-docente/paulo-cezar-p-carvalho', '/corpo-docente/pierre-alexandre-bliman', '/corpo-docente/renato-rocha-souza', '/corpo-docente/rodrigo-santos-targino', '/corpo-docente/vincent-gerard-yannick-guigues', '/corpo-docente/walter-wagner-carvalho-sande', '/corpo-docente/yuri-fahham-saporito', '/corpo-docente/marcio-watanabe', '/quem-somos', '/institucional', '/estrutura-organizacional', '/comissao-propria-de-avaliacao', '/pessoas', '/noticias', '/quem-somos', '/quem-somos', '/institucional', '/estrutura-organizacional', '/comissao-propria-de-avaliacao', '/pessoas', '/noticias', '/graduacao/apresentacao', '/graduacao/apresentacao', '/vestibular', '/graduacao/grade-curricular', '/horarios-calendarios', '/graduacao/corpo-docente', '/transferencia-portadores-de-diploma', '/colocacao-profissional', '/nucleo-de-apoio-pedagogico-nap', '/academia-matematica', '/mestrado/modelagem-matematica', '/mestrado/modelagem-matematica', '/mestrado/disciplinas', '/mestrado/corpo-docente', '/processo-seletivo', '/mestrado/dissertacoes', '/curso-de-verao', '/projetos-de-pesquisa-aplicada', '/linhas-de-pesquisa', '/publicacoes', '/projetos-de-pesquisa-aplicada', '/projetos-de-pesquisa-academica', '/pesquisa-aplicada-andamento', '/pesquisa-academica-andamento', '/', '/eventos', '/seminarios', '/cursos', '/defesa-de-dissertacao', '/contato', 'https://www.facebook.com/emap.fgv', 'https://twitter.com/fgv', 'https://www.youtube.com/channel/UC8DhN1cJi0QklBQot5hv_kg', 'https://eclass.fgv.br/', 'https://www.google.com/maps?ll=-22.940808,-43.180153&spn=0.011441,0.01929&cid=3352914085499141244&t=m&z=16&vpsrc=0', 'http://www.fgv.br/politica-privacidade/sites-fgv/politica-de-privacidade.pdf', 'http://portal.fgv.br', 'http://portal.fgv.br/en', 'http://portal.fgv.br/educacao/graduacao', 'http://graduacaotecnologica.fgv.br/', 'http://portal.fgv.br/educacao/mestrado-doutorado', 'http://portal.fgv.br/educacao/mba-pos', 'http://portal.fgv.br/educacao/cursos-extensao', 'http://incompany.fgv.br/', 'http://www5.fgv.br/fgvonline/', 'http://vestibular.fgv.br', 'http://ensinomediodigital.fgv.br/', 'http://portal.fgv.br/livros', 'http://editora.fgv.br', 'http://bibliotecadigital.fgv.br/', 'http://cpdoc.fgv.br', 'http://cpdoc.fgv.br', 'http://direitorio.fgv.br', 'http://direitorio.fgv.br', 'http://direitosp.fgv.br', 'http://direitosp.fgv.br', 'http://eaesp.fgvsp.br', 'http://eaesp.fgvsp.br', 'http://ebape.fgv.br', 'http://ebape.fgv.br', 'http://eesp.fgv.br', 'http://eesp.fgv.br', 'http://emap.fgv.br', 'http://emap.fgv.br', 'http://epge.fgv.br', 'http://epge.fgv.br', 'https://eppg.fgv.br/', 'https://eppg.fgv.br/', 'https://ri.fgv.br/', 'https://ri.fgv.br/', 'https://portal.fgv.br/pesquisas-teses-publicacoes', 'http://fgvprojetos.fgv.br/', 'http://portalibre.fgv.br', 'http://ceri.fgv.br', 'http://dapp.fgv.br', 'http://dint.fgv.br', 'http://fgvenergia.fgv.br', 'http://cps.fgv.br', 'http://portal.fgv.br', 'http://portal.fgv.br/areas/administracao', 'http://portal.fgv.br/areas/ciencias-sociais', 'http://portal.fgv.br/areas/direito', 'http://portal.fgv.br/areas/economia', 'http://portal.fgv.br/areas/matematica', 'https://www.facebook.com/Vestibular.FGV/', 'https://www.linkedin.com/school/8175?pathWildcard=8175', 'https://twitter.com/fgv', 'https://www.instagram.com/fgv.oficial/', 'https://plus.google.com/+FGV', 'https://www.youtube.com/user/fgv', 'http://portal.fgv.br/livros', 'http://portal.fgv.br/noticias', 'http://portal.fgv.br/eventos']\n"
     ]
    }
   ],
   "source": [
    "lista_links = []\n",
    "for link in links:\n",
    "    lista_links.append(link.get('href'))\n",
    "print(lista_links)"
   ]
  },
  {
   "cell_type": "code",
   "execution_count": 20,
   "metadata": {},
   "outputs": [
    {
     "data": {
      "text/plain": [
       "['/corpo-docente/alexandre-rademaker',\n",
       " '/corpo-docente/antonio-carlos-saraiva-branco',\n",
       " '/corpo-docente/asla-medeiros-sa',\n",
       " '/corpo-docente/cesar-camacho-diretor-emap',\n",
       " '/corpo-docente/eduardo-fonseca-mendes',\n",
       " '/corpo-docente/eduardo-massad',\n",
       " '/corpo-docente/eduardo-wagner',\n",
       " '/corpo-docente/flavio-codeco-coelho',\n",
       " '/corpo-docente/hugo-de-la-cruz-cancino',\n",
       " '/corpo-docente/margaret-armstrong',\n",
       " '/corpo-docente/maria-izabel-tavares-camacho',\n",
       " '/corpo-docente/maria-soledad-aronna',\n",
       " '/corpo-docente/moacyr-alvim-horta-barbosa-silva',\n",
       " '/corpo-docente/paulo-cezar-p-carvalho',\n",
       " '/corpo-docente/pierre-alexandre-bliman',\n",
       " '/corpo-docente/renato-rocha-souza',\n",
       " '/corpo-docente/rodrigo-santos-targino',\n",
       " '/corpo-docente/vincent-gerard-yannick-guigues',\n",
       " '/corpo-docente/walter-wagner-carvalho-sande',\n",
       " '/corpo-docente/yuri-fahham-saporito',\n",
       " '/corpo-docente/marcio-watanabe']"
      ]
     },
     "execution_count": 20,
     "metadata": {},
     "output_type": "execute_result"
    }
   ],
   "source": [
    "lista_links = [link for link in lista_links if '/corpo-docente/' in link]\n",
    "lista_links"
   ]
  },
  {
   "cell_type": "code",
   "execution_count": 22,
   "metadata": {},
   "outputs": [],
   "source": [
    "requisicao = requests.get('https://emap.fgv.br/' + lista_links[1])\n",
    "soup = BeautifulSoup(requisicao.text, \"lxml\")"
   ]
  },
  {
   "cell_type": "code",
   "execution_count": 23,
   "metadata": {},
   "outputs": [
    {
     "data": {
      "text/plain": [
       "[<a href=\"mailto:antonio.branco@fgv.br\">antonio.branco@fgv.br</a>]"
      ]
     },
     "execution_count": 23,
     "metadata": {},
     "output_type": "execute_result"
    }
   ],
   "source": [
    "email_do_professor = soup.select('a[href^=mailto]')\n",
    "email_do_professor"
   ]
  },
  {
   "cell_type": "code",
   "execution_count": null,
   "metadata": {},
   "outputs": [],
   "source": []
  }
 ],
 "metadata": {
  "kernelspec": {
   "display_name": "Python 3",
   "language": "python",
   "name": "python3"
  },
  "language_info": {
   "codemirror_mode": {
    "name": "ipython",
    "version": 3
   },
   "file_extension": ".py",
   "mimetype": "text/x-python",
   "name": "python",
   "nbconvert_exporter": "python",
   "pygments_lexer": "ipython3",
   "version": "3.6.5"
  }
 },
 "nbformat": 4,
 "nbformat_minor": 2
}
