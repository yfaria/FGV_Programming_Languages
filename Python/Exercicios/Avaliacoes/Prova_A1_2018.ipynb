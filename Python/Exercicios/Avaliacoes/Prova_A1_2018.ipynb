{
 "cells": [
  {
   "cell_type": "markdown",
   "metadata": {
    "deletable": true,
    "editable": true
   },
   "source": [
    "A1 de Linguagens de Programação – 19/09/2018\n",
    "--\n",
    "Professor: Renato Rocha Souza  \n",
    "--"
   ]
  },
  {
   "cell_type": "markdown",
   "metadata": {
    "deletable": true,
    "editable": true
   },
   "source": [
    "Nome do Aluno(a):"
   ]
  },
  {
   "cell_type": "code",
   "execution_count": null,
   "metadata": {
    "collapsed": false,
    "deletable": true,
    "editable": true
   },
   "outputs": [],
   "source": [
    "meu_nome = input('Entre com o seu nome completo: ')\n",
    "print('Olá, {}!'.format(meu_nome))\n",
    "print('Bom trabalho!')"
   ]
  },
  {
   "cell_type": "code",
   "execution_count": null,
   "metadata": {
    "collapsed": true,
    "deletable": true,
    "editable": true
   },
   "outputs": [],
   "source": [
    "# Somente estes módulos podem ser importados para a realização das questões\n",
    "import numpy as np\n",
    "import matplotlib.pyplot as plt\n",
    "import random\n",
    "import re\n",
    "import string\n",
    "import time\n",
    "from IPython.display import clear_output\n",
    "%matplotlib inline"
   ]
  },
  {
   "cell_type": "markdown",
   "metadata": {
    "deletable": true,
    "editable": true
   },
   "source": [
    "Questão 1 (2.5 pontos)  \n",
    "\n",
    "Partindo do código abaixo, escreva comandos para realizar as seguintes tarefas:  \n",
    "a) Crie uma função genérica para construir um dicionário de frequências de palavras de um texto (string), passado como parâmetro. Aplique a função ao texto;  \n",
    "b) Identifique os candidatos a nomes próprios no texto;  \n",
    "c) Imagine que o texto seja constituído pela soma de suas letras, com repetições. Com esta \"caixa de letras\", quantas vezes você conseguiria escrever seu nome completo? Use as letras da variável meu_nome, sem os espaços em branco.  \n",
    "d) Identifique as palavras que só ocorrem uma vez;  \n",
    "e) Crie código para salvar os resultados em um arquivo chamado \"respostas_q1.txt\" no computador.  "
   ]
  },
  {
   "cell_type": "code",
   "execution_count": null,
   "metadata": {},
   "outputs": [],
   "source": [
    "with open('../../Dados/DomCasmurroMachadoAssis.txt', 'r', encoding='utf-8') as f:\n",
    "    texto = f.read()"
   ]
  },
  {
   "cell_type": "code",
   "execution_count": null,
   "metadata": {},
   "outputs": [],
   "source": [
    "#seu código aqui\n",
    "#a)"
   ]
  },
  {
   "cell_type": "code",
   "execution_count": null,
   "metadata": {},
   "outputs": [],
   "source": [
    "#seu código aqui\n",
    "#b)"
   ]
  },
  {
   "cell_type": "code",
   "execution_count": null,
   "metadata": {},
   "outputs": [],
   "source": [
    "#seu código aqui\n",
    "#c)"
   ]
  },
  {
   "cell_type": "code",
   "execution_count": null,
   "metadata": {},
   "outputs": [],
   "source": [
    "#seu código aqui\n",
    "#d)"
   ]
  },
  {
   "cell_type": "code",
   "execution_count": null,
   "metadata": {},
   "outputs": [],
   "source": [
    "#seu código aqui\n",
    "#e)"
   ]
  },
  {
   "cell_type": "markdown",
   "metadata": {
    "deletable": true,
    "editable": true
   },
   "source": [
    "Questão 2 (2.0 pontos)  \n",
    "\n",
    "Seja d(n) definido como a suma dos divisores inteiros de n. Se d(a) = b e d(b) = a, sendo a ≠ b, então a e b são um \"par amigável\" de números.  \n",
    "\n",
    "Por exemplo, os divisores inteiros de 220 são 1, 2, 4, 5, 10, 11, 20, 22, 44, 55 e 110; então d(220) = 284.  \n",
    "Os divisores inteiros de 284 são 1, 2, 4, 71 e 142; então d(284) = 220.  \n",
    "\n",
    "Encontre todos os \"pares amigáveis\" de números menores que 20000.  Crie uma lista de tuplas com esses pares.  "
   ]
  },
  {
   "cell_type": "code",
   "execution_count": null,
   "metadata": {},
   "outputs": [],
   "source": [
    "#seu código aqui"
   ]
  },
  {
   "cell_type": "markdown",
   "metadata": {
    "deletable": true,
    "editable": true
   },
   "source": [
    "Questão 3 (2.5 pontos)  \n",
    "\n",
    "Usando funções geradoras, crie um objeto que emule um dado de oito faces (1-8) que seja viciado, de tal forma que a probabilidade desta função geradora retornar certo valor seja proporcional ao próprio valor (por exemplo, a face 6 é 3 vezes mais provável de sair do que a face 2).  \n",
    "\n",
    "(a) Usando os comandos plt.plot ou plt.hist, mostre graficamente o resultado de 10000 lançamentos;  \n",
    "(b) Modifique esta função geradora de forma que ela termine automaticamente quando todos os valores possíveis (1,2,3,4,5,6,7,8) tiverem sido retornados pelo menos uma vez. Neste caso, ela retornará o tempo absoluto total que ocorreu desde a primeira iteração.  "
   ]
  },
  {
   "cell_type": "code",
   "execution_count": null,
   "metadata": {
    "collapsed": true,
    "deletable": true,
    "editable": true
   },
   "outputs": [],
   "source": [
    "#seu código aqui"
   ]
  },
  {
   "cell_type": "markdown",
   "metadata": {
    "deletable": true,
    "editable": true
   },
   "source": [
    "Questão 4 (3.0 pontos)   \n",
    "\n",
    "Crie uma classe chamada \"Elevador\" que recebe, ao instanciada, o número de andares do edifício e inicia no andar mais baixo.  \n",
    "Crie métodos e propriedades para permitir que o elevador:  \n",
    "- Receba uma chamada (usuário aperta um botão em um andar);  \n",
    "- Receba um andar como destino (usuários apertam botões dentro do elevador);  \n",
    "- Informe em qual andar o elevador está;  \n",
    "- Informe a sequência de andares ainda por visitar;\n",
    "- Informe a quantidade de vezes que parou em cada andar (passar pelo andar sem \"parar\" no andar não conta);  \n",
    "\n",
    "Leve em consideração que cada deslocamento de andar demora 3 segundos.  \n",
    "Simule o comportamento do elevador atendendo à dez usuários, que têm andar de origem, andar de destino e sequência de chegada (fora e dentro do elevador) definidos aleatóriamente.  "
   ]
  },
  {
   "cell_type": "code",
   "execution_count": null,
   "metadata": {
    "collapsed": true,
    "deletable": true,
    "editable": true
   },
   "outputs": [],
   "source": [
    "#seu código aqui"
   ]
  },
  {
   "cell_type": "markdown",
   "metadata": {},
   "source": [
    "Questão bônus I (0.5 ponto)   \n",
    "\n",
    "Ilustre graficamente as posições do elevador acima para a simulação pedida:  "
   ]
  },
  {
   "cell_type": "code",
   "execution_count": null,
   "metadata": {},
   "outputs": [],
   "source": [
    "#seu código aqui"
   ]
  },
  {
   "cell_type": "markdown",
   "metadata": {},
   "source": [
    "Questão bônus II (0.5 ponto)   \n",
    "\n",
    "Crie um simulador de prédio inteligente, controlando chamadas feitas para n > 1 elevadores:  "
   ]
  },
  {
   "cell_type": "code",
   "execution_count": null,
   "metadata": {},
   "outputs": [],
   "source": [
    "#seu código aqui"
   ]
  }
 ],
 "metadata": {
  "kernelspec": {
   "display_name": "Python 3",
   "language": "python",
   "name": "python3"
  },
  "language_info": {
   "codemirror_mode": {
    "name": "ipython",
    "version": 3
   },
   "file_extension": ".py",
   "mimetype": "text/x-python",
   "name": "python",
   "nbconvert_exporter": "python",
   "pygments_lexer": "ipython3",
   "version": "3.6.5"
  }
 },
 "nbformat": 4,
 "nbformat_minor": 2
}
