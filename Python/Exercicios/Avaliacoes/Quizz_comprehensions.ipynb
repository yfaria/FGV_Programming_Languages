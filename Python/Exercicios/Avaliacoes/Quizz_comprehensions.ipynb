{
 "cells": [
  {
   "cell_type": "markdown",
   "metadata": {},
   "source": [
    "1 - Dada a string abaixo:"
   ]
  },
  {
   "cell_type": "code",
   "execution_count": 1,
   "metadata": {
    "collapsed": true
   },
   "outputs": [],
   "source": [
    "jgr = 'Só se pode viver perto de outro, e conhecer outra pessoa, \\\n",
    "sem perigo de ódio, se a gente tem amor. Qualquer amor já é um pouquinho \\\n",
    "de saúde, um descanso na loucura.'"
   ]
  },
  {
   "cell_type": "markdown",
   "metadata": {},
   "source": [
    "Use uma list comprehension para criar uma lista de tuplas na forma:\n",
    "(palavra em maiúscula, palavra em minúscula, tamanho da palavra)"
   ]
  },
  {
   "cell_type": "code",
   "execution_count": null,
   "metadata": {},
   "outputs": [],
   "source": []
  },
  {
   "cell_type": "markdown",
   "metadata": {},
   "source": [
    "2 - Extraia, do texto abaixo, um dicionário de frequências de palavras na forma {palavra: frequência}. Limpe as palavras no quanto for possível."
   ]
  },
  {
   "cell_type": "code",
   "execution_count": 31,
   "metadata": {
    "collapsed": true
   },
   "outputs": [],
   "source": [
    "texto = '''\n",
    "Cansaço\n",
    "O que há em mim é sobretudo cansaço —\n",
    "Não disto nem daquilo,\n",
    "Nem sequer de tudo ou de nada:\n",
    "Cansaço assim mesmo, ele mesmo,\n",
    "Cansaço.\n",
    "\n",
    "A subtileza das sensações inúteis,\n",
    "As paixões violentas por coisa nenhuma,\n",
    "Os amores intensos por o suposto em alguém,\n",
    "Essas coisas todas —\n",
    "Essas e o que falta nelas eternamente —;\n",
    "Tudo isso faz um cansaço,\n",
    "Este cansaço,\n",
    "Cansaço. \n",
    "\n",
    "'''"
   ]
  },
  {
   "cell_type": "code",
   "execution_count": null,
   "metadata": {},
   "outputs": [],
   "source": []
  },
  {
   "cell_type": "markdown",
   "metadata": {},
   "source": [
    "3- Dadas as características do Calendário Gregoriano:  \n",
    "\n",
    " + Janeiro, Março, Maio, Julho, Agosto, Outubro e Dezembro têm trinta e um dias;\n",
    " + Abril, Junho, Setembro e Novembro têm trinta dias;\n",
    " + Fevereiro tem 28 dias, exceto em anos bissextos, quando tem 29.\n",
    " + Anos bissextos ocorrem quando o ano for divisível por 4, mas não quando for divisível por 100, exceto quando for divisível também por 400.\n",
    " \n",
    " + 1o de Janeiro de 1900 caiu em uma segunda-feira.\n",
    "\n",
    "Responda: Quantos sábados cairam no dia primeiro do mês durante o século XX? (1o de Janeiro de 1901 até 31 Dezembro de 2000)?\n"
   ]
  },
  {
   "cell_type": "code",
   "execution_count": null,
   "metadata": {
    "collapsed": true
   },
   "outputs": [],
   "source": []
  },
  {
   "cell_type": "markdown",
   "metadata": {},
   "source": [
    "4- Procure gerar um número (pseudo-)aleatório entre 0 e 9 de forma criativa, usando funções geradoras e o módulo time. \n",
    "Não utilize o módulo random."
   ]
  },
  {
   "cell_type": "code",
   "execution_count": 4,
   "metadata": {},
   "outputs": [],
   "source": [
    "## exemplo para inspirar vocês. Há que se verificar se os números gerados parecem ser aleatórios.\n",
    "import time\n",
    "\n",
    "def numero_aleatorio():\n",
    "    x = time.time()\n",
    "    while True:\n",
    "        num = time.time() - x\n",
    "        #print(num)\n",
    "        num = [n for n in str(num) if n.isdigit()]\n",
    "        num = num[6]\n",
    "        yield int(num)\n",
    "\n",
    "gen = numero_aleatorio()"
   ]
  },
  {
   "cell_type": "code",
   "execution_count": 8,
   "metadata": {},
   "outputs": [
    {
     "name": "stdout",
     "output_type": "stream",
     "text": [
      "7\n"
     ]
    }
   ],
   "source": [
    "print(next(gen))"
   ]
  },
  {
   "cell_type": "code",
   "execution_count": null,
   "metadata": {
    "collapsed": true
   },
   "outputs": [],
   "source": []
  }
 ],
 "metadata": {
  "kernelspec": {
   "display_name": "Python 3",
   "language": "python",
   "name": "python3"
  },
  "language_info": {
   "codemirror_mode": {
    "name": "ipython",
    "version": 3
   },
   "file_extension": ".py",
   "mimetype": "text/x-python",
   "name": "python",
   "nbconvert_exporter": "python",
   "pygments_lexer": "ipython3",
   "version": "3.6.5"
  }
 },
 "nbformat": 4,
 "nbformat_minor": 2
}
