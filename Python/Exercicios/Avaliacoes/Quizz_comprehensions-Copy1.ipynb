{
 "cells": [
  {
   "cell_type": "code",
   "execution_count": 4,
   "metadata": {},
   "outputs": [],
   "source": [
    "import string"
   ]
  },
  {
   "cell_type": "markdown",
   "metadata": {},
   "source": [
    "1 - Dada a string abaixo:"
   ]
  },
  {
   "cell_type": "code",
   "execution_count": 5,
   "metadata": {},
   "outputs": [],
   "source": [
    "jgr = 'Só se pode viver perto de outro, e conhecer outra pessoa, \\\n",
    "sem perigo de ódio, se a gente tem amor. Qualquer amor já é um pouquinho \\\n",
    "de saúde, um descanso na loucura.'"
   ]
  },
  {
   "cell_type": "markdown",
   "metadata": {},
   "source": [
    "Use uma list comprehension para criar uma lista de tuplas na forma:\n",
    "(palavra em maiúscula, palavra em minúscula, tamanho da palavra)"
   ]
  },
  {
   "cell_type": "code",
   "execution_count": 6,
   "metadata": {},
   "outputs": [
    {
     "data": {
      "text/plain": [
       "[('SÓ', 'só', 2),\n",
       " ('SE', 'se', 2),\n",
       " ('PODE', 'pode', 4),\n",
       " ('VIVER', 'viver', 5),\n",
       " ('PERTO', 'perto', 5),\n",
       " ('DE', 'de', 2),\n",
       " ('OUTRO', 'outro', 5),\n",
       " ('E', 'e', 1),\n",
       " ('CONHECER', 'conhecer', 8),\n",
       " ('OUTRA', 'outra', 5),\n",
       " ('PESSOA', 'pessoa', 6),\n",
       " ('SEM', 'sem', 3),\n",
       " ('PERIGO', 'perigo', 6),\n",
       " ('DE', 'de', 2),\n",
       " ('ÓDIO', 'ódio', 4),\n",
       " ('SE', 'se', 2),\n",
       " ('A', 'a', 1),\n",
       " ('GENTE', 'gente', 5),\n",
       " ('TEM', 'tem', 3),\n",
       " ('AMOR', 'amor', 4),\n",
       " ('QUALQUER', 'qualquer', 8),\n",
       " ('AMOR', 'amor', 4),\n",
       " ('JÁ', 'já', 2),\n",
       " ('É', 'é', 1),\n",
       " ('UM', 'um', 2),\n",
       " ('POUQUINHO', 'pouquinho', 9),\n",
       " ('DE', 'de', 2),\n",
       " ('SAÚDE', 'saúde', 5),\n",
       " ('UM', 'um', 2),\n",
       " ('DESCANSO', 'descanso', 8),\n",
       " ('NA', 'na', 2),\n",
       " ('LOUCURA', 'loucura', 7)]"
      ]
     },
     "execution_count": 6,
     "metadata": {},
     "output_type": "execute_result"
    }
   ],
   "source": [
    "palavras = [word.strip(string.punctuation) for word in jgr.split()]\n",
    "palavras = [(word.upper(),word.lower(),len(word)) for word in palavras]\n",
    "palavras"
   ]
  },
  {
   "cell_type": "markdown",
   "metadata": {},
   "source": [
    "2 - Extraia, do texto abaixo, um dicionário de frequências de palavras na forma {palavra: frequência}. Limpe as palavras no quanto for possível."
   ]
  },
  {
   "cell_type": "code",
   "execution_count": 7,
   "metadata": {},
   "outputs": [],
   "source": [
    "texto = '''\n",
    "Cansaço\n",
    "O que há em mim é sobretudo cansaço —\n",
    "Não disto nem daquilo,\n",
    "Nem sequer de tudo ou de nada:\n",
    "Cansaço assim mesmo, ele mesmo,\n",
    "Cansaço.\n",
    "\n",
    "A subtileza das sensações inúteis,\n",
    "As paixões violentas por coisa nenhuma,\n",
    "Os amores intensos por o suposto em alguém,\n",
    "Essas coisas todas —\n",
    "Essas e o que falta nelas eternamente —;\n",
    "Tudo isso faz um cansaço,\n",
    "Este cansaço,\n",
    "Cansaço. \n",
    "\n",
    "'''"
   ]
  },
  {
   "cell_type": "code",
   "execution_count": 29,
   "metadata": {},
   "outputs": [
    {
     "data": {
      "text/plain": [
       "{'a': 1,\n",
       " 'alguém': 1,\n",
       " 'amores': 1,\n",
       " 'as': 1,\n",
       " 'assim': 1,\n",
       " 'cansaço': 7,\n",
       " 'coisa': 1,\n",
       " 'coisas': 1,\n",
       " 'daquilo': 1,\n",
       " 'das': 1,\n",
       " 'de': 2,\n",
       " 'disto': 1,\n",
       " 'e': 1,\n",
       " 'ele': 1,\n",
       " 'em': 2,\n",
       " 'essas': 2,\n",
       " 'este': 1,\n",
       " 'eternamente': 1,\n",
       " 'falta': 1,\n",
       " 'faz': 1,\n",
       " 'há': 1,\n",
       " 'intensos': 1,\n",
       " 'inúteis': 1,\n",
       " 'isso': 1,\n",
       " 'mesmo': 2,\n",
       " 'mim': 1,\n",
       " 'nada': 1,\n",
       " 'nelas': 1,\n",
       " 'nem': 2,\n",
       " 'nenhuma': 1,\n",
       " 'não': 1,\n",
       " 'o': 3,\n",
       " 'os': 1,\n",
       " 'ou': 1,\n",
       " 'paixões': 1,\n",
       " 'por': 2,\n",
       " 'que': 2,\n",
       " 'sensações': 1,\n",
       " 'sequer': 1,\n",
       " 'sobretudo': 1,\n",
       " 'subtileza': 1,\n",
       " 'suposto': 1,\n",
       " 'todas': 1,\n",
       " 'tudo': 2,\n",
       " 'um': 1,\n",
       " 'violentas': 1,\n",
       " 'é': 1}"
      ]
     },
     "execution_count": 29,
     "metadata": {},
     "output_type": "execute_result"
    }
   ],
   "source": [
    "palavras = texto.split()\n",
    "palavras = [word.lower() for word in palavras]\n",
    "palavras = [word.strip(string.punctuation + '—') for word in palavras]\n",
    "palavras = [word for word in palavras if word != '']\n",
    "palavras\n",
    "freqdist = {}\n",
    "for palavra in palavras:\n",
    "    if palavra in freqdist:\n",
    "        freqdist[palavra] += 1\n",
    "    else:\n",
    "        freqdist[palavra] = 1\n",
    "freqdist"
   ]
  },
  {
   "cell_type": "markdown",
   "metadata": {},
   "source": [
    "3- Dadas as características do Calendário Gregoriano:  \n",
    "\n",
    " + Janeiro, Março, Maio, Julho, Agosto, Outubro e Dezembro têm trinta e um dias;\n",
    " + Abril, Junho, Setembro e Novembro têm trinta dias;\n",
    " + Fevereiro tem 28 dias, exceto em anos bissextos, quando tem 29.\n",
    " + Anos bissextos ocorrem quando o ano for divisível por 4, mas não quando for divisível por 100, exceto quando for divisível também por 400.\n",
    " \n",
    " + 1o de Janeiro de 1900 caiu em uma segunda-feira.\n",
    "\n",
    "Responda: Quantos sábados cairam no dia primeiro do mês durante o século XX? (1o de Janeiro de 1901 até 31 Dezembro de 2000)?\n"
   ]
  },
  {
   "cell_type": "code",
   "execution_count": 9,
   "metadata": {},
   "outputs": [
    {
     "data": {
      "text/plain": [
       "171"
      ]
     },
     "execution_count": 9,
     "metadata": {},
     "output_type": "execute_result"
    }
   ],
   "source": [
    "#achar número de dias:\n",
    "anonormal = [31, 28, 31, 30, 31, 30, 31, 31, 30, 31, 30, 31]\n",
    "anobissexto = [31, 29, 31, 30, 31, 30, 31, 31, 30, 31, 30, 31]\n",
    "#primerosdias = [1, 32, 60, 90, 121, 151, 182, 213, 243, 274, 304, 335]\n",
    "#primerosdiasbi = [1, 32, 61, 91, 122, 152, 183, 214, 244, 275, 305, 336]\n",
    "prosdias = [1]\n",
    "#achar os dias que iniciam meses:\n",
    "for ano in range(1901,2001):\n",
    "    if (ano%4 == 0 and ano%100 != 0) or ano%400 == 0:\n",
    "        diasano = 366\n",
    "        for mes in range(0,12):\n",
    "            prosdias.append(prosdias[-1] + anobissexto[mes])\n",
    "    else:\n",
    "        diasano = 365\n",
    "        for mes in range(0,12):\n",
    "            prosdias.append(prosdias[-1] + anonormal[mes])\n",
    "#achar os dias que são sabados\n",
    "sabados = [dia for dia in range(5, diastot + 1, 7)]\n",
    "#contar quantos tem em comum:\n",
    "prosabados = 0\n",
    "for dias in prosdias:\n",
    "    if dias in sabados:\n",
    "        prosabados += 1\n",
    "prosabados\n",
    "#sabados\n",
    "#prosabados"
   ]
  },
  {
   "cell_type": "markdown",
   "metadata": {},
   "source": [
    "4- Procure gerar um número (pseudo-)aleatório entre 0 e 9 de forma criativa, usando funções geradoras e o módulo time. \n",
    "Não utilize o módulo random."
   ]
  },
  {
   "cell_type": "code",
   "execution_count": 11,
   "metadata": {},
   "outputs": [],
   "source": [
    "## exemplo para inspirar vocês. Há que se verificar se os números gerados parecem ser aleatórios.\n",
    "import time\n",
    "\n",
    "def numero_aleatorio():\n",
    "    x = time.time()\n",
    "    while True:\n",
    "        num = time.time() - x\n",
    "        print(num)\n",
    "        num = [n for n in str(num) if n.isdigit()]\n",
    "        num = num[6]\n",
    "        yield int(num)\n",
    "\n",
    "gen = numero_aleatorio()"
   ]
  },
  {
   "cell_type": "code",
   "execution_count": 12,
   "metadata": {},
   "outputs": [
    {
     "name": "stdout",
     "output_type": "stream",
     "text": [
      "4.76837158203125e-06\n",
      "1\n"
     ]
    }
   ],
   "source": [
    "print(next(gen))"
   ]
  },
  {
   "cell_type": "code",
   "execution_count": 67,
   "metadata": {},
   "outputs": [],
   "source": [
    "def no_aleatorio():\n",
    "    t0 = time.time()\n",
    "    while True:\n",
    "        dt = (time.time()) - t0\n",
    "        print(dt)\n",
    "        num = dt * time.time()\n",
    "        print(num)\n",
    "        num = (num % 97) % 10\n",
    "        yield int(num)"
   ]
  },
  {
   "cell_type": "code",
   "execution_count": 68,
   "metadata": {},
   "outputs": [],
   "source": [
    "ka = no_aleatorio()"
   ]
  },
  {
   "cell_type": "code",
   "execution_count": 186,
   "metadata": {},
   "outputs": [
    {
     "name": "stdout",
     "output_type": "stream",
     "text": [
      "29.08609890937805\n",
      "44692193065.95984\n"
     ]
    },
    {
     "data": {
      "text/plain": [
       "9"
      ]
     },
     "execution_count": 186,
     "metadata": {},
     "output_type": "execute_result"
    }
   ],
   "source": [
    "next(ka)"
   ]
  },
  {
   "cell_type": "code",
   "execution_count": 33,
   "metadata": {},
   "outputs": [
    {
     "ename": "NameError",
     "evalue": "name 'freqdist' is not defined",
     "output_type": "error",
     "traceback": [
      "\u001b[0;31m---------------------------------------------------------------------------\u001b[0m",
      "\u001b[0;31mNameError\u001b[0m                                 Traceback (most recent call last)",
      "\u001b[0;32m<ipython-input-33-35b050e5cf97>\u001b[0m in \u001b[0;36m<module>\u001b[0;34m()\u001b[0m\n\u001b[0;32m----> 1\u001b[0;31m \u001b[0mteste\u001b[0m \u001b[0;34m=\u001b[0m \u001b[0mlist\u001b[0m\u001b[0;34m(\u001b[0m\u001b[0mfreqdist\u001b[0m\u001b[0;34m.\u001b[0m\u001b[0mitems\u001b[0m\u001b[0;34m(\u001b[0m\u001b[0;34m)\u001b[0m\u001b[0;34m)\u001b[0m\u001b[0;34m\u001b[0m\u001b[0m\n\u001b[0m\u001b[1;32m      2\u001b[0m \u001b[0mdeszip_teste\u001b[0m \u001b[0;34m=\u001b[0m \u001b[0mzip\u001b[0m\u001b[0;34m(\u001b[0m\u001b[0;34m*\u001b[0m\u001b[0mteste\u001b[0m\u001b[0;34m)\u001b[0m\u001b[0;34m\u001b[0m\u001b[0m\n\u001b[1;32m      3\u001b[0m \u001b[0mTTT\u001b[0m \u001b[0;34m=\u001b[0m \u001b[0mlist\u001b[0m\u001b[0;34m(\u001b[0m\u001b[0mdeszip_teste\u001b[0m\u001b[0;34m)\u001b[0m\u001b[0;34m\u001b[0m\u001b[0m\n\u001b[1;32m      4\u001b[0m \u001b[0mPPP\u001b[0m \u001b[0;34m=\u001b[0m \u001b[0mTTT\u001b[0m\u001b[0;34m.\u001b[0m\u001b[0mcopy\u001b[0m\u001b[0;34m(\u001b[0m\u001b[0;34m)\u001b[0m\u001b[0;34m\u001b[0m\u001b[0m\n\u001b[1;32m      5\u001b[0m \u001b[0mx\u001b[0m \u001b[0;34m=\u001b[0m \u001b[0mlist\u001b[0m\u001b[0;34m(\u001b[0m\u001b[0mPPP\u001b[0m\u001b[0;34m[\u001b[0m\u001b[0;36m1\u001b[0m\u001b[0;34m]\u001b[0m\u001b[0;34m)\u001b[0m\u001b[0;34m\u001b[0m\u001b[0m\n",
      "\u001b[0;31mNameError\u001b[0m: name 'freqdist' is not defined"
     ]
    }
   ],
   "source": [
    "teste = list(freqdist.items())\n",
    "deszip_teste = zip(*teste)\n",
    "TTT = list(deszip_teste)\n",
    "PPP = TTT.copy()\n",
    "x = list(PPP[1])\n",
    "x"
   ]
  },
  {
   "cell_type": "code",
   "execution_count": 165,
   "metadata": {},
   "outputs": [],
   "source": [
    "k = [1,5,3,6]"
   ]
  },
  {
   "cell_type": "code",
   "execution_count": 166,
   "metadata": {},
   "outputs": [],
   "source": [
    "k += [5,10]"
   ]
  },
  {
   "cell_type": "code",
   "execution_count": 167,
   "metadata": {},
   "outputs": [
    {
     "data": {
      "text/plain": [
       "[1, 5, 3, 6, 5, 10]"
      ]
     },
     "execution_count": 167,
     "metadata": {},
     "output_type": "execute_result"
    }
   ],
   "source": [
    "#achar número de dias:\n",
    "diastot = 0\n",
    "diaspano = []\n",
    "for ano in range(1991,2001):\n",
    "    if (ano%4 == 0 and ano%100 != 0) or ano%400 == 0:\n",
    "        diasano = 366\n",
    "    else:\n",
    "        diasano = 365\n",
    "    diaspano.append((ano, diasano))\n",
    "    diastot += diasano\n",
    "#Agora o de sábados, o primeiro sabado eh em 5/01/1901\n",
    "sabados = [dia for dia in range(5, diastot + 1, 7)]\n",
    "primerosdias = []"
   ]
  },
  {
   "cell_type": "code",
   "execution_count": null,
   "metadata": {},
   "outputs": [],
   "source": [
    "anonormal = [31, 28, 31, 30, 31, 30, 31, 31, 30, 31, 30, 31]\n",
    "anobissexto = [31, 29, 31, 30, 31, 30, 31, 31, 30, 31, 30, 31]\n",
    "primerosdias = [1, 32, 60, 90, 121, 151, 182, 213, 243, 274, 304, 335]\n",
    "primerosdiasbi = [1, 32, 61, 91, 122, 152, 183, 214, 244, 275, 305, 336]\n",
    "prosdias = [1, 32, 60, 90, 121, 151, 182, 213, 243, 274, 304, 335]\n",
    "#achar os dias\n",
    "for ano in range(1901,2001):\n",
    "    if (ano % 4 == 0 and ano % 100 != 0) or (ano%400 == 0): #bissexto\n",
    "        primeirosdias += [(ano-1901)*365 + prmodiames for prmodiames in primerosdiasbi]\n",
    "    else:\n",
    "        "
   ]
  }
 ],
 "metadata": {
  "kernelspec": {
   "display_name": "Python 3",
   "language": "python",
   "name": "python3"
  },
  "language_info": {
   "codemirror_mode": {
    "name": "ipython",
    "version": 3
   },
   "file_extension": ".py",
   "mimetype": "text/x-python",
   "name": "python",
   "nbconvert_exporter": "python",
   "pygments_lexer": "ipython3",
   "version": "3.5.2"
  }
 },
 "nbformat": 4,
 "nbformat_minor": 2
}
