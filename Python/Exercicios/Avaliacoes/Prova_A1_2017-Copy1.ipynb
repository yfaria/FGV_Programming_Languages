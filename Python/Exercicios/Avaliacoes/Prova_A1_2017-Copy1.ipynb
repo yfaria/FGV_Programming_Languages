{
 "cells": [
  {
   "cell_type": "markdown",
   "metadata": {},
   "source": [
    "A1 de Linguagens de Programação – 28/09/2017\n",
    "--\n",
    "Professor: Renato Rocha Souza  \n",
    "--"
   ]
  },
  {
   "cell_type": "markdown",
   "metadata": {},
   "source": [
    "Nome do Aluno(a):"
   ]
  },
  {
   "cell_type": "code",
   "execution_count": 1,
   "metadata": {},
   "outputs": [
    {
     "name": "stdout",
     "output_type": "stream",
     "text": [
      "Entre com o seu nome completo: Renato Rocha Souza\n",
      "Olá, Renato Rocha Souza!\n",
      "Bom trabalho!\n"
     ]
    }
   ],
   "source": [
    "meu_nome = input('Entre com o seu nome completo: ')\n",
    "print('Olá, {}!'.format(meu_nome))\n",
    "print('Bom trabalho!')"
   ]
  },
  {
   "cell_type": "code",
   "execution_count": 2,
   "metadata": {},
   "outputs": [],
   "source": [
    "# Somente estes módulos podem ser importados para a realização das questões\n",
    "import numpy as np\n",
    "import matplotlib.pyplot as plt\n",
    "import requests\n",
    "import random\n",
    "import re\n",
    "import string\n",
    "import time\n",
    "from bs4 import BeautifulSoup as bs\n",
    "from IPython.display import clear_output\n",
    "%matplotlib inline"
   ]
  },
  {
   "cell_type": "code",
   "execution_count": null,
   "metadata": {},
   "outputs": [],
   "source": []
  },
  {
   "cell_type": "markdown",
   "metadata": {},
   "source": [
    "Questão 1 (1,5 pontos)  \n",
    "\n",
    "\n",
    "Mostre graficamente (usando matplotlib) que as funções:  \n",
    "$ y = 2x^2 - 10x -32$  \n",
    "e  \n",
    "$ y = 2x^3 - 12x^2 +4x +2$  \n",
    "possuem, respectivamente, 2 e 3 raízes reais e distintas.  "
   ]
  },
  {
   "cell_type": "code",
   "execution_count": 22,
   "metadata": {},
   "outputs": [
    {
     "data": {
      "image/png": "[encoded data removed]",
      "text/plain": [
       "<Figure size 432x288 with 1 Axes>"
      ]
     },
     "metadata": {},
     "output_type": "display_data"
    },
    {
     "data": {
      "image/png": "[encoded data removed]",
      "text/plain": [
       "<Figure size 432x288 with 1 Axes>"
      ]
     },
     "metadata": {},
     "output_type": "display_data"
    }
   ],
   "source": [
    "x = np.linspace(-100,100,1000)\n",
    "y1 = 2*(x**2) - 10*x - 32\n",
    "y2 = 2*(x**3) - 12*(x**2) + 4*x + 2\n",
    "eixox = np.zeros(1000)\n",
    "plt.xlim(-20,20)\n",
    "plt.ylim(-50,50)\n",
    "plt.plot(x,y1)\n",
    "plt.plot(x,eixox)\n",
    "plt.show()\n",
    "plt.plot(x,y2)\n",
    "plt.plot(x,eixox)\n",
    "plt.axis([-10,10,-50,30])\n",
    "# plt.xlim(-10,0)\n",
    "# plt.ylim(-50,50)\n",
    "plt.show()"
   ]
  },
  {
   "cell_type": "markdown",
   "metadata": {},
   "source": [
    "Questão 2 (2.5 pontos)  \n",
    "\n",
    "Partindo do código abaixo, escreva comandos para realizar as seguintes tarefas:\n",
    "- Identificar as 10 palavras mais frequentes, independente de possuírem letras maiúsculas ou minúsculas;\n",
    "- Identificar os trechos em que há uma citação de fala de personagens (entre aspas);\n",
    "- Identificar as 5 letras mais comuns no final de palavras;\n",
    "- Salvar os resultados em um arquivo chamado \"respostas_q2.txt\" no computador"
   ]
  },
  {
   "cell_type": "code",
   "execution_count": 23,
   "metadata": {},
   "outputs": [],
   "source": [
    "url = 'http://www.releituras.com/guimarosa_margem.asp'\n",
    "page = requests.get(url)\n",
    "html = page.text\n",
    "sopa = bs(html, \"lxml\")\n",
    "texto = sopa.text"
   ]
  },
  {
   "cell_type": "code",
   "execution_count": 25,
   "metadata": {},
   "outputs": [
    {
     "data": {
      "text/plain": [
       "'Service Unavailable\\n\\nService Unavailable\\nHTTP Error 503. The service is unavailable.\\n\\n'"
      ]
     },
     "execution_count": 25,
     "metadata": {},
     "output_type": "execute_result"
    }
   ],
   "source": [
    "texto"
   ]
  },
  {
   "cell_type": "markdown",
   "metadata": {},
   "source": [
    "Questão 3 (3 pontos)  \n",
    "\n",
    "Christian Goldbach propos que qualquer número ímpar não primo pode ser formado pela soma de um número primo e duas vezes o quadrado de outro número.\n",
    "\n",
    "$9 = 7 + 2×1^2$  \n",
    "$15 = 7 + 2×2^2$  \n",
    "$21 = 3 + 2×3^2$  \n",
    "$25 = 7 + 2×3^2$  \n",
    "$27 = 19 + 2×2^2$  \n",
    "$33 = 31 + 2×1^2$  \n",
    "\n",
    "A conjectura se mostrou falsa. \n",
    "\n",
    "Crie um programa para mostrar qual o primeiro número ímpar não primo que não pode ser escrito pela soma de um primo e duas vezes o quadrado de outro número."
   ]
  },
  {
   "cell_type": "code",
   "execution_count": 6,
   "metadata": {},
   "outputs": [
    {
     "name": "stdout",
     "output_type": "stream",
     "text": [
      "5777\n",
      "CPU times: user 888 ms, sys: 0 ns, total: 888 ms\n",
      "Wall time: 888 ms\n"
     ]
    }
   ],
   "source": []
  },
  {
   "cell_type": "markdown",
   "metadata": {
    "collapsed": true
   },
   "source": [
    "Questão 4 (3 pontos) \n",
    "\n",
    "Vamos ajudar uma tartaruga a sair de um labirinto?  \n",
    "\n",
    "Implemente em Python uma classe chamada “Tartaruga” com as seguintes propriedades:  \n",
    "\n",
    "- Recebe um labirinto (array do numpy) com 0s nas células desocupadas e 1s nas células ocupadas;\n",
    "- Sorteia, ao iniciar, uma posição aleatória para si neste array (representada por 2) dentre as células com 0 (não ocupadas);  \n",
    "- Possui um método \"andar\", que recebe as ordens:\n",
    "    - Norte, na qual tenta diminuir o índice da linha, mantendo o da coluna;\n",
    "    - Sul, na qual tenta aumentar o índice da linha, mantendo o da coluna;\n",
    "    - Leste, na qual tenta aumentar o índice da coluna, mantendo o da linha;\n",
    "    - Oeste, na qual tenta diminuir o índice da coluna, mantendo o da linha;\n",
    "    - Só pode andar para posições que estão ocupadas com '0'.\n",
    "- Possui um método para mostrar a sua posição no labirinto;\n",
    "- Deve guardar as posições que já visitou e a quantidade de vezes (com método para mostrar este array);\n",
    "- Possui um método \"tenta_sair\" com uma estratégia:  \n",
    "    - Anda para o norte, enquanto for possível; \n",
    "    - Quando não for possível andar para o norte, anda para o sul;\n",
    "    - Quando não for possível andar para o norte ou o sul, anda para o leste;\n",
    "    - Quando não for possível andar para o norte ou o sul ou o leste, anda para oeste;\n",
    "    - Quando passar por uma célula já visitada, deve mudar a sequência de \"tenta_sair\" na forma:  \n",
    "        NSLO -> SLON -> LONS -> ONSL -> ...  \n",
    "- Deve saber a cada passo se saiu do labirinto, mostrando uma mensagem e interrompendo o processo de tentar sair;\n",
    "- Caso não consiga sair em 1000 iterações, deve declarar que é impossível sair.  "
   ]
  },
  {
   "cell_type": "code",
   "execution_count": 40,
   "metadata": {},
   "outputs": [
    {
     "data": {
      "text/plain": [
       "(22, 22)"
      ]
     },
     "execution_count": 40,
     "metadata": {},
     "output_type": "execute_result"
    }
   ],
   "source": [
    "#exemplo de labirinto\n",
    "\n",
    "labirinto = np.array([[1,1,1,1,1,1,1,1,1,1,1,1,1,1,1,1,1,1,1,1,1,1],\n",
    "                      [1,0,0,0,1,0,0,0,1,1,0,1,1,0,0,0,0,0,1,0,0,0],\n",
    "                      [1,0,1,0,0,0,0,0,0,0,0,0,0,0,1,1,1,0,1,0,1,1],\n",
    "                      [1,0,1,0,1,0,1,1,1,0,0,1,0,1,1,0,0,0,1,0,1,1],\n",
    "                      [1,0,0,0,1,0,0,1,1,0,0,1,1,1,1,0,0,0,1,0,1,1],\n",
    "                      [1,0,1,0,1,0,0,0,1,0,0,1,0,0,1,0,0,1,1,0,1,1],\n",
    "                      [1,0,1,0,1,0,0,1,0,0,0,1,0,1,1,1,0,0,1,0,1,1],\n",
    "                      [1,0,0,0,1,0,0,1,1,0,0,0,0,1,1,0,1,0,1,0,1,1],\n",
    "                      [1,0,1,0,1,0,0,1,1,0,0,1,1,1,1,0,0,0,1,0,1,1],\n",
    "                      [1,1,1,0,1,1,1,1,1,1,0,0,0,0,1,1,1,0,1,0,0,1],\n",
    "                      [1,0,0,0,0,0,0,0,0,0,0,1,1,0,0,1,1,0,0,0,0,1],\n",
    "                      [1,0,1,1,1,0,1,1,1,1,1,1,0,0,0,1,1,1,1,1,0,1],\n",
    "                      [1,0,1,0,0,0,1,1,0,1,0,1,0,0,0,1,1,1,1,1,0,1],\n",
    "                      [1,0,1,0,1,1,1,1,0,1,0,1,1,1,0,0,0,0,1,1,0,1],\n",
    "                      [1,0,1,0,0,0,0,0,0,1,0,1,0,1,0,1,1,0,1,1,0,1],\n",
    "                      [1,0,1,1,0,1,1,1,1,1,0,1,0,0,0,1,1,0,1,1,0,1],\n",
    "                      [1,0,1,1,0,0,1,1,1,0,0,1,0,0,1,1,1,0,1,1,0,1],\n",
    "                      [1,1,1,1,1,0,1,1,1,0,1,1,0,0,0,1,1,1,1,1,0,1],\n",
    "                      [1,0,0,0,0,0,1,0,0,0,1,1,1,1,0,1,1,0,0,1,0,1],\n",
    "                      [1,0,1,1,1,1,1,1,1,0,0,0,0,0,0,0,0,1,0,0,0,1],\n",
    "                      [1,0,0,0,0,0,0,0,0,0,0,0,0,0,0,0,0,1,0,1,1,1],\n",
    "                      [1,1,1,1,1,1,1,1,1,1,1,1,1,1,1,1,1,1,0,1,1,1]], dtype=int)\n",
    "\n",
    "labirinto.shape"
   ]
  },
  {
   "cell_type": "code",
   "execution_count": 41,
   "metadata": {},
   "outputs": [
    {
     "data": {
      "text/plain": [
       "<matplotlib.image.AxesImage at 0x7ff0b6458908>"
      ]
     },
     "execution_count": 41,
     "metadata": {},
     "output_type": "execute_result"
    },
    {
     "data": {
      "image/png": "[encoded data removed]",
      "text/plain": [
       "<matplotlib.figure.Figure at 0x7ff0b6458d30>"
      ]
     },
     "metadata": {},
     "output_type": "display_data"
    }
   ],
   "source": [
    "fig, ax = plt.subplots(figsize = (8,8))\n",
    "ax.matshow(labirinto, cmap=plt.cm.Blues)"
   ]
  },
  {
   "cell_type": "code",
   "execution_count": 83,
   "metadata": {},
   "outputs": [],
   "source": [
    "class Tartaruga:\n",
    "    def __init__(self,labirinto):\n",
    "        self.labirinto = labirinto.copy()\n",
    "        self.dim = labirinto.shape\n",
    "        self.posicoes = labirinto.copy()\n",
    "        while True:\n",
    "            self.linha = np.random.randint(labirinto.shape[0])\n",
    "            self.coluna = np.random.randint(labirinto.shape[1])\n",
    "            if labirinto[self.linha,self.coluna] == 0:\n",
    "                self.labirinto[self.linha,self.coluna] = 2\n",
    "                break\n",
    "                \n",
    "    def mostra_posicao(self):\n",
    "        fig, ax = plt.subplots(figsize = (8,8))\n",
    "        ax.matshow(self.labirinto, cmap=plt.cm.Blues)\n",
    "    \n",
    "    def mostra_visitas(self):\n",
    "        fig, ax = plt.subplots(figsize = (8,8))\n",
    "        ax.matshow(self.posicoes, cmap=plt.cm.inferno)\n",
    "        \n",
    "    def guarda_visitas(self):\n",
    "        self.posicoes[self.linha,self.coluna] -= 1\n",
    "                \n",
    "    def saiu(self, linha, coluna):\n",
    "        if linha == 0 or coluna == 0 or linha == self.labirinto.shape[0]-1 or coluna == self.labirinto.shape[1]-1:\n",
    "            return True\n",
    "        else:\n",
    "            return False\n",
    "        \n",
    "    def parede(self, linha, coluna):\n",
    "        if self.labirinto[linha,coluna] == 1:\n",
    "            return True\n",
    "                \n",
    "    def andar(self, direcao):\n",
    "        if direcao == 'N' and not self.parede(self.linha-1,self.coluna):\n",
    "            self.labirinto[self.linha,self.coluna] = 0\n",
    "            self.linha -= 1\n",
    "            self.labirinto[self.linha,self.coluna] = 2\n",
    "            self.guarda_visitas()\n",
    "        elif direcao == 'S' and not self.parede(self.linha+1,self.coluna):\n",
    "            self.labirinto[self.linha,self.coluna] = 0\n",
    "            self.linha += 1\n",
    "            self.labirinto[self.linha,self.coluna] = 2\n",
    "            self.guarda_visitas()\n",
    "        elif direcao == 'L' and not self.parede(self.linha,self.coluna+1):\n",
    "            self.labirinto[self.linha,self.coluna] = 0\n",
    "            self.coluna += 1\n",
    "            self.labirinto[self.linha,self.coluna] = 2\n",
    "            self.guarda_visitas()\n",
    "        elif direcao == 'O' and not self.parede(self.linha,self.coluna-1):\n",
    "            self.labirinto[self.linha,self.coluna] = 0\n",
    "            self.coluna -= 1\n",
    "            self.labirinto[self.linha,self.coluna] = 2\n",
    "            self.guarda_visitas()\n",
    "\n",
    "    def tenta_sair(self,iteracoes):\n",
    "        for i in range(iteracoes):\n",
    "            direcao = random.choice(list('NSLO'))\n",
    "            self.andar(direcao)\n",
    "            if self.saiu(self.linha, self.coluna):\n",
    "                print('Tartaruga Saiu!!')\n",
    "                break\n",
    "                self.mostra_posicao()\n",
    "        if not self.saiu(self.linha, self.coluna):\n",
    "            print('Tartaruga não conseguiu sair')\n",
    "    \n",
    "# O algoritmo originalmente pedido não garantia que a tartaruga saísse...\n",
    "#\n",
    "#    def andar(self, direcao):\n",
    "#        if direcao == 'N' and not self.parede(self.linha-1,self.coluna):\n",
    "#            self.labirinto[self.linha,self.coluna] = 0\n",
    "#            self.linha -= 1\n",
    "#            self.labirinto[self.linha,self.coluna] = 2\n",
    "#            self.guarda_visitas()\n",
    "#            return True\n",
    "#        elif direcao == 'S' and not self.parede(self.linha+1,self.coluna):\n",
    "#            self.labirinto[self.linha,self.coluna] = 0\n",
    "#            self.linha += 1\n",
    "#            self.labirinto[self.linha,self.coluna] = 2\n",
    "#            self.guarda_visitas()\n",
    "#            return True\n",
    "#        elif direcao == 'L' and not self.parede(self.linha,self.coluna+1):\n",
    "#            self.labirinto[self.linha,self.coluna] = 0\n",
    "#            self.coluna += 1\n",
    "#            self.labirinto[self.linha,self.coluna] = 2\n",
    "#            self.guarda_visitas()\n",
    "#            return True\n",
    "#        elif direcao == 'O' and not self.parede(self.linha,self.coluna-1):\n",
    "#            self.labirinto[self.linha,self.coluna] = 0\n",
    "#            self.coluna -= 1\n",
    "#            self.labirinto[self.linha,self.coluna] = 2\n",
    "#            self.guarda_visitas()\n",
    "#            return True\n",
    "#        return False\n",
    "#\n",
    "#\n",
    "#        def tenta_sair(self):\n",
    "#            for i in range(100):\n",
    "#                self.mostra_posicao()\n",
    "#                sucesso = True\n",
    "#                while sucesso:\n",
    "#                    sucesso = self.andar('N')\n",
    "#                sucesso = True    \n",
    "#                while sucesso:\n",
    "#                    sucesso = self.andar('L')\n",
    "#                sucesso = True    \n",
    "#                while sucesso:\n",
    "#                    sucesso = self.andar('S')\n",
    "#                sucesso = True    \n",
    "#                while sucesso:\n",
    "#                    sucesso = self.andar('O')\n",
    "#                #time.sleep(1)\n",
    "#                clear_output()"
   ]
  },
  {
   "cell_type": "code",
   "execution_count": 84,
   "metadata": {},
   "outputs": [
    {
     "name": "stdout",
     "output_type": "stream",
     "text": [
      "Tartaruga Saiu!!\n"
     ]
    },
    {
     "data": {
      "image/png": "[encoded data removed]",
      "text/plain": [
       "<matplotlib.figure.Figure at 0x7ff0b5632e10>"
      ]
     },
     "metadata": {},
     "output_type": "display_data"
    },
    {
     "data": {
      "image/png": "[encoded data removed]",
      "text/plain": [
       "<matplotlib.figure.Figure at 0x7ff0b647def0>"
      ]
     },
     "metadata": {},
     "output_type": "display_data"
    },
    {
     "data": {
      "image/png": "[encoded data removed]",
      "text/plain": [
       "<matplotlib.figure.Figure at 0x7ff0b5a572e8>"
      ]
     },
     "metadata": {},
     "output_type": "display_data"
    }
   ],
   "source": [
    "turtle = Tartaruga(labirinto)\n",
    "turtle.mostra_posicao()\n",
    "turtle.tenta_sair(10000)\n",
    "turtle.mostra_posicao()\n",
    "turtle.mostra_visitas()"
   ]
  },
  {
   "cell_type": "markdown",
   "metadata": {
    "collapsed": true
   },
   "source": [
    "Questão Bônus (0,5 pontos)  \n",
    "\n",
    "O problema de Monty Hall, também conhecido por paradoxo de Monty Hall é um problema matemático e paradoxo que surgiu a partir de um concurso televisivo dos Estados Unidos chamado \"Let’s Make a Deal\", exibido na década de 1970. O jogo consiste no seguinte: Monty Hall (o apresentador) apresentava 3 portas aos concorrentes, sabendo que atrás de uma delas está um carro (prêmio bom) e que as outras têm prêmios de pouco valor.\n",
    "\n",
    "- Na 1ª etapa o concorrente escolhe uma porta (que ainda não é aberta);  \n",
    "- Em seguida, Monty abre uma das outras duas portas que o concorrente não escolheu, sabendo de antemão que o carro não se encontra na porta que abrirá;  \n",
    "- Agora com duas portas apenas para escolher — pois uma delas já se viu, na 2ª etapa, que não tinha o prêmio — e sabendo que o carro está atrás de uma delas, o concorrente tem que se decidir se permanece com a porta que escolheu no início do jogo e abre-a ou se muda para a outra porta que ainda está fechada para então a abrir.  \n",
    "\n",
    "Demonstre graficamente que é mais provável ganhar o prêmio se trocar de porta do que se não o fizer. Quais as probabilidade de acertar, em ambos os casos?"
   ]
  },
  {
   "cell_type": "code",
   "execution_count": null,
   "metadata": {
    "collapsed": true
   },
   "outputs": [],
   "source": [
    "#seu código aqui"
   ]
  },
  {
   "cell_type": "code",
   "execution_count": null,
   "metadata": {
    "collapsed": true
   },
   "outputs": [],
   "source": []
  }
 ],
 "metadata": {
  "kernelspec": {
   "display_name": "Python 3",
   "language": "python",
   "name": "python3"
  },
  "language_info": {
   "codemirror_mode": {
    "name": "ipython",
    "version": 3
   },
   "file_extension": ".py",
   "mimetype": "text/x-python",
   "name": "python",
   "nbconvert_exporter": "python",
   "pygments_lexer": "ipython3",
   "version": "3.5.2"
  }
 },
 "nbformat": 4,
 "nbformat_minor": 1
}
