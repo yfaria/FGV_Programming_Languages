{
 "cells": [
  {
   "cell_type": "markdown",
   "metadata": {},
   "source": [
    "1 - Dada a string abaixo:"
   ]
  },
  {
   "cell_type": "code",
   "execution_count": 1,
   "metadata": {
    "collapsed": true
   },
   "outputs": [],
   "source": [
    "jgr = 'Só se pode viver perto de outro, e conhecer outra pessoa, \\\n",
    "sem perigo de ódio, se a gente tem amor. Qualquer amor já é um pouquinho \\\n",
    "de saúde, um descanso na loucura.'"
   ]
  },
  {
   "cell_type": "markdown",
   "metadata": {},
   "source": [
    "Use uma list comprehension para criar uma lista de tuplas na forma:\n",
    "(palavra em maiúscula, palavra em minúscula, tamanho da palavra)"
   ]
  },
  {
   "cell_type": "code",
   "execution_count": 4,
   "metadata": {},
   "outputs": [
    {
     "data": {
      "text/plain": [
       "[('SÓ', 'só', 2),\n",
       " ('SE', 'se', 2),\n",
       " ('PODE', 'pode', 4),\n",
       " ('VIVER', 'viver', 5),\n",
       " ('PERTO', 'perto', 5),\n",
       " ('DE', 'de', 2),\n",
       " ('OUTRO', 'outro', 5),\n",
       " ('E', 'e', 1),\n",
       " ('CONHECER', 'conhecer', 8),\n",
       " ('OUTRA', 'outra', 5),\n",
       " ('PESSOA', 'pessoa', 6),\n",
       " ('SEM', 'sem', 3),\n",
       " ('PERIGO', 'perigo', 6),\n",
       " ('DE', 'de', 2),\n",
       " ('ÓDIO', 'ódio', 4),\n",
       " ('SE', 'se', 2),\n",
       " ('A', 'a', 1),\n",
       " ('GENTE', 'gente', 5),\n",
       " ('TEM', 'tem', 3),\n",
       " ('AMOR', 'amor', 4),\n",
       " ('QUALQUER', 'qualquer', 8),\n",
       " ('AMOR', 'amor', 4),\n",
       " ('JÁ', 'já', 2),\n",
       " ('É', 'é', 1),\n",
       " ('UM', 'um', 2),\n",
       " ('POUQUINHO', 'pouquinho', 9),\n",
       " ('DE', 'de', 2),\n",
       " ('SAÚDE', 'saúde', 5),\n",
       " ('UM', 'um', 2),\n",
       " ('DESCANSO', 'descanso', 8),\n",
       " ('NA', 'na', 2),\n",
       " ('LOUCURA', 'loucura', 7)]"
      ]
     },
     "execution_count": 4,
     "metadata": {},
     "output_type": "execute_result"
    }
   ],
   "source": [
    "import string\n",
    "[(palavra.upper(),palavra.lower(), len(palavra)) for \\\n",
    " palavra in [p.strip(string.punctuation) for p in jgr.split()]]"
   ]
  },
  {
   "cell_type": "markdown",
   "metadata": {},
   "source": [
    "2 - Extraia, do texto abaixo, um dicionário de frequências de palavras na forma {palavra: frequência}. Limpe o texto o quanto for possível."
   ]
  },
  {
   "cell_type": "code",
   "execution_count": 31,
   "metadata": {
    "collapsed": true
   },
   "outputs": [],
   "source": [
    "texto = '''\n",
    "-\n",
    "\n",
    "'''"
   ]
  },
  {
   "cell_type": "code",
   "execution_count": 42,
   "metadata": {},
   "outputs": [
    {
     "name": "stdout",
     "output_type": "stream",
     "text": [
      " DOCTYPE html if IEMobile 7 html class iem7 lang pt br dir ltr endif if lte IE 6 html class lt ie9 lt ie8 lt ie7 lang pt br dir ltr endif if IE 7 IEMobile html class lt ie9 lt ie8 lang pt br dir ltr endif if IE 8 html class lt ie9 lang pt br dir ltr endif if gte IE 9 gt IEMobile 7 html lang pt br dir ltr endif head meta charset utf 8 link rel canonical href graduacao apresentacao link rel shortlink href node 14 meta name Generator content Drupal 7 http drupal org meta name viewport content width device width initial scale 1 meta name MobileOptimized content width meta name HandheldFriendly content true meta name apple mobile web app capable content yes meta http equiv X UA Compatible content IE Edge link href fonts googleapis com css family Dosis 400 700 rel stylesheet type text css title Apresentação EMAp FGV Escola de Matemática Aplicada title link type text css rel stylesheet href http emap fgv br sites emap fgv br files css css_xE rWrJf fncB6ztZfd2huxqgxu4WO qwma6Xer30m4 css media all link type text css rel stylesheet href http emap fgv br sites emap fgv br files css css_rycSZjT5rZBajiui4FZdCt_Vhn4LtUWLzdYn7CenSFs css media all link type text css rel stylesheet href http emap fgv br sites emap fgv br files css css_ac8NkG5llAj V6C7ImIkXxn reRphfNyrARQBVn9ios css media all link type text css rel stylesheet href http emap fgv br sites emap fgv br files css css_9u_z4tJWDend_Df75yVpy14QKgcpl36dfu0E3WhgJo0 css media screen link type text css rel stylesheet href http emap fgv br sites emap fgv br files css css_ME7UfQ9uApWUpM2mrSVEbBtiOecnn8s9yEcKaxSGvMw css media only screen if lt IE 8 link type text css rel stylesheet href http emap fgv br sites emap fgv br files css css_reur1 RX9x2uqDVEJYGn_wdONfl7b1 HQiSiY8o5w3U css media screen endif if lt IE 9 IEMobile 7 link type text css rel stylesheet href http emap fgv br sites emap fgv br files css css_d2hnMp8Zqs VrfslTuEpHek1iOm yL7svEO49nTlBzA css media screen endif script src http emap fgv br sites emap fgv br files js js_hbCs Jp4M77A5aKC8_pY18 frLS 3JEeApksrZsRZlU js script script src http emap fgv br sites emap fgv br files js js_naLBUKNt7DziXpUFgM7YFjIUGchLcW3pFEStLRwEb7s js script script src http portal fgv br sites all libraries barrafgv embed js script script src http emap fgv br sites emap fgv br files js js_l75vqD9ri2Pr5AtsaAKKHLzBL45rPc52BZG34IhpucA js script script function i s o g r a m i GoogleAnalyticsObject r i r i r function i r q i r q push arguments i r l 1 new Date a s createElement o m s getElementsByTagName o 0 a async 1 a src g m parentNode insertBefore a m window document script www google analytics com analytics js ga ga create UA 18960726 2 cookieDomain auto ga send pageview script script src http emap fgv br sites emap fgv br files js js_LEaRhDpCaMH0FD6gRNWimVagJPan8LwtnNjDwLZDmaU js script script src http emap fgv br sites emap fgv br files js js_zoIR6wxkKoF46wcDgqzuONs_b9HoqrZKgR3ptlHozWg js script script jQuery extend Drupal settings basePath pathPrefix ajaxPageState theme emap_theme theme_token afpEURVy48Ico9S7ptilbe_k0 UA8Dh igwmzpkejCs js sites all modules jquery_update replace jquery 1 7 jquery min js 1 misc jquery once js 1 misc drupal js 1 public languages pt br__7UNsOB0fLVsKwh4gUMpfOM6OjTYllGygvSm5iK1g0M js 1 http portal fgv br sites all libraries barrafgv embed js 1 sites all modules webform js webform js 1 sites all modules google_analytics googleanalytics js 1 0 1 sites emap fgv br themes emap_theme scripts jquery cycle2 min js 1 sites emap fgv br themes emap_theme scripts jquery cycle2 swipe min js 1 sites emap fgv br themes emap_theme scripts scripts js 1 sites all themes adaptivetheme at_core scripts scalefix js 1 css modules system system base css 1 modules system system menus css 1 modules system system messages css 1 modules system system theme css 1 sites all modules date date_api date css 1 sites all modules date date_popup themes datepicker 1 7 css 1 modules field theme field css 1 sites all modules footer_sitemap footer_sitemap css 1 modules node node css 1 modules search search css 1 modules user user css 1 sites all modules views css views css 1 sites all modules ckeditor css ckeditor css 1 sites all modules fgv barrafgv barrafgv css 1 sites all modules ctools css ctools css 1 sites all modules webform css webform css 1 sites all themes adaptivetheme at_core css at layout css 1 sites emap fgv br themes emap_theme css global base css 1 sites emap fgv br themes emap_theme css global styles css 1 public adaptivetheme emap_theme_files emap_theme responsive layout css 1 public adaptivetheme emap_theme_files emap_theme responsive styles css 1 public adaptivetheme emap_theme_files emap_theme lt ie8 layout css 1 sites emap fgv br themes emap_theme css lt ie9 css 1 urlIsAjaxTrusted newsletter true search node true graduacao apresentacao true googleanalytics trackOutbound 1 trackMailto 1 trackDownload 1 trackDownloadExtensions 7z aac arc arj asf asx avi bin csv doc x m dot x m exe flv gif gz gzip hqx jar jpe g js mp 2 3 4 e g mov ie msi msp pdf phps png ppt x m pot x m pps x m ppam sld x m thmx qtm ra m r sea sit tar tgz torrent txt wav wma wmv wpd xls x m b xlt x m xlam xml z zip script if lte IE 8 script src http emap fgv br sites emap fgv br themes emap_theme scripts ie js ov7lni script endif if lt IE 9 script src http emap fgv br sites all themes adaptivetheme at_core scripts respond js ov7lni script script src http emap fgv br sites all themes adaptivetheme at_core scripts html5 js ov7lni script endif head body class html not front not logged in one sidebar sidebar first page node page node page node 14 node type pagina basica i18n pt br div id skip link a href main content class element invisible element focusable Pular para o conteúdo principal a div header id header class clearfix role banner div class container2 start Branding div id branding class branding elements clearfix div id logo a href title Página inicial img class site logo image style none src http emap fgv br sites emap fgv br themes emap_theme logo png alt EMAp FGV Escola de Matemática Aplicada a div div end branding region Header div class region region header div class region inner clearfix div id block block 5 class block block block no title div class block inner clearfix div class block content content block content content p img alt src sites emap fgv br files menu png style height 18px width 72px p div div div nav id block system main menu class block block system block menu no title role navigation div class block inner clearfix div class block content content block content content ul class menu clearfix li class first expanded menu depth 1 menu item 330 a href quem somos Sobre a ul class menu clearfix li class first leaf menu depth 2 menu item 349 a href quem somos title Quem somos a li li class leaf menu depth 2 menu item 350 a href institucional Institucional a li li class leaf menu depth 2 menu item 351 a href estrutura organizacional Estrutura Organizacional a li li class leaf menu depth 2 menu item 352 a href comissao propria de avaliacao Comissão Própria de Avaliação a li li class leaf menu depth 2 menu item 481 a href pessoas Pessoas a li li class last leaf menu depth 2 menu item 353 a href noticias title Notícias a li ul li li class expanded active trail menu depth 1 menu item 331 a href graduacao apresentacao class active trail active Graduação a ul class menu clearfix li class first leaf active trail menu depth 2 menu item 359 a href graduacao apresentacao class active trail active Apresentação a li li class leaf menu depth 2 menu item 360 a href vestibular Vestibular a li li class leaf menu depth 2 menu item 372 a href graduacao grade curricular Grade Curricular a li li class leaf menu depth 2 menu item 1162 a href horarios calendarios Horários e Calendários a li li class leaf menu depth 2 menu item 362 a href graduacao corpo docente Corpo Docente a li li class leaf menu depth 2 menu item 702 a href transferencia portadores de diploma Transferência e Portadores de Diploma a li li class leaf menu depth 2 menu item 373 a href colocacao profissional Colocação Profissional a li li class leaf menu depth 2 menu item 374 a href nucleo de apoio pedagogico nap Núcleo de Apoio Pedagógico a li li class last leaf menu depth 2 menu item 700 a href academia matematica Videos a li ul li li class expanded menu depth 1 menu item 332 a href mestrado apresentacao Mestrado a ul class menu clearfix li class first leaf menu depth 2 menu item 375 a href mestrado apresentacao title Apresentação a li li class leaf menu depth 2 menu item 376 a href mestrado disciplinas Disciplinas a li li class leaf menu depth 2 menu item 379 a href mestrado corpo docente Corpo Docente a li li class leaf menu depth 2 menu item 377 a href processo seletivo Processo Seletivo a li li class last leaf menu depth 2 menu item 378 a href mestrado dissertacoes Dissertações a li ul li li class expanded menu depth 1 menu item 333 a href projetos de pesquisa aplicada Projetos e Pesquisa a ul class menu clearfix li class first leaf menu depth 2 menu item 382 a href linhas de pesquisa Linhas de Pesquisa a li li class leaf menu depth 2 menu item 1582 a href publicacoes title Publicações a li li class leaf menu depth 2 menu item 380 a href projetos de pesquisa aplicada title Projetos de Pesquisa Aplicada a li li class leaf menu depth 2 menu item 1583 a href projetos de pesquisa academica Projetos de Pesquisa Acadêmica a li li class leaf menu depth 2 menu item 1584 a href pesquisa aplicada andamento title Pesquisa Aplicada em Andamento a li li class last leaf menu depth 2 menu item 1585 a href pesquisa academica andamento title Pesquisa Acadêmica em Andamento a li ul li li class expanded menu depth 1 menu item 334 a href title Cursos e eventos a ul class menu clearfix li class first leaf menu depth 2 menu item 389 a href eventos title Eventos a li li class leaf menu depth 2 menu item 391 a href seminarios Seminários a li li class leaf menu depth 2 menu item 393 a href cursos Cursos a li li class last leaf menu depth 2 menu item 651 a href defesa de dissertacao Defesa de Dissertação a li ul li li class last leaf menu depth 1 menu item 451 a href contato title Contato a li ul div div nav div id block block 16 class block block block no title div class block inner clearfix div class block content content block content content p img alt src sites emap fgv br files menu mobile png style width 26px height 19px p div div div nav id block menu block 2 class block block menu block no title role navigation div class block inner clearfix div class block content content block content content div class menu block wrapper menu block 2 menu name main menu parent mlid 0 menu level 1 ul class menu clearfix li class first expanded menu mlid 330 menu depth 1 menu item 330 a href quem somos Sobre a ul class menu clearfix li class first leaf menu mlid 349 menu depth 2 menu item 349 a href quem somos title Quem somos a li li class leaf menu mlid 350 menu depth 2 menu item 350 a href institucional Institucional a li li class leaf menu mlid 351 menu depth 2 menu item 351 a href estrutura organizacional Estrutura Organizacional a li li class leaf menu mlid 352 menu depth 2 menu item 352 a href comissao propria de avaliacao Comissão Própria de Avaliação a li li class leaf menu mlid 481 menu depth 2 menu item 481 a href pessoas Pessoas a li li class last leaf menu mlid 353 menu depth 2 menu item 353 a href noticias title Notícias a li ul li li class expanded active trail active menu mlid 331 menu depth 1 menu item 331 a href graduacao apresentacao class active trail active trail active Graduação a ul class menu clearfix li class first leaf active trail active menu mlid 359 menu depth 2 menu item 359 a href graduacao apresentacao class active trail active trail active Apresentação a li li class leaf menu mlid 360 menu depth 2 menu item 360 a href vestibular Vestibular a li li class leaf menu mlid 372 menu depth 2 menu item 372 a href graduacao grade curricular Grade Curricular a li li class leaf menu mlid 1162 menu depth 2 menu item 1162 a href horarios calendarios Horários e Calendários a li li class leaf menu mlid 362 menu depth 2 menu item 362 a href graduacao corpo docente Corpo Docente a li li class leaf menu mlid 702 menu depth 2 menu item 702 a href transferencia portadores de diploma Transferência e Portadores de Diploma a li li class leaf menu mlid 373 menu depth 2 menu item 373 a href colocacao profissional Colocação Profissional a li li class leaf menu mlid 374 menu depth 2 menu item 374 a href nucleo de apoio pedagogico nap Núcleo de Apoio Pedagógico a li li class last leaf menu mlid 700 menu depth 2 menu item 700 a href academia matematica Videos a li ul li li class expanded menu mlid 332 menu depth 1 menu item 332 a href mestrado apresentacao Mestrado a ul class menu clearfix li class first leaf menu mlid 375 menu depth 2 menu item 375 a href mestrado apresentacao title Apresentação a li li class leaf menu mlid 376 menu depth 2 menu item 376 a href mestrado disciplinas Disciplinas a li li class leaf menu mlid 379 menu depth 2 menu item 379 a href mestrado corpo docente Corpo Docente a li li class leaf menu mlid 377 menu depth 2 menu item 377 a href processo seletivo Processo Seletivo a li li class last leaf menu mlid 378 menu depth 2 menu item 378 a href mestrado dissertacoes Dissertações a li ul li li class expanded menu mlid 333 menu depth 1 menu item 333 a href projetos de pesquisa aplicada Projetos e Pesquisa a ul class menu clearfix li class first leaf menu mlid 382 menu depth 2 menu item 382 a href linhas de pesquisa Linhas de Pesquisa a li li class leaf menu mlid 1582 menu depth 2 menu item 1582 a href publicacoes title Publicações a li li class leaf menu mlid 380 menu depth 2 menu item 380 a href projetos de pesquisa aplicada title Projetos de Pesquisa Aplicada a li li class leaf menu mlid 1583 menu depth 2 menu item 1583 a href projetos de pesquisa academica Projetos de Pesquisa Acadêmica a li li class leaf menu mlid 1584 menu depth 2 menu item 1584 a href pesquisa aplicada andamento title Pesquisa Aplicada em Andamento a li li class last leaf menu mlid 1585 menu depth 2 menu item 1585 a href pesquisa academica andamento title Pesquisa Acadêmica em Andamento a li ul li li class expanded menu mlid 334 menu depth 1 menu item 334 a href title Cursos e eventos a ul class menu clearfix li class first leaf menu mlid 389 menu depth 2 menu item 389 a href eventos title Eventos a li li class leaf menu mlid 391 menu depth 2 menu item 391 a href seminarios Seminários a li li class leaf menu mlid 393 menu depth 2 menu item 393 a href cursos Cursos a li li class last leaf menu mlid 651 menu depth 2 menu item 651 a href defesa de dissertacao Defesa de Dissertação a li ul li li class last leaf menu mlid 451 menu depth 1 menu item 451 a href contato title Contato a li ul div div div nav div id block search form class block block search no title role search div class block inner clearfix div class block content content block content content form action graduacao apresentacao method post id search block form accept charset UTF 8 div div class container inline h2 class element invisible Formulário de busca h2 div class form item form type textfield form item search block form label class element invisible for edit search block form 2 Buscar label input title Digite os termos que você deseja procurar type search id edit search block form 2 name search_block_form value size 15 maxlength 128 class form text div div class form actions form wrapper id edit actions 2 input type submit id edit submit 2 name op value Buscar class form submit div input type hidden name form_build_id value form ng21u0howpyPQkMgdBqc3rLM9Mo0iTASS8XmNcv 49I input type hidden name form_id value search_block_form div div form div div div div id block block 17 class block block block no title div class block inner clearfix div class block content content block content content p img alt src sites emap fgv br files busca png style width 20px height 20px p div div div div id block block 29 class block block block no title div class block inner clearfix div class block content content block content content p img alt src sites emap fgv br files busca png style width 20px height 20px p div div div div div div header div id page class page region Leaderboard Navigation elements Breadcrumbs Messages and Help images title Region div class region region images title div class region inner clearfix nav id block menu block 3 class block block menu block no title role navigation div class block inner clearfix div class block content content block content content div class menu block wrapper menu block 3 menu name main menu parent mlid 0 menu level 1 ul class menu clearfix li class first leaf has children menu mlid 330 menu depth 1 menu item 330 a href quem somos Sobre a li li class leaf has children active trail active menu mlid 331 menu depth 1 menu item 331 a href graduacao apresentacao class active trail active Graduação a li li class leaf has children menu mlid 332 menu depth 1 menu item 332 a href mestrado apresentacao Mestrado a li li class leaf has children menu mlid 333 menu depth 1 menu item 333 a href projetos de pesquisa aplicada Projetos e Pesquisa a li li class leaf has children menu mlid 334 menu depth 1 menu item 334 a href title Cursos e eventos a li li class last leaf menu mlid 451 menu depth 1 menu item 451 a href contato title Contato a li ul div div div nav div div region Secondary Content div id columns class columns clearfix div id content column class content column role main div class content inner region Highlighted section id main content header id main content header class clearfix div class content title h1 id page title Apresentação h1 div header region Main Content div id content class container region containercontent div class wrapper region div id block system main class block block system no title article id node 14 class node node pagina basica node promoted article clearfix role article div class node content div class field field name body field type text with summary field label hidden view mode full div class field items div class field item even p class rtejustify Atenta à crescente demanda no mercado de trabalho por profissionais capazes de utilizar técnicas matemáticas e modelos computacionais cada vez mais sofisticados a EMAp prepara seus alunos a atuarem em setores estratégicos de organizações além de capacitá los para pesquisas acadêmicas e consultoria A Escola de Matemática Aplicada da FGV conta com um quadro de professores de formação diversificada Matemática Engenharia Ciências da Computação Biologia dentre outras áreas Essa diversidade para o curso de graduação é muito pertinente e enriquecedora no que diz respeito à versatilidade de contextos e de aplicações O profissional formado pela EMAp pode aplicar técnicas de essência matemática informacional e computacional em atividades tão diversas como mercado financeiro combate ao crime mapeamento de tendências socioeconômicas e compreensão das dinâmicas de propagação de doenças infectocontagiosas contribuindo por exemplo com organizações públicas e privadas em seus setores de monitoramento ambiental análise de cenários planejamento estratégico gerenciamento de riscos p p b EIXOS DISCIPLINARES b p p Matemática Computação e Modelagem Matemática p p strong TEMAS DE INTERESSE DA FGV EMAP strong p ul li Modelagem de sistemas socioeconômicos li li Representações formais de conhecimento li li Extração análise e visualização de dados de grande porte li li Processamento e análise de textos li li Suporte à criação de políticas públicas em Saúde Segurança Demografia Urbanismo entre outras áreas li li Monitoramento ambiental li li Finanças e Seguros li ul p b AVALIAÇÃO DO MEC b p p class rtejustify Desde que foi criado em 2007 o Índice Geral de Cursos IGC divulgado anualmente pelo Ministério da Educação MEC tem avaliado a qualidade de todos os cursos de graduação e pós graduação stricto sensu mestrado e doutorado de cada universidade centro universitário ou faculdade do país tornando se o mais importante índice avaliador do Brasil p p strong DIFERENCIAIS DA FGV strong p p strong Parcerias Internacionais strong br Acordos com instituições internacionais por meio dos quais são viabilizados intercâmbios de alunos com aproveitamento de disciplinas cursadas no exterior possibilidade de acesso ao programa AIESEC maior organização estudantil do mundo p p strong Disponibilidade de professores strong br A maioria dos professores altamente qualificados permanece na FGV em tempo integral oferecendo flexibilidade e oportunidades para a convivência informal p p strong Conteúdo Didático strong br Programas desenvolvidos por especialistas com base em bibliografia atual produzida alguns casos especialmente para os cursos nbsp p p nbsp p p class rtecenter iframe allowfullscreen frameborder 0 height 360 src www youtube com embed JbpfhpmH1lo width 640 iframe p div div div div nav class clearfix ul class links inline li class translation_en first last a href en graduation presentation title Presentation class translation link xml lang en english version a li ul nav article div div div Feed icons RSS Atom icons etc section end main content region Content Aside div class region aside full div class container2 div div div end content inner div end content column regions Sidebar first and Sidebar second div class region region sidebar first sidebar div class region inner clearfix nav id block menu block 1 class block block menu block no title role navigation div class block inner clearfix div class block content content block content content div class menu block wrapper menu block 1 menu name main menu parent mlid 0 menu level 2 ul class menu clearfix li class first leaf active trail active menu mlid 359 menu depth 2 menu item 359 a href graduacao apresentacao class active trail active Apresentação a li li class leaf menu mlid 360 menu depth 2 menu item 360 a href vestibular Vestibular a li li class leaf menu mlid 372 menu depth 2 menu item 372 a href graduacao grade curricular Grade Curricular a li li class leaf menu mlid 1162 menu depth 2 menu item 1162 a href horarios calendarios Horários e Calendários a li li class leaf menu mlid 362 menu depth 2 menu item 362 a href graduacao corpo docente Corpo Docente a li li class leaf menu mlid 702 menu depth 2 menu item 702 a href transferencia portadores de diploma Transferência e Portadores de Diploma a li li class leaf menu mlid 373 menu depth 2 menu item 373 a href colocacao profissional Colocação Profissional a li li class leaf menu mlid 374 menu depth 2 menu item 374 a href nucleo de apoio pedagogico nap Núcleo de Apoio Pedagógico a li li class last leaf menu mlid 700 menu depth 2 menu item 700 a href academia matematica Videos a li ul div div div nav div div div end columns region Tertiary Content div class region tertiary full div class container2 div class region region tertiary content div class region inner clearfix section id block webform client block 9 class block block webform div class block inner clearfix h2 class block title block title Newsletter h2 div class block content content block content content form class webform client form enctype multipart form data action newsletter method post id webform client form 9 accept charset UTF 8 div div class form item webform component webform component email webform container inline id webform component newsletter email label for edit submitted newsletter email Receba notícias da EMAp por email span class form required title Este campo é obrigatório span label input class email form text form email required type email id edit submitted newsletter email name submitted newsletter_email size 60 div input type hidden name details sid input type hidden name details page_num value 1 input type hidden name details page_count value 1 input type hidden name details finished value 0 input type hidden name form_build_id value form en_xFN_pd29n L7fwTkf9OIz3tP2TtvSPPgIJ5bm4Gg input type hidden name form_id value webform_client_form_9 div class form actions form wrapper id edit actions input type submit id edit submit name op value Cadastrar class form submit div div form div div section div div div div div region Footer div class region footer full div class container2 footer id footer class clearfix role contentinfo div class region region footer div class region inner clearfix div id block footer sitemap footer sitemap class block block footer sitemap no title div class block inner clearfix div class block content content block content content div id footer sitemap class clearfix div class fs block content div class main menu ul class footer_links_main menu total items 6 parent items 0 single items 0 li class menu 330 depth 1 total children 6 parent children 1 single children 5 first a href quem somos class fs root link Sobre a ul class footer_links_main menu total items 6 parent items 0 single items 0 li class menu 349 depth 1 fs no children first a href quem somos title Quem somos a li li class menu 350 depth 1 fs no children a href institucional Institucional a li li class menu 351 depth 1 fs no children a href estrutura organizacional Estrutura Organizacional a li li class menu 352 depth 1 fs no children a href comissao propria de avaliacao Comissão Própria de Avaliação a li li class menu 481 depth 1 fs no children a href pessoas Pessoas a li li class menu 353 depth 1 total children 0 parent children 0 single children 0 last a href noticias title Notícias a li ul li li class menu 331 depth 1 total children 9 parent children 1 single children 8 active a href graduacao apresentacao class fs root link active Graduação a ul class footer_links_main menu total items 9 parent items 0 single items 0 li class menu 359 depth 1 fs no children first active a href graduacao apresentacao class active Apresentação a li li class menu 360 depth 1 fs no children a href vestibular Vestibular a li li class menu 372 depth 1 total children 0 parent children 0 single children 0 a href graduacao grade curricular Grade Curricular a li li class menu 1162 depth 1 fs no children a href horarios calendarios Horários e Calendários a li li class menu 362 depth 1 fs no children a href graduacao corpo docente Corpo Docente a li li class menu 702 depth 1 fs no children a href transferencia portadores de diploma Transferência e Portadores de Diploma a li li class menu 373 depth 1 fs no children a href colocacao profissional Colocação Profissional a li li class menu 374 depth 1 fs no children a href nucleo de apoio pedagogico nap Núcleo de Apoio Pedagógico a li li class menu 700 depth 1 fs no children last a href academia matematica Videos a li ul li li class menu 332 depth 1 total children 5 parent children 1 single children 4 a href mestrado apresentacao class fs root link Mestrado a ul class footer_links_main menu total items 5 parent items 0 single items 0 li class menu 375 depth 1 fs no children first a href mestrado apresentacao title Apresentação a li li class menu 376 depth 1 total children 0 parent children 0 single children 0 a href mestrado disciplinas Disciplinas a li li class menu 379 depth 1 fs no children a href mestrado corpo docente Corpo Docente a li li class menu 377 depth 1 fs no children a href processo seletivo Processo Seletivo a li li class menu 378 depth 1 fs no children last a href mestrado dissertacoes Dissertações a li ul li li class menu 333 depth 1 total children 6 parent children 0 single children 6 a href projetos de pesquisa aplicada class fs root link Projetos e Pesquisa a ul class footer_links_main menu total items 6 parent items 0 single items 0 li class menu 382 depth 1 fs no children first a href linhas de pesquisa Linhas de Pesquisa a li li class menu 1582 depth 1 fs no children a href publicacoes title Publicações a li li class menu 380 depth 1 fs no children a href projetos de pesquisa aplicada title Projetos de Pesquisa Aplicada a li li class menu 1583 depth 1 fs no children a href projetos de pesquisa academica Projetos de Pesquisa Acadêmica a li li class menu 1584 depth 1 fs no children a href pesquisa aplicada andamento title Pesquisa Aplicada em Andamento a li li class menu 1585 depth 1 fs no children last a href pesquisa academica andamento title Pesquisa Acadêmica em Andamento a li ul li li class menu 334 depth 1 total children 4 parent children 4 single children 0 a href title class fs root link Cursos e eventos a ul class footer_links_main menu total items 4 parent items 0 single items 0 li class menu 389 depth 1 total children 0 parent children 0 single children 0 first a href eventos title Eventos a li li class menu 391 depth 1 total children 0 parent children 0 single children 0 a href seminarios Seminários a li li class menu 393 depth 1 total children 0 parent children 0 single children 0 a href cursos Cursos a li li class menu 651 depth 1 total children 0 parent children 0 single children 0 last a href defesa de dissertacao Defesa de Dissertação a li ul li li class menu 451 depth 1 fs no children last a href contato title class fs root link Contato a li ul div div div div div div div id block block 4 class block block block no title div class block inner clearfix div class block content content block content content p a class redes href https www facebook com emap fgv target _blank img alt src sites emap fgv br files facebook png style height 46px width 45px a nbsp a href https twitter com fgv target _blank img alt src sites emap fgv br files twitter png style height 46px width 46px a a class redes href https www youtube com channel UC8DhN1cJi0QklBQot5hv_kg target _blank img alt src sites emap fgv br files youtube png style height 46px width 46px a a href https eclass fgv br target _blank img alt height 29 src sites emap fgv br files marca_eclass png width 163 a p p span style font family arial helvetica sans serif Praia de Botafogo 190 a href https www google com maps ll 22 940808 43 180153 amp spn 0 011441 0 01929 amp cid 3352914085499141244 amp t m amp z 16 amp vpsrc 0 mapa a br Rio de Janeiro RJ 22250 900 Tel 55 21 3799 5917 span p p span style font family arial helvetica sans serif 2015 EMAp FGV a href http www fgv br politica privacidade sites fgv politica de privacidade pdf target _blank Política de Privacidade a span p div div div div div footer div div div class region region page bottom div class region inner clearfix div id barrafgv div id content div id block system main class block block system no title odd first last block count 3 block region content block main div class content class block content content div class view view barra fgv view id barra_fgv view display id page view dom id de953db3679e868f447640926fd1ae35 div class view header p a href http portal fgv br class titulo barra target _blank Portal FGV a a href http portal fgv br en class titulo barra en target _blank ENG a p div div class view content div class item list ul li class views row views row 1 views row odd views row first views row last div class views field views field field barra coluna 1 div class field content div class entity entity paragraphs item paragraphs item grupo de links div class content div class paragraphs items paragraphs items field barrafgv links paragraphs items field barrafgv links full paragraphs items full div class field field name field barrafgv links field type paragraphs field label hidden view mode full div class field items div class field item even div class entity entity paragraphs item paragraphs item barra fgv links div class content div class field field name field barrafgv topico field type text field label hidden view mode full div class field items div class field item even Educação div div div div class field field name field barrafgv link field type link field field label hidden view mode full div class field items div class field item even a href http portal fgv br educacao graduacao target _blank Graduação a div div class field item odd a href http graduacaotecnologica fgv br target _blank Graduação Tecnológica a div div class field item even a href http portal fgv br educacao mestrado doutorado target _blank Mestrado amp Doutorado a div div class field item odd a href http portal fgv br educacao mba pos target _blank MBA amp Pós Graduação a div div class field item even a href http portal fgv br educacao cursos extensao target _blank Cursos de extensão a div div class field item odd a href http incompany fgv br target _blank In Company a div div class field item even a href http www5 fgv br fgvonline target _blank Cursos Online a div div class field item odd a href http vestibular fgv br target _blank Vestibular FGV a div div class field item even a href http ensinomediodigital fgv br target _blank Preparatório ENEM Digital a div div div div div div div class field item odd div class entity entity paragraphs item paragraphs item barra fgv links div class content div class field field name field barrafgv topico field type text field label hidden view mode full div class field items div class field item even Livros div div div div class field field name field barrafgv link field type link field field label hidden view mode full div class field items div class field item even a href http portal fgv br livros target _blank Livraria a div div class field item odd a href http editora fgv br target _blank Editora FGV a div div class field item even a href http bibliotecadigital fgv br target _blank Biblioteca a div div div div div div div div div div div div div li ul div div div class attachment attachment after div class view view barra fgv view id barra_fgv view display id attachment_1 div class view content div class item list h3 Escolas FGV h3 ul li class views row views row 1 views row odd views row first div class views field views field field area nome div class field content a href http cpdoc fgv br target _blank CPDOC a div div div class views field views field field area descricao div class field content a href http cpdoc fgv br target _blank Escola de Ciências Sociais a div div li li class views row views row 2 views row even div class views field views field field area nome div class field content a href http direitorio fgv br target _blank Direito Rio a div div div class views field views field field area descricao div class field content a href http direitorio fgv br target _blank Escola de Direito do Rio de Janeiro a div div li li class views row views row 3 views row odd div class views field views field field area nome div class field content a href http direitosp fgv br target _blank Direito SP a div div div class views field views field field area descricao div class field content a href http direitosp fgv br target _blank Escola de Direito de São Paulo a div div li li class views row views row 4 views row even div class views field views field field area nome div class field content a href http eaesp fgvsp br target _blank EAESP a div div div class views field views field field area descricao div class field content a href http eaesp fgvsp br target _blank Escola de Administração de Empresas de São Paulo a div div li li class views row views row 5 views row odd div class views field views field field area nome div class field content a href http ebape fgv br target _blank EBAPE a div div div class views field views field field area descricao div class field content a href http ebape fgv br target _blank Escola Brasileira de Administração Pública e de Empresas a div div li li class views row views row 6 views row even div class views field views field field area nome div class field content a href http eesp fgv br target _blank EESP a div div div class views field views field field area descricao div class field content a href http eesp fgv br target _blank Escola de Economia de São Paulo a div div li li class views row views row 7 views row odd div class views field views field field area nome div class field content a href http emap fgv br target _blank EMAp a div div div class views field views field field area descricao div class field content a href http emap fgv br target _blank Escola de Matemárica Aplicada a div div li li class views row views row 8 views row even views row last div class views field views field field area nome div class field content a href http epge fgv br target _blank EPGE a div div div class views field views field field area descricao div class field content a href http epge fgv br target _blank Escola Brasileira de Economia e Finanças a div div li ul div div div div class view view barra fgv view id barra_fgv view display id attachment_2 div class view content div class item list ul li class views row views row 1 views row odd views row first views row last div class views field views field field barra coluna 3 div class field content div class entity entity paragraphs item paragraphs item grupo de links div class content div class paragraphs items paragraphs items field barrafgv links paragraphs items field barrafgv links full paragraphs items full div class field field name field barrafgv links field type paragraphs field label hidden view mode full div class field items div class field item even div class entity entity paragraphs item paragraphs item barra fgv links div class content div class field field name field barrafgv topico field type text field label hidden view mode full div class field items div class field item even Pesquisa div div div div class field field name field barrafgv link field type link field field label hidden view mode full div class field items div class field item even a href http portal fgv br pesquisas teses publicacoes target _blank Pesquisas Teses e Publicações a div div div div div div div class field item odd div class entity entity paragraphs item paragraphs item barra fgv links div class content div class field field name field barrafgv topico field type text field label hidden view mode full div class field items div class field item even Assessoria técnica div div div div class field field name field barrafgv link field type link field field label hidden view mode full div class field items div class field item even a href http fgvprojetos fgv br target _blank Concursos e Projetos a div div div div div div div class field item even div class entity entity paragraphs item paragraphs item barra fgv links div class content div class field field name field barrafgv topico field type text field label hidden view mode full div class field items div class field item even Índices div div div div class field field name field barrafgv link field type link field field label hidden view mode full div class field items div class field item even a href http portalibre fgv br target _blank Instituto Brasileiro de Economia a div div div div div div div class field item odd div class entity entity paragraphs item paragraphs item barra fgv links div class content div class field field name field barrafgv topico field type text field label hidden view mode full div class field items div class field item even Unidades div div div div class field field name field barrafgv link field type link field field label hidden view mode full div class field items div class field item even a href http ceri fgv br target _blank CERI a div div class field item odd a href http dapp fgv br target _blank DAPP a div div class field item even a href http dint fgv br target _blank DINT a div div class field item odd a href http fgvenergia fgv br target _blank FGV Energia a div div class field item even a href http cps fgv br target _blank FGV Social a div div div div div div div div div div div div div li ul div div div div class view view barra fgv view id barra_fgv view display id attachment_3 div class view header ul class menu clearfix li class first leaf menu depth 1 menu item 1756 a href http portal fgv br target _blank Navegue por áreas a li li class leaf adm not first menu depth 1 menu item 1757 a href http portal fgv br areas administracao target _blank Administração a li li class leaf cis not first menu depth 1 menu item 1758 a href http portal fgv br areas ciencias sociais target _blank Ciências Sociais a li li class leaf dir not first menu depth 1 menu item 1759 a href http portal fgv br areas direito target _blank Direito a li li class leaf eco not first menu depth 1 menu item 1760 a href http portal fgv br areas economia target _blank Economia a li li class last leaf mat not first menu depth 1 menu item 1761 a href http portal fgv br areas matematica target _blank Matemática aplicada a li ul p Acompanhe na rede p div div class view content div class item list ul li class views row views row 1 views row odd views row first div class views field views field field redes icone div class field content a href https www facebook com Vestibular FGV target _blank img class image style none src http portal fgv br sites portal fgv br files facebook_3_0 png width 23 height 23 alt a div div li li class views row views row 2 views row even div class views field views field field redes icone div class field content a href https www linkedin com school 8175 pathWildcard 8175 target _blank img class image style none src http portal fgv br sites portal fgv br files linkedin_3_0 png width 23 height 23 alt a div div li li class views row views row 3 views row odd div class views field views field field redes icone div class field content a href https twitter com fgv target _blank img class image style none src http portal fgv br sites portal fgv br files twitter_3_0 png width 23 height 23 alt a div div li li class views row views row 4 views row even div class views field views field field redes icone div class field content a href https www instagram com fgv oficial target _blank img class image style none src http portal fgv br sites portal fgv br files instagram_3_0 png width 23 height 23 alt a div div li li class views row views row 5 views row odd div class views field views field field redes icone div class field content a href https plus google com FGV target _blank img class image style none src http portal fgv br sites portal fgv br files google_3_0 png width 23 height 23 alt a div div li li class views row views row 6 views row even views row last div class views field views field field redes icone div class field content a href https www youtube com user fgvtv target _blank img class image style none src http portal fgv br sites portal fgv br files youtube_3_0 png width 23 height 23 alt a div div li ul div div div class view footer div class item list ul li class even first a href http portal fgv br livros target _blank Livros a li li class odd a href http portal fgv br noticias target _blank Notícias a li li class even last a href http portal fgv br eventos target _blank Eventos a li ul div p img class image style none src http portal fgv br sites portal fgv br files 22_barr33adesites jpg width 210 height 49 alt p div div div div class view footer p span class link editar span p div div div div div div div div body html \n"
     ]
    }
   ],
   "source": [
    "import re\n",
    "#print(re.sub(r'[^0-9A-ZÁÉÍÓÚÀÕÃÇa-záéíóúàãõç]',' ', texto))\n",
    "print(re.sub(r'[^\\w]+',' ', texto))"
   ]
  },
  {
   "cell_type": "markdown",
   "metadata": {},
   "source": [
    "3- Dadas as características do Calendário Gregoriano:  \n",
    "\n",
    " + Janeiro, Março, Maio, Julho, Agosto, Outubro e Dezembro têm trinta e um dias;\n",
    " + Abril, Junho, Setembro e Novembro têm trinta dias;\n",
    " + Fevereiro tem 28 dias, exceto em anos bissextos, quando tem 29.\n",
    " + Anos bissextos ocorrem quando o ano for divisível por 4, mas não quando for divisível por 100, exceto quando for divisível também por 400.\n",
    " \n",
    " + 1o de Janeiro de 1900 caiu em uma segunda-feira.\n",
    "\n",
    "Responda: Quantos sábados cairam no dia primeiro do mês durante o século XX? (1o de Janeiro de 1901 até 31 Dezembro de 2000)?\n"
   ]
  },
  {
   "cell_type": "code",
   "execution_count": null,
   "metadata": {
    "collapsed": true
   },
   "outputs": [],
   "source": []
  },
  {
   "cell_type": "markdown",
   "metadata": {},
   "source": [
    "4- Procure gerar um número (pseudo-)aleatório entre 0 e 9 de forma criativa, usando funções geradoras e o módulo time. \n",
    "Não utilize o módulo random."
   ]
  },
  {
   "cell_type": "code",
   "execution_count": null,
   "metadata": {
    "collapsed": true
   },
   "outputs": [],
   "source": [
    "## exemplo para inspirar vocês. Há que se verificar se os números gerados parecem ser aleatórios.\n",
    "import time\n",
    "\n",
    "def numero_aleatorio():\n",
    "    x = time.time()\n",
    "    while True:\n",
    "        num = time.time() - x\n",
    "        #print(num)\n",
    "        num = [n for n in str(num) if n.isdigit()]\n",
    "        num = num[6]\n",
    "        yield int(num)"
   ]
  },
  {
   "cell_type": "code",
   "execution_count": 19,
   "metadata": {
    "collapsed": true
   },
   "outputs": [],
   "source": [
    "gen = numero_aleatorio()"
   ]
  },
  {
   "cell_type": "code",
   "execution_count": 20,
   "metadata": {},
   "outputs": [],
   "source": [
    "import traceback\n",
    "import logging\n",
    "\n",
    "numeros = []\n",
    "for n in range(100000):\n",
    "    try:\n",
    "        numeros.append(next(gen))\n",
    "    except Exception as e:\n",
    "        logging.error(traceback.format_exc())"
   ]
  },
  {
   "cell_type": "code",
   "execution_count": 15,
   "metadata": {
    "collapsed": true
   },
   "outputs": [],
   "source": [
    "from collections import Counter\n",
    "freqdist = Counter(numeros)"
   ]
  },
  {
   "cell_type": "code",
   "execution_count": 21,
   "metadata": {},
   "outputs": [
    {
     "data": {
      "text/plain": [
       "Counter({0: 22586,\n",
       "         1: 22596,\n",
       "         2: 22895,\n",
       "         3: 22689,\n",
       "         4: 22204,\n",
       "         5: 22384,\n",
       "         6: 22025,\n",
       "         7: 21918,\n",
       "         8: 22427,\n",
       "         9: 22778})"
      ]
     },
     "execution_count": 21,
     "metadata": {},
     "output_type": "execute_result"
    }
   ],
   "source": [
    "freqdist"
   ]
  },
  {
   "cell_type": "code",
   "execution_count": null,
   "metadata": {
    "collapsed": true
   },
   "outputs": [],
   "source": []
  }
 ],
 "metadata": {
  "kernelspec": {
   "display_name": "Python 3",
   "language": "python",
   "name": "python3"
  },
  "language_info": {
   "codemirror_mode": {
    "name": "ipython",
    "version": 3
   },
   "file_extension": ".py",
   "mimetype": "text/x-python",
   "name": "python",
   "nbconvert_exporter": "python",
   "pygments_lexer": "ipython3",
   "version": "3.5.2+"
  }
 },
 "nbformat": 4,
 "nbformat_minor": 2
}
