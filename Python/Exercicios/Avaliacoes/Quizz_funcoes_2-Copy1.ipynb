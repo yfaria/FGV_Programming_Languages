{
 "cells": [
  {
   "cell_type": "code",
   "execution_count": 18,
   "metadata": {},
   "outputs": [],
   "source": [
    "import string"
   ]
  },
  {
   "cell_type": "markdown",
   "metadata": {},
   "source": [
    "1 - Dadas uma lista qualquer, como a do exemplo abaixo:"
   ]
  },
  {
   "cell_type": "code",
   "execution_count": 27,
   "metadata": {},
   "outputs": [],
   "source": [
    "lista = [1,2,3,'4',5,6.3,7.4 + 2j,\"123\",[1,2,3], 93, \"98\", (1,2,3,'4')]"
   ]
  },
  {
   "cell_type": "markdown",
   "metadata": {},
   "source": [
    "Crie uma função recursiva para imprimir o antecessor e o sucessor de cada elemento de uma lista:\n",
    "+ Caso este elemento seja inteiro, imprimir o valor;  \n",
    "+ Caso seja uma string, imprimir o inteiro correspondente;  \n",
    "+ Caso seja um real, imprima a parte inteira;\n",
    "+ Caso seja um imaginário, imprima a parte inteira e real;\n",
    "+ Caso seja uma sequência, aplique as regras acima para cada elemento da sequência.  "
   ]
  },
  {
   "cell_type": "code",
   "execution_count": 44,
   "metadata": {},
   "outputs": [],
   "source": [
    "#Não entendi se é para imprimir o valor ou o antecessor e sucessor de cada elemento. Imprimirei cada número.\n",
    "#Se fosse mudar para imprimir sucessor e antecessor, era só bottar em cada bloco de if desses um print(e-1) e print(e+1)\n",
    "def imprimir(lista):\n",
    "    if type(lista) == int:\n",
    "        print(lista)\n",
    "    else:\n",
    "        for elemento in lista:\n",
    "            if type(elemento) == int:\n",
    "                print(elemento)\n",
    "            elif type(elemento) == str:\n",
    "                elemento = int(elemento)\n",
    "                imprimir(elemento)\n",
    "            elif type(elemento) == float:\n",
    "                elemento = int(elemento)\n",
    "                imprimir(elemento)\n",
    "            elif type(elemento) == complex:\n",
    "                complexo = [elemento.real, elemento.imag]\n",
    "                imprimir(complexo)\n",
    "            else:\n",
    "                imprimir(elemento)\n",
    "\n",
    "            "
   ]
  },
  {
   "cell_type": "code",
   "execution_count": 45,
   "metadata": {},
   "outputs": [
    {
     "name": "stdout",
     "output_type": "stream",
     "text": [
      "1\n",
      "2\n",
      "3\n",
      "4\n",
      "5\n",
      "6\n",
      "7\n",
      "2\n",
      "123\n",
      "1\n",
      "2\n",
      "3\n",
      "93\n",
      "98\n",
      "1\n",
      "2\n",
      "3\n",
      "4\n"
     ]
    }
   ],
   "source": [
    "imprimir(lista)"
   ]
  },
  {
   "cell_type": "markdown",
   "metadata": {},
   "source": [
    "2 - Crie uma função, ou conjunto de funções, para exibir por extenso o valor de qualquer número inteiro até 1000.  \n",
    "Exemplo:  \n",
    "\n",
    "    print(imprime_extenso(234))  \n",
    "    > 'duzentos e trinta e quatro'  "
   ]
  },
  {
   "cell_type": "code",
   "execution_count": 43,
   "metadata": {},
   "outputs": [
    {
     "data": {
      "text/plain": [
       "'novecentos e dez'"
      ]
     },
     "execution_count": 43,
     "metadata": {},
     "output_type": "execute_result"
    }
   ],
   "source": [
    "imprime_extenso(910)"
   ]
  },
  {
   "cell_type": "code",
   "execution_count": 14,
   "metadata": {},
   "outputs": [],
   "source": [
    "def imprime_extenso(n):\n",
    "    if n == 1000:\n",
    "        num_extenso =  'mil'\n",
    "    elif 100 < n < 1000:\n",
    "        string_n = str(n)\n",
    "        algs = [int(elmnt) for elmnt in string_n]\n",
    "        if algs[1] > 1:\n",
    "            num_extenso = centenas(algs[0]) + ' e ' + dezenas(algs[1]) + ' e ' + unidades(algs[2])\n",
    "        elif algs[1] == 1:\n",
    "            if algs[2] == 1:\n",
    "                num_extenso = centenas(algs[0]) + ' e onze'\n",
    "            elif algs[2] == 2:\n",
    "                num_extenso = centenas(algs[0]) + ' e doze'\n",
    "            elif algs[2] == 3:\n",
    "                num_extenso = centenas(algs[0]) + ' e treze'\n",
    "            elif algs[2] == 4:\n",
    "                num_extenso = centenas(algs[0]) + ' e catorze'\n",
    "            elif algs[2] == 5:\n",
    "                num_extenso = centenas(algs[0]) + ' e quinze'\n",
    "            elif algs[2] == 6:\n",
    "                num_extenso = centenas(algs[0]) + ' e dezesseis'\n",
    "            elif algs[2] == 7:\n",
    "                num_extenso = centenas(algs[0]) + ' e dezessete'\n",
    "            elif algs[2] == 8:\n",
    "                num_extenso = centenas(algs[0]) + ' e dezoito'\n",
    "            elif algs[2] == 9:\n",
    "                num_extenso = centenas(algs[0]) + ' e dezenove'\n",
    "            elif algs[2] == 0:\n",
    "                num_extenso = centenas(algs[0]) + ' e dez'\n",
    "        elif algs[1] == 0:\n",
    "            num_extenso = centenas(algs[0]) + ' e ' + unidades(algs[2])\n",
    "        return num_extenso\n",
    "    elif n == 100:\n",
    "        return 'cem'\n",
    "    elif 10 < n < 100:\n",
    "        string_n = str(n)\n",
    "        algs = [int(elmnt) for elmnt in string_n]\n",
    "        if algs[0] == 1:\n",
    "            if algs[1] == 1:\n",
    "                num_extenso = 'onze'\n",
    "            elif algs[1] == 2:\n",
    "                num_extenso = 'doze'\n",
    "            elif algs[1] == 3:\n",
    "                num_extenso = 'treze'\n",
    "            elif algs[1] == 4:\n",
    "                num_extenso = 'catorze'\n",
    "            elif algs[1] == 5:\n",
    "                num_extenso = 'quinze'\n",
    "            elif algs[1] == 6:\n",
    "                num_extenso = 'dezesseis'\n",
    "            elif algs[1] == 7:\n",
    "                num_extenso = 'dezessete'\n",
    "            elif algs[1] == 8:\n",
    "                num_extenso = 'dezoito'\n",
    "            elif algs[1] == 9:\n",
    "                num_extenso = 'dezenove'\n",
    "        else:\n",
    "            num_extenso = dezenas(algs[0]) + ' e ' + unidades(algs[1])\n",
    "    elif n == 10:\n",
    "        num_extenso = 'dez'\n",
    "    elif 0 < n < 10:\n",
    "        num_extenso = unidades(n)\n",
    "    return num_extenso   "
   ]
  },
  {
   "cell_type": "code",
   "execution_count": 13,
   "metadata": {},
   "outputs": [],
   "source": [
    "def centenas(algCent):\n",
    "    if algCent == 1:\n",
    "        extenso = 'cento'\n",
    "    elif algCent == 2:\n",
    "        extenso = 'duzentos'\n",
    "    elif algCent == 3:\n",
    "        extenso = 'trezentos'\n",
    "    elif algCent == 4:\n",
    "        extenso = 'quatrocentos'\n",
    "    elif algCent == 5:\n",
    "        extenso = 'quinhetos'\n",
    "    elif algCent == 6:\n",
    "        extenso = 'seiscentos'\n",
    "    elif algCent == 7:\n",
    "        extenso = 'setecentos'\n",
    "    elif algCent == 8:\n",
    "        extenso = 'oitocentos'\n",
    "    elif algCent == 9:\n",
    "        extenso = 'novecentos'\n",
    "    return extenso"
   ]
  },
  {
   "cell_type": "code",
   "execution_count": 12,
   "metadata": {},
   "outputs": [],
   "source": [
    "def dezenas(algDez):\n",
    "    if algDez == 2:\n",
    "        extenso = 'vinte'\n",
    "    if algDez == 3:\n",
    "        extenso = 'trinta'\n",
    "    if algDez == 4:\n",
    "        extenso = 'quarenta'\n",
    "    if algDez == 5:\n",
    "        extenso = 'cinquenta'\n",
    "    if algDez == 6:\n",
    "        extenso = 'sessenta'\n",
    "    if algDez == 7:\n",
    "        extenso = 'setenta'\n",
    "    if algDez == 8:\n",
    "        extenso = 'oitenta'\n",
    "    if algDez == 9:\n",
    "        extenso = 'noventa'\n",
    "    return extenso"
   ]
  },
  {
   "cell_type": "code",
   "execution_count": 11,
   "metadata": {},
   "outputs": [],
   "source": [
    "def unidades(algUn):\n",
    "    if algUn == 1:\n",
    "        extenso = 'um'\n",
    "    elif algUn == 2:\n",
    "        extenso = 'dois'\n",
    "    elif algUn == 3:\n",
    "        extenso = 'três'\n",
    "    elif algUn == 4:\n",
    "        extenso = 'quatro'\n",
    "    elif algUn == 5:\n",
    "        extenso = 'cinco'\n",
    "    elif algUn == 6:\n",
    "        extenso = 'seis'\n",
    "    elif algUn == 7:\n",
    "        extenso = 'sete'\n",
    "    elif algUn == 8:\n",
    "        extenso = 'oito'\n",
    "    elif algUn == 9:\n",
    "        extenso = 'nove'\n",
    "    return extenso"
   ]
  },
  {
   "cell_type": "markdown",
   "metadata": {},
   "source": [
    "3- Em alguns lugares é comum lembrar um número do telefone associando seus dígitos a letras. Dessa maneira a expressão MY LOVE significa 69 5683. Claro que existem alguns problemas, uma vez que alguns números de telefone não formam uma palavra ou uma frase e os dígitos 1 e 0 não estão associados a nenhuma letra.  \n",
    "\n",
    "Sua tarefa é ler uma expressão e encontrar o número de telefone correspondente baseado na tabela abaixo. Uma expressão é composta por letras maiúsculas (A-Z), hifens (-) e os números 1 e 0.  \n",
    "\n",
    "Letras  ->  Número  \n",
    "ABC    ->  2   \n",
    "DEF    ->  3   \n",
    "GHI    ->  4   \n",
    "JKL    ->  5   \n",
    "MNO    ->  6   \n",
    "PQRS    ->  7   \n",
    "TUV    ->  8   \n",
    "WXYZ   ->  9   \n",
    "\n",
    "Entrada  \n",
    "\n",
    "A entrada consiste de um conjunto de expressões. Cada expressão está sozinha em uma linha e possui C caracteres, onde 1 ≤ C ≤ 30. A entrada é terminada por fim de arquivo (EOF).  \n",
    "\n",
    "Saída  \n",
    "\n",
    "Para cada expressão você deve imprimir o número de telefone correspondente.  \n",
    "\n",
    "Exemplo de entrada:  \n",
    "\n",
    "1-HOME-SWEET-HOME  \n",
    "MY-MISERABLE-JOB  \n",
    "\n",
    "Saída correspondente:\n",
    "\n",
    "1-4663-79338-4663  \n",
    "69-647372253-562  "
   ]
  },
  {
   "cell_type": "code",
   "execution_count": 39,
   "metadata": {},
   "outputs": [],
   "source": [
    "def letras2num(expressao):\n",
    "    expressao = str(expressao)\n",
    "    expressaonum = ''\n",
    "    for elemento in expressao:\n",
    "        if elemento in 'ABC':\n",
    "            expressaonum += '2'\n",
    "        elif elemento in 'DEF':\n",
    "            expressaonum += '3'\n",
    "        elif elemento in 'GHI':\n",
    "            expressaonum += '4'\n",
    "        elif elemento in 'JKL':\n",
    "            expressaonum += '5'\n",
    "        elif elemento in 'MNO':\n",
    "            expressaonum += '6'\n",
    "        elif elemento in 'PQRS':\n",
    "            expressaonum += '7'\n",
    "        elif elemento in 'TUV':\n",
    "            expressaonum += '8'\n",
    "        elif elemento in 'WXYZ':\n",
    "            expressaonum += '9'\n",
    "        else:\n",
    "            expressaonum += elemento\n",
    "    return expressaonum\n",
    "    "
   ]
  },
  {
   "cell_type": "code",
   "execution_count": 40,
   "metadata": {},
   "outputs": [
    {
     "data": {
      "text/plain": [
       "'1-4663-79338-4663'"
      ]
     },
     "execution_count": 40,
     "metadata": {},
     "output_type": "execute_result"
    }
   ],
   "source": [
    "letras2num('1-HOME-SWEET-HOME')"
   ]
  },
  {
   "cell_type": "markdown",
   "metadata": {},
   "source": [
    "4- Dada um texto em formato string, encontre todas as palavras pertencentes a esta string que contenham uma determinada letra, passada como parâmetro. "
   ]
  },
  {
   "cell_type": "code",
   "execution_count": 41,
   "metadata": {},
   "outputs": [],
   "source": [
    "def procuraLetra(texto,letra):\n",
    "    palavras = texto.split()\n",
    "    palavras = [palvra.strip(string.punctuation) for palvra in palavras]\n",
    "    listaFiltrada = []\n",
    "    for palvra in palavras:\n",
    "        if letra in palvra:\n",
    "            listaFiltrada.append(palvra)\n",
    "    return listaFiltrada"
   ]
  },
  {
   "cell_type": "code",
   "execution_count": 42,
   "metadata": {},
   "outputs": [
    {
     "data": {
      "text/plain": [
       "['país',\n",
       " 'Todas',\n",
       " 'as',\n",
       " 'crianças',\n",
       " 'menores',\n",
       " 'anos',\n",
       " 'dose',\n",
       " 'sua',\n",
       " 'situação',\n",
       " 'Dados',\n",
       " 'Ministério',\n",
       " 'mostram',\n",
       " 'mais',\n",
       " 'milhões',\n",
       " 'crianças',\n",
       " 'precisam',\n",
       " 'ser',\n",
       " 'imunizadas',\n",
       " 'Municípios',\n",
       " 'orientados',\n",
       " 'os',\n",
       " 'postos',\n",
       " 'saúde',\n",
       " 'sábado',\n",
       " 'ministério',\n",
       " 'semana',\n",
       " 'responsabilidade',\n",
       " 'necessário',\n",
       " 'as',\n",
       " 'secretarias',\n",
       " 'municipais',\n",
       " 'quais',\n",
       " 'postos',\n",
       " 'estarão',\n",
       " 'abertos',\n",
       " 'as',\n",
       " 'unidades',\n",
       " 'estão',\n",
       " 'Distrito',\n",
       " 'Amazonas',\n",
       " 'Grosso',\n",
       " 'Grosso',\n",
       " 'Apenas',\n",
       " 'Este',\n",
       " 'indiscriminada',\n",
       " 'significa',\n",
       " 'mesmo',\n",
       " 'as',\n",
       " 'crianças',\n",
       " 'estão',\n",
       " 'esquema',\n",
       " 'ser',\n",
       " 'levadas',\n",
       " 'aos',\n",
       " 'postos',\n",
       " 'saúde',\n",
       " 'mais',\n",
       " 'caso',\n",
       " 'as',\n",
       " 'crianças',\n",
       " 'dose',\n",
       " 'as',\n",
       " 'mais',\n",
       " 'doses',\n",
       " 'sarampo',\n",
       " 'todas',\n",
       " 'as',\n",
       " 'crianças',\n",
       " 'menores',\n",
       " 'dose',\n",
       " 'desde',\n",
       " 'sido',\n",
       " 'vacinadas',\n",
       " 'nos',\n",
       " 'últimos',\n",
       " 'dias',\n",
       " 'Casos',\n",
       " 'sarampo',\n",
       " 'agosto',\n",
       " 'confirmados',\n",
       " 'casos',\n",
       " 'sarampo',\n",
       " 'Brasil',\n",
       " 'investigação',\n",
       " 'país',\n",
       " 'dois',\n",
       " 'surtos',\n",
       " 'Amazonas',\n",
       " 'casos',\n",
       " 'confirmados',\n",
       " 'investigação',\n",
       " 'casos',\n",
       " 'confirmados',\n",
       " 'investigação',\n",
       " 'Casos',\n",
       " 'isolados',\n",
       " 'relacionados',\n",
       " 'identificados',\n",
       " 'nos',\n",
       " 'seguintes',\n",
       " 'estados',\n",
       " 'confirmadas',\n",
       " 'sete',\n",
       " 'mortes',\n",
       " 'sarampo',\n",
       " 'sendo',\n",
       " 'três',\n",
       " 'estrangeiros',\n",
       " 'brasileiro',\n",
       " 'três',\n",
       " 'Amazonas',\n",
       " 'todos',\n",
       " 'brasileiros',\n",
       " 'sendo',\n",
       " 'dois',\n",
       " 'óbitos',\n",
       " 'Manaus',\n",
       " 'Autazes']"
      ]
     },
     "execution_count": 42,
     "metadata": {},
     "output_type": "execute_result"
    }
   ],
   "source": [
    "procuraLetra('''A Campanha Nacional de Vacinação contra a Poliomielite e o Sarampo termina hoje (31) em todo o país. Todas as crianças com idade entre 1 ano e menores de 5 anos devem receber a dose, independentemente de sua situação vacinal.\n",
    "\n",
    "Dados do Ministério da Saúde mostram que mais de 3 milhões de crianças ainda precisam ser imunizadas.\n",
    "\n",
    "Municípios que ainda não atingiram cobertura vacinal de 95% foram orientados a abrir os postos de saúde amanhã (1º), sábado. O ministério alertou que a mobilização no fim de semana é responsabilidade de cada município e, portanto, é necessário verificar com as secretarias municipais quais postos estarão abertos.\n",
    "\n",
    "Entre as unidades da Federação com menor cobertura vacinal estão Rio de Janeiro, Distrito Federal, Roraima, Pará, Acre, Amazonas, Bahia, Piauí, Rio Grande do Sul, Mato Grosso do Sul, São Paulo e Mato Grosso. Apenas o Amapá atingiu a meta de imunizar 95% do público-alvo.\n",
    "\n",
    "Este ano, a vacinação é feita de forma indiscriminada, o que significa que mesmo as crianças que já estão com esquema vacinal completo devem ser levadas aos postos de saúde para receber mais um reforço.\n",
    "\n",
    "No caso da pólio, as crianças que não tomaram nenhuma dose ao longo da vida vão receber a vacina injetável e as que já tomaram uma ou mais doses devem receber a oral.\n",
    "\n",
    "Para o sarampo, todas as crianças com idade entre um ano e menores de 5 vão receber uma dose da tríplice viral, desde que não tenham sido vacinadas nos últimos 30 dias.\n",
    "\n",
    "Casos de sarampo\n",
    "\n",
    "Até o dia 28 de agosto, foram confirmados 1.553 casos de sarampo no Brasil, enquanto 6.975 permanecem em investigação.\n",
    "\n",
    "O país enfrenta dois surtos da doença: no Amazonas, que já tem 1.211 casos confirmados e 6.905 em investigação, e em Roraima, onde há 300 casos confirmados e 70 em investigação.\n",
    "\n",
    "Casos isolados e relacionados à importação foram identificados nos seguintes estados: São Paulo (2), Rio de Janeiro (18), Rio Grande do Sul (16), Rondônia (2). Pernambuco (2) e Pará (2).\n",
    "\n",
    "Foram confirmadas ainda sete mortes por sarampo, sendo quatro em Roraima (três em estrangeiros e uma em brasileiro) e três no Amazonas (todos brasileiros, sendo dois óbitos em Manaus e um no município de Autazes).''','s')\n"
   ]
  },
  {
   "cell_type": "code",
   "execution_count": 20,
   "metadata": {},
   "outputs": [
    {
     "data": {
      "text/plain": [
       "'!\"#$%&\\'()*+,-./:;<=>?@[\\\\]^_`{|}~'"
      ]
     },
     "execution_count": 20,
     "metadata": {},
     "output_type": "execute_result"
    }
   ],
   "source": [
    "string.punctuation"
   ]
  },
  {
   "cell_type": "code",
   "execution_count": 21,
   "metadata": {},
   "outputs": [
    {
     "data": {
      "text/plain": [
       "True"
      ]
     },
     "execution_count": 21,
     "metadata": {},
     "output_type": "execute_result"
    }
   ],
   "source": [
    "'c' in 'sdadscsadas'"
   ]
  },
  {
   "cell_type": "code",
   "execution_count": 25,
   "metadata": {},
   "outputs": [
    {
     "data": {
      "text/plain": [
       "2.0"
      ]
     },
     "execution_count": 25,
     "metadata": {},
     "output_type": "execute_result"
    }
   ],
   "source": [
    "2 + 3j.real"
   ]
  },
  {
   "cell_type": "code",
   "execution_count": null,
   "metadata": {},
   "outputs": [],
   "source": []
  }
 ],
 "metadata": {
  "kernelspec": {
   "display_name": "Python 3",
   "language": "python",
   "name": "python3"
  },
  "language_info": {
   "codemirror_mode": {
    "name": "ipython",
    "version": 3
   },
   "file_extension": ".py",
   "mimetype": "text/x-python",
   "name": "python",
   "nbconvert_exporter": "python",
   "pygments_lexer": "ipython3",
   "version": "3.5.2"
  }
 },
 "nbformat": 4,
 "nbformat_minor": 2
}
