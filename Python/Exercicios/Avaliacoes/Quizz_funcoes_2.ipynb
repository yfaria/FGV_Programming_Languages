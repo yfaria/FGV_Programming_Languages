{
 "cells": [
  {
   "cell_type": "markdown",
   "metadata": {},
   "source": [
    "1 - Dadas uma lista qualquer, como a do exemplo abaixo:"
   ]
  },
  {
   "cell_type": "code",
   "execution_count": 7,
   "metadata": {},
   "outputs": [],
   "source": [
    "import string"
   ]
  },
  {
   "cell_type": "code",
   "execution_count": 2,
   "metadata": {
    "collapsed": true
   },
   "outputs": [],
   "source": [
    "lista = [1,2,3,'4',5,6.3,7.4 + 2j,\"123\",[1,2,3], 93, \"98\", (1,2,3,'4')]"
   ]
  },
  {
   "cell_type": "markdown",
   "metadata": {},
   "source": [
    "Crie uma função recursiva para imprimir o antecessor e o sucessor de cada elemento de uma lista:\n",
    "+ Caso este elemento seja inteiro, imprimir o valor;  \n",
    "+ Caso seja uma string, imprimir o inteiro correspondente;  \n",
    "+ Caso seja um real, imprima a parte inteira;\n",
    "+ Caso seja um imaginário, imprima a parte inteira e real;\n",
    "+ Caso seja uma sequência, aplique as regras acima para cada elemento da sequência.  "
   ]
  },
  {
   "cell_type": "code",
   "execution_count": 5,
   "metadata": {},
   "outputs": [],
   "source": [
    "def imprimir(lista):\n",
    "    for elemento in lista:\n",
    "        if type(elemento) == int:\n",
    "            print(elemento)\n",
    "        elif type(elemento) == string:\n",
    "            elemento = int(elemento)\n",
    "            "
   ]
  },
  {
   "cell_type": "markdown",
   "metadata": {},
   "source": [
    "2 - Crie uma função, ou conjunto de funções, para exibir por extenso o valor de qualquer número inteiro até 1000.  \n",
    "Exemplo:  \n",
    "\n",
    "    print(imprime_extenso(234))  \n",
    "    > 'duzentos e trinta e quatro'  "
   ]
  },
  {
   "cell_type": "code",
   "execution_count": 10,
   "metadata": {},
   "outputs": [
    {
     "ename": "IndentationError",
     "evalue": "expected an indented block (<ipython-input-10-96c4d4b2ca93>, line 11)",
     "output_type": "error",
     "traceback": [
      "\u001b[0;36m  File \u001b[0;32m\"<ipython-input-10-96c4d4b2ca93>\"\u001b[0;36m, line \u001b[0;32m11\u001b[0m\n\u001b[0;31m    elif n == 100:\u001b[0m\n\u001b[0m    ^\u001b[0m\n\u001b[0;31mIndentationError\u001b[0m\u001b[0;31m:\u001b[0m expected an indented block\n"
     ]
    }
   ],
   "source": [
    "def imprime_extenso(n):\n",
    "    if n == 1000:\n",
    "        return 'mil'\n",
    "    elif 100 < n < 1000:\n",
    "        string_n = str(n)\n",
    "        listalgs = [int(elmnt) for elmnt in string_n]\n",
    "        if int(listalgs[1]) > 1:\n",
    "    elif n == 100:\n",
    "        return 'cem'\n",
    "    elif 10 < n < 1000:\n",
    "        pass\n",
    "    elif n == 10:\n",
    "        pass\n",
    "    \n",
    "    \n",
    "    \n",
    "def centenas(algCent):\n",
    "    if algCent == 1:\n",
    "        extenso = 'cento'\n",
    "    elif algCent == 2:\n",
    "        extenso = 'duzentos'\n",
    "    elif algCent == 3:\n",
    "        extenso = 'trezentos'\n",
    "    elif algCent == 4:\n",
    "        extenso = 'quatrocentos'\n",
    "    elif algCent == 5:\n",
    "        extenso = 'quinhetos'\n",
    "    elif algCent == 6:\n",
    "        extenso = 'seiscentos'\n",
    "    elif algCent == 7:\n",
    "        extenso = 'setecentos'\n",
    "    elif algCent == 8:\n",
    "        extenso = 'oitocentos'\n",
    "    elif algCent == 9:\n",
    "        extenso = 'novecentos'\n",
    "        \n",
    "def dezenas(algDez):\n",
    "    if algDez == 2:\n",
    "        extenso = 'vinte'\n",
    "    if algDez == 3:\n",
    "        extenso = 'trinta'\n",
    "    if algDez == 4:\n",
    "        extenso = 'quarenta'\n",
    "    if algDez == 5:\n",
    "        extenso = 'cinquenta'\n",
    "    if algDez == 6:\n",
    "        extenso = 'sessenta'\n",
    "    if algDez == 7:\n",
    "        extenso = 'setenta'\n",
    "    if algDez == 8:\n",
    "        extenso = 'oitenta'\n",
    "    if algDez == 9:\n",
    "        extenso = 'noventa'\n",
    "    \n",
    "    \n",
    "def unidades(algUn):\n",
    "    if algUn == 1:\n",
    "        extenso = 'um'\n",
    "    elif algUn == 2:\n",
    "        extenso = 'dois'\n",
    "    elif algUn == 3:\n",
    "        extenso = 'três'\n",
    "    elif algUn == 4:\n",
    "        extenso = 'quatro'\n",
    "    elif algUn == 5:\n",
    "        extenso = 'cinco'\n",
    "    elif algUn == 6:\n",
    "        extenso = 'seis'\n",
    "    elif algUn == 7:\n",
    "        extenso = 'sete'\n",
    "    elif algUn == 8:\n",
    "        extenso = 'oito'\n",
    "    elif algUn == 9:\n",
    "        extenso = 'nove'    "
   ]
  },
  {
   "cell_type": "markdown",
   "metadata": {},
   "source": [
    "3- Em alguns lugares é comum lembrar um número do telefone associando seus dígitos a letras. Dessa maneira a expressão MY LOVE significa 69 5683. Claro que existem alguns problemas, uma vez que alguns números de telefone não formam uma palavra ou uma frase e os dígitos 1 e 0 não estão associados a nenhuma letra.  \n",
    "\n",
    "Sua tarefa é ler uma expressão e encontrar o número de telefone correspondente baseado na tabela abaixo. Uma expressão é composta por letras maiúsculas (A-Z), hifens (-) e os números 1 e 0.  \n",
    "\n",
    "Letras  ->  Número  \n",
    "ABC    ->  2   \n",
    "DEF    ->  3   \n",
    "GHI    ->  4   \n",
    "JKL    ->  5   \n",
    "MNO    ->  6   \n",
    "PQRS    ->  7   \n",
    "TUV    ->  8   \n",
    "WXYZ   ->  9   \n",
    "\n",
    "Entrada  \n",
    "\n",
    "A entrada consiste de um conjunto de expressões. Cada expressão está sozinha em uma linha e possui C caracteres, onde 1 ≤ C ≤ 30. A entrada é terminada por fim de arquivo (EOF).  \n",
    "\n",
    "Saída  \n",
    "\n",
    "Para cada expressão você deve imprimir o número de telefone correspondente.  \n",
    "\n",
    "Exemplo de entrada:  \n",
    "\n",
    "1-HOME-SWEET-HOME  \n",
    "MY-MISERABLE-JOB  \n",
    "\n",
    "Saída correspondente:\n",
    "\n",
    "1-4663-79338-4663  \n",
    "69-647372253-562  "
   ]
  },
  {
   "cell_type": "code",
   "execution_count": null,
   "metadata": {
    "collapsed": true
   },
   "outputs": [],
   "source": []
  },
  {
   "cell_type": "markdown",
   "metadata": {},
   "source": [
    "4- Dada um texto em formato string, encontre todas as palavras pertencentes a esta string que contenham uma determinada letra, passada como parâmetro. "
   ]
  },
  {
   "cell_type": "code",
   "execution_count": 6,
   "metadata": {},
   "outputs": [],
   "source": [
    "def procuraLetra(texto,letra):\n",
    "    palavras = texto.split()\n",
    "    palavras = [palvra.strip(string.punctuation) for palvra in palavras]\n",
    "    listaFiltrada = []\n",
    "    for palvra in palavras:\n",
    "        if letra in palvra:\n",
    "            listaFiltrada.append(palvra)"
   ]
  },
  {
   "cell_type": "code",
   "execution_count": 8,
   "metadata": {},
   "outputs": [
    {
     "data": {
      "text/plain": [
       "'!\"#$%&\\'()*+,-./:;<=>?@[\\\\]^_`{|}~'"
      ]
     },
     "execution_count": 8,
     "metadata": {},
     "output_type": "execute_result"
    }
   ],
   "source": [
    "string.punctuation"
   ]
  },
  {
   "cell_type": "code",
   "execution_count": 9,
   "metadata": {},
   "outputs": [
    {
     "data": {
      "text/plain": [
       "True"
      ]
     },
     "execution_count": 9,
     "metadata": {},
     "output_type": "execute_result"
    }
   ],
   "source": [
    "'c' in 'sdadscsadas'"
   ]
  },
  {
   "cell_type": "code",
   "execution_count": null,
   "metadata": {},
   "outputs": [],
   "source": []
  }
 ],
 "metadata": {
  "kernelspec": {
   "display_name": "Python 3",
   "language": "python",
   "name": "python3"
  },
  "language_info": {
   "codemirror_mode": {
    "name": "ipython",
    "version": 3
   },
   "file_extension": ".py",
   "mimetype": "text/x-python",
   "name": "python",
   "nbconvert_exporter": "python",
   "pygments_lexer": "ipython3",
   "version": "3.5.2"
  }
 },
 "nbformat": 4,
 "nbformat_minor": 2
}
