{
 "cells": [
  {
   "cell_type": "markdown",
   "metadata": {},
   "source": [
    "1 - Dada a lista:"
   ]
  },
  {
   "cell_type": "code",
   "execution_count": 12,
   "metadata": {},
   "outputs": [],
   "source": [
    "lista = [1,2,3,'4',5,6.3,7.4 + 2j,\"123\",[1,2,3], 93, \"98\"]"
   ]
  },
  {
   "cell_type": "markdown",
   "metadata": {},
   "source": [
    "Crie um código para imprimir o antecessor e o sucessor de cada elemento de uma lista:\n",
    "+ Caso este elemento seja inteiro, imprimir o valor;  \n",
    "+ Caso seja uma string, imprimir o inteiro correspondente;  \n",
    "+ Caso seja um real, imprima a parte inteira;\n",
    "+ Caso seja um imaginário, imprima a parte inteira e real;\n",
    "+ Caso seja uma sequência, aplique as regras acima para cada elemento da sequência.  "
   ]
  },
  {
   "cell_type": "code",
   "execution_count": 11,
   "metadata": {},
   "outputs": [
    {
     "data": {
      "text/plain": [
       "str"
      ]
     },
     "execution_count": 11,
     "metadata": {},
     "output_type": "execute_result"
    }
   ],
   "source": [
    "type(lista[3])"
   ]
  },
  {
   "cell_type": "code",
   "execution_count": 18,
   "metadata": {},
   "outputs": [],
   "source": [
    "def func(lista):\n",
    "    for elemento in lista:\n",
    "        if type(elemento)==int:\n",
    "            print(\"O valor é \" + str(elemento) + ', e seu antecessor e sucessor são respectivamente ' + str(elemento-1) + ' e ' + str(elemento+1) + '\\n')\n",
    "        elif type(elemento) == str:\n",
    "            num = int(elemento)\n",
    "            print(\"O valor é \" + str(num) + ', e seu antecessor e sucessor são respectivamente ' + str(num-1) + ' e ' + str(num+1) + '\\n')\n",
    "        elif type(elemento) == float:\n",
    "            num = int(elemento)\n",
    "            print(\"O valor é \" + str(num) + ', e seu antecessor e sucessor são respectivamente ' + str(num-1) + ' e ' + str(num+1) + '\\n')\n",
    "        elif type(elemento) == complex:\n",
    "            print(\"O valor é \" + str(num) + ', e seu antecessor e sucessor são respectivamente ' + str(num-1) + ' e ' + str(num+1) + '\\n')\n",
    "        elif type(elemento) == list:\n",
    "            for EleLista in range(len(elemento)):\n",
    "                print(\"O valor é \" + str(EleLista) + ', e seu antecessor e sucessor são respectivamente ' + str(EleLista-1) + ' e ' + str(EleLista+1) + '\\n')    "
   ]
  },
  {
   "cell_type": "markdown",
   "metadata": {},
   "source": [
    "2 - Os fatores primos de 13195 são 5, 7, 13 e 29. Qual o maior fator primo de 600851475143?  \n",
    "https://projecteuler.net/problem=3  "
   ]
  },
  {
   "cell_type": "code",
   "execution_count": 21,
   "metadata": {},
   "outputs": [
    {
     "data": {
      "text/plain": [
       "775146.0992245268"
      ]
     },
     "execution_count": 21,
     "metadata": {},
     "output_type": "execute_result"
    }
   ],
   "source": [
    "import math\n",
    "import time\n",
    "import random\n",
    "\n",
    "def q2(num):\n",
    "    teto = int(math.sqrt(num) + 1)\n",
    "    \n",
    "    \n",
    "    "
   ]
  },
  {
   "cell_type": "code",
   "execution_count": 8,
   "metadata": {},
   "outputs": [],
   "source": [
    "def prim(teto):\n",
    "    primos = [2,3]\n",
    "    #dá todos os primos até o teto. Já inclui dois e três\n",
    "    TetoK = int(teto/6 + 1)\n",
    "    for k in range (TetoK):\n",
    "        candidato1 = int(6*k + 1)\n",
    "        candidato2 = int(6*k + 5)\n",
    "        if all(candidato1 % T_Prim != 0 for T_Prim in range(5,int((candidato1 + 1) / 2), 2)):   \n",
    "            primos.append(candidato1)\n",
    "        if all(candidato2 % T_Prim != 0 for T_Prim in range(5,int((candidato2 + 1) / 2), 2)):\n",
    "            primos.append(candidato2)\n",
    "    return primos              "
   ]
  },
  {
   "cell_type": "code",
   "execution_count": 9,
   "metadata": {},
   "outputs": [
    {
     "data": {
      "text/plain": [
       "[2, 3, 1, 5, 7, 11, 13, 17, 19, 23, 29, 31]"
      ]
     },
     "execution_count": 9,
     "metadata": {},
     "output_type": "execute_result"
    }
   ],
   "source": [
    "prim(30)"
   ]
  },
  {
   "cell_type": "markdown",
   "metadata": {},
   "source": [
    "3- Crie um programa que imprima os números de 1 a 100, mas nos múltiplos de 3 imprima “Fizz” em vez do  número e nos múltiplos de 5 imprima “Buzz”. Para os números que são múltiplos de tanto 3 como 5, imprima “FizzBuzz”.  "
   ]
  },
  {
   "cell_type": "code",
   "execution_count": 1,
   "metadata": {},
   "outputs": [
    {
     "data": {
      "text/plain": [
       "[0, 1, 2, 3, 4, 5, 6, 7, 8, 9]"
      ]
     },
     "execution_count": 1,
     "metadata": {},
     "output_type": "execute_result"
    }
   ],
   "source": []
  },
  {
   "cell_type": "markdown",
   "metadata": {},
   "source": [
    "4- Usando a biblioteca \"random\", crie um programa para calcular a média da soma de dois dados de 6 faces (D6) em 10000 lançamentos."
   ]
  },
  {
   "cell_type": "code",
   "execution_count": 3,
   "metadata": {
    "collapsed": true
   },
   "outputs": [],
   "source": [
    "import random"
   ]
  },
  {
   "cell_type": "code",
   "execution_count": null,
   "metadata": {
    "collapsed": true
   },
   "outputs": [],
   "source": []
  }
 ],
 "metadata": {
  "kernelspec": {
   "display_name": "Python 3",
   "language": "python",
   "name": "python3"
  },
  "language_info": {
   "codemirror_mode": {
    "name": "ipython",
    "version": 3
   },
   "file_extension": ".py",
   "mimetype": "text/x-python",
   "name": "python",
   "nbconvert_exporter": "python",
   "pygments_lexer": "ipython3",
   "version": "3.5.2"
  }
 },
 "nbformat": 4,
 "nbformat_minor": 2
}
