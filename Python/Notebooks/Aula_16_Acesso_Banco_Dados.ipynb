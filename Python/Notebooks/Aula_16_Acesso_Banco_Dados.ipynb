{
 "cells": [
  {
   "cell_type": "markdown",
   "metadata": {},
   "source": [
    "FGV - Escola de Matemática Aplicada\n",
    "==\n",
    "Introdução à Programação com a Linguagem Python\n",
    "--"
   ]
  },
  {
   "cell_type": "markdown",
   "metadata": {},
   "source": [
    "#### Acesso a Banco de Dados"
   ]
  },
  {
   "cell_type": "markdown",
   "metadata": {},
   "source": [
    "Importando os Módulos"
   ]
  },
  {
   "cell_type": "code",
   "execution_count": 1,
   "metadata": {},
   "outputs": [],
   "source": [
    "import pymysql\n",
    "import sqlite3\n",
    "import getpass\n",
    "import pandas.io.sql as psql"
   ]
  },
  {
   "cell_type": "markdown",
   "metadata": {},
   "source": [
    "Estabelecendo uma Conexão"
   ]
  },
  {
   "cell_type": "code",
   "execution_count": 3,
   "metadata": {},
   "outputs": [
    {
     "name": "stdout",
     "output_type": "stream",
     "text": [
      "········\n"
     ]
    }
   ],
   "source": [
    "p = getpass.getpass()\n",
    "conn = pymysql.connect(host='127.0.0.1', #localhost\n",
    "                       port=3306, \n",
    "                       user='aluno', \n",
    "                       passwd=p, \n",
    "                       db='Alunos')"
   ]
  },
  {
   "cell_type": "markdown",
   "metadata": {},
   "source": [
    "Utilizando cursores padrão"
   ]
  },
  {
   "cell_type": "code",
   "execution_count": 4,
   "metadata": {},
   "outputs": [],
   "source": [
    "cur = conn.cursor()"
   ]
  },
  {
   "cell_type": "markdown",
   "metadata": {},
   "source": [
    "Executando queries e examinando os resultados:\n",
    "\n",
    "+ fetchall()  \n",
    "+ fetchmany(num. registros)  \n",
    "* fetchone()  \n",
    "\n",
    "O cursor armazena os resultados da query  "
   ]
  },
  {
   "cell_type": "code",
   "execution_count": 5,
   "metadata": {},
   "outputs": [
    {
     "name": "stdout",
     "output_type": "stream",
     "text": [
      "('information_schema',)\n",
      "('Alunos',)\n",
      "('Alunos2',)\n",
      "('Reuters',)\n",
      "('classicmodels',)\n"
     ]
    }
   ],
   "source": [
    "cur.execute(\"show databases;\")\n",
    "for r in cur.fetchall():\n",
    "    print(r)"
   ]
  },
  {
   "cell_type": "code",
   "execution_count": 6,
   "metadata": {},
   "outputs": [
    {
     "data": {
      "text/plain": [
       "0"
      ]
     },
     "execution_count": 6,
     "metadata": {},
     "output_type": "execute_result"
    }
   ],
   "source": [
    "cur.execute('use Alunos2;')"
   ]
  },
  {
   "cell_type": "code",
   "execution_count": 7,
   "metadata": {},
   "outputs": [
    {
     "name": "stdout",
     "output_type": "stream",
     "text": [
      "('a',)\n",
      "('account',)\n",
      "('b',)\n",
      "('branch',)\n",
      "('business',)\n",
      "('customer',)\n",
      "('department',)\n",
      "('employee',)\n",
      "('individual',)\n",
      "('officer',)\n",
      "('perso',)\n",
      "('product',)\n",
      "('product_type',)\n",
      "('transaction',)\n",
      "('transaction_vw',)\n"
     ]
    }
   ],
   "source": [
    "cur.execute('show tables;')\n",
    "for r in cur.fetchall():\n",
    "    print(r)"
   ]
  },
  {
   "cell_type": "code",
   "execution_count": 8,
   "metadata": {},
   "outputs": [
    {
     "name": "stdout",
     "output_type": "stream",
     "text": [
      "(1, '111-11-1111', 'I', '47 Mockingbird Ln', 'Lynnfield', 'MA', '01940')\n",
      "(2, '222-22-2222', 'I', '372 Clearwater Blvd', 'Woburn', 'MA', '01801')\n",
      "(3, '333-33-3333', 'I', '18 Jessup Rd', 'Quincy', 'MA', '02169')\n",
      "(4, '444-44-4444', 'I', '12 Buchanan Ln', 'Waltham', 'MA', '02451')\n",
      "(5, '555-55-5555', 'I', '2341 Main St', 'Salem', 'NH', '03079')\n",
      "(6, '666-66-6666', 'I', '12 Blaylock Ln', 'Waltham', 'MA', '02451')\n",
      "(7, '777-77-7777', 'I', '29 Admiral Ln', 'Wilmington', 'MA', '01887')\n",
      "(8, '888-88-8888', 'I', '472 Freedom Rd', 'Salem', 'NH', '03079')\n",
      "(9, '999-99-9999', 'I', '29 Maple St', 'Newton', 'MA', '02458')\n",
      "(10, '04-1111111', 'B', '7 Industrial Way', 'Salem', 'NH', '03079')\n",
      "(11, '04-2222222', 'B', '287A Corporate Ave', 'Wilmington', 'MA', '01887')\n",
      "(12, '04-3333333', 'B', '789 Main St', 'Salem', 'NH', '03079')\n",
      "(13, '04-4444444', 'B', '4772 Presidential Way', 'Quincy', 'MA', '02169')\n"
     ]
    }
   ],
   "source": [
    "cur.execute('select * from customer;')\n",
    "for r in cur.fetchall():\n",
    "    print(r)"
   ]
  },
  {
   "cell_type": "code",
   "execution_count": 9,
   "metadata": {},
   "outputs": [
    {
     "name": "stdout",
     "output_type": "stream",
     "text": [
      "(1, '111-11-1111', 'I', '47 Mockingbird Ln', 'Lynnfield', 'MA', '01940')\n",
      "(2, '222-22-2222', 'I', '372 Clearwater Blvd', 'Woburn', 'MA', '01801')\n",
      "(3, '333-33-3333', 'I', '18 Jessup Rd', 'Quincy', 'MA', '02169')\n",
      "(4, '444-44-4444', 'I', '12 Buchanan Ln', 'Waltham', 'MA', '02451')\n",
      "(5, '555-55-5555', 'I', '2341 Main St', 'Salem', 'NH', '03079')\n"
     ]
    }
   ],
   "source": [
    "cur.execute('select * from customer;')\n",
    "for r in cur.fetchmany(5):\n",
    "    print(r)"
   ]
  },
  {
   "cell_type": "code",
   "execution_count": 10,
   "metadata": {},
   "outputs": [],
   "source": [
    "cur.execute('select * from customer;')\n",
    "a,b,c,d,e,f,g = cur.fetchone()\n",
    "h,i,j,k,l,m,n = cur.fetchone()"
   ]
  },
  {
   "cell_type": "code",
   "execution_count": 11,
   "metadata": {},
   "outputs": [
    {
     "data": {
      "text/plain": [
       "1"
      ]
     },
     "execution_count": 11,
     "metadata": {},
     "output_type": "execute_result"
    }
   ],
   "source": [
    "a"
   ]
  },
  {
   "cell_type": "code",
   "execution_count": 12,
   "metadata": {},
   "outputs": [
    {
     "data": {
      "text/plain": [
       "'111-11-1111'"
      ]
     },
     "execution_count": 12,
     "metadata": {},
     "output_type": "execute_result"
    }
   ],
   "source": [
    "b"
   ]
  },
  {
   "cell_type": "code",
   "execution_count": 13,
   "metadata": {},
   "outputs": [
    {
     "data": {
      "text/plain": [
       "2"
      ]
     },
     "execution_count": 13,
     "metadata": {},
     "output_type": "execute_result"
    }
   ],
   "source": [
    "h"
   ]
  },
  {
   "cell_type": "code",
   "execution_count": 14,
   "metadata": {},
   "outputs": [
    {
     "data": {
      "text/plain": [
       "'222-22-2222'"
      ]
     },
     "execution_count": 14,
     "metadata": {},
     "output_type": "execute_result"
    }
   ],
   "source": [
    "i"
   ]
  },
  {
   "cell_type": "markdown",
   "metadata": {},
   "source": [
    "Criando uma tabela no Banco de Dados"
   ]
  },
  {
   "cell_type": "code",
   "execution_count": 15,
   "metadata": {},
   "outputs": [
    {
     "data": {
      "text/plain": [
       "0"
      ]
     },
     "execution_count": 15,
     "metadata": {},
     "output_type": "execute_result"
    }
   ],
   "source": [
    "cur.execute(\"USE Alunos;\")\n",
    "\n",
    "q = '''CREATE TABLE IF NOT EXISTS tabela_nova\n",
    "       (text VARCHAR(200) DEFAULT NULL,\n",
    "        number INT DEFAULT NULL)\n",
    "        ENGINE=MyISAM DEFAULT CHARSET='utf8';'''\n",
    "\n",
    "cur.execute(q)"
   ]
  },
  {
   "cell_type": "code",
   "execution_count": 16,
   "metadata": {},
   "outputs": [
    {
     "name": "stdout",
     "output_type": "stream",
     "text": [
      "('renato',)\n",
      "('tabela_nova',)\n"
     ]
    }
   ],
   "source": [
    "cur.execute(\"show tables;\")\n",
    "for r in cur.fetchall():\n",
    "    print(r)"
   ]
  },
  {
   "cell_type": "code",
   "execution_count": 17,
   "metadata": {},
   "outputs": [
    {
     "name": "stdout",
     "output_type": "stream",
     "text": [
      "('text', 'varchar(200)', 'YES', '', None, '')\n",
      "('number', 'int(11)', 'YES', '', None, '')\n"
     ]
    }
   ],
   "source": [
    "cur.execute(\"describe tabela_nova;\")\n",
    "for r in cur.fetchall():\n",
    "    print(r)"
   ]
  },
  {
   "cell_type": "markdown",
   "metadata": {},
   "source": [
    "Inserindo registros na nova tabela:  "
   ]
  },
  {
   "cell_type": "markdown",
   "metadata": {},
   "source": [
    "Inserindo um registro:"
   ]
  },
  {
   "cell_type": "code",
   "execution_count": 18,
   "metadata": {},
   "outputs": [
    {
     "data": {
      "text/plain": [
       "1"
      ]
     },
     "execution_count": 18,
     "metadata": {},
     "output_type": "execute_result"
    }
   ],
   "source": [
    "texto = 'Um novo texto para inserir na tabela'\n",
    "numero = 245\n",
    "\n",
    "cur.execute('''INSERT INTO Alunos.tabela_nova \n",
    "            (text,number) VALUES (%s,%s)''',(texto,numero))"
   ]
  },
  {
   "cell_type": "code",
   "execution_count": 19,
   "metadata": {},
   "outputs": [
    {
     "name": "stdout",
     "output_type": "stream",
     "text": [
      "('Um novo texto para inserir na tabela', 245)\n"
     ]
    }
   ],
   "source": [
    "cur.execute(\"select * from tabela_nova;\")\n",
    "for r in cur.fetchall():\n",
    "    print(r)"
   ]
  },
  {
   "cell_type": "markdown",
   "metadata": {},
   "source": [
    "Inserindo vários registros"
   ]
  },
  {
   "cell_type": "code",
   "execution_count": 20,
   "metadata": {},
   "outputs": [
    {
     "data": {
      "text/plain": [
       "4"
      ]
     },
     "execution_count": 20,
     "metadata": {},
     "output_type": "execute_result"
    }
   ],
   "source": [
    "texts = ['It always seems impossible until its done.',\n",
    "         'In order to succeed, we must first believe that we can.',\n",
    "         'Life is 10% what happens to you and 90% how you react to it.',\n",
    "         'Start where you are. Use what you have. Do what you can.',]\n",
    "\n",
    "numbers = [12,23,34,45]\n",
    "\n",
    "regs = zip(texts,numbers)\n",
    "\n",
    "cur.executemany('INSERT INTO Alunos.tabela_nova (text,number) VALUES (%s,%s)', (regs))"
   ]
  },
  {
   "cell_type": "code",
   "execution_count": 21,
   "metadata": {},
   "outputs": [
    {
     "name": "stdout",
     "output_type": "stream",
     "text": [
      "('Um novo texto para inserir na tabela', 245)\n",
      "('It always seems impossible until its done.', 12)\n",
      "('In order to succeed, we must first believe that we can.', 23)\n",
      "('Life is 10% what happens to you and 90% how you react to it.', 34)\n",
      "('Start where you are. Use what you have. Do what you can.', 45)\n"
     ]
    }
   ],
   "source": [
    "cur.execute(\"select * from tabela_nova;\")\n",
    "for r in cur.fetchall():\n",
    "    print(r)"
   ]
  },
  {
   "cell_type": "code",
   "execution_count": 22,
   "metadata": {},
   "outputs": [
    {
     "data": {
      "text/plain": [
       "0"
      ]
     },
     "execution_count": 22,
     "metadata": {},
     "output_type": "execute_result"
    }
   ],
   "source": [
    "cur.execute(\"DROP TABLE IF EXISTS Alunos.tabela_nova\") #usuário não tem direito de drop"
   ]
  },
  {
   "cell_type": "markdown",
   "metadata": {},
   "source": [
    "Usando Pandas\n",
    "\n",
    "(Basta passar a conexão estabelecida como parâmetro)   "
   ]
  },
  {
   "cell_type": "code",
   "execution_count": 23,
   "metadata": {},
   "outputs": [],
   "source": [
    "df_mysql = psql.read_sql('select * from Alunos2.account;', con=conn)"
   ]
  },
  {
   "cell_type": "code",
   "execution_count": 24,
   "metadata": {},
   "outputs": [
    {
     "data": {
      "text/html": [
       "<div>\n",
       "<style>\n",
       "    .dataframe thead tr:only-child th {\n",
       "        text-align: right;\n",
       "    }\n",
       "\n",
       "    .dataframe thead th {\n",
       "        text-align: left;\n",
       "    }\n",
       "\n",
       "    .dataframe tbody tr th {\n",
       "        vertical-align: top;\n",
       "    }\n",
       "</style>\n",
       "<table border=\"1\" class=\"dataframe\">\n",
       "  <thead>\n",
       "    <tr style=\"text-align: right;\">\n",
       "      <th></th>\n",
       "      <th>account_id</th>\n",
       "      <th>product_cd</th>\n",
       "      <th>cust_id</th>\n",
       "      <th>open_date</th>\n",
       "      <th>close_date</th>\n",
       "      <th>last_activity_date</th>\n",
       "      <th>status</th>\n",
       "      <th>open_branch_id</th>\n",
       "      <th>open_emp_id</th>\n",
       "      <th>avail_balance</th>\n",
       "      <th>pending_balance</th>\n",
       "    </tr>\n",
       "  </thead>\n",
       "  <tbody>\n",
       "    <tr>\n",
       "      <th>0</th>\n",
       "      <td>1</td>\n",
       "      <td>CHK</td>\n",
       "      <td>1</td>\n",
       "      <td>2000-01-15</td>\n",
       "      <td>None</td>\n",
       "      <td>2005-01-04</td>\n",
       "      <td>ACTIVE</td>\n",
       "      <td>2</td>\n",
       "      <td>10</td>\n",
       "      <td>1057.75</td>\n",
       "      <td>1057.75</td>\n",
       "    </tr>\n",
       "    <tr>\n",
       "      <th>1</th>\n",
       "      <td>2</td>\n",
       "      <td>SAV</td>\n",
       "      <td>1</td>\n",
       "      <td>2000-01-15</td>\n",
       "      <td>None</td>\n",
       "      <td>2004-12-19</td>\n",
       "      <td>ACTIVE</td>\n",
       "      <td>2</td>\n",
       "      <td>10</td>\n",
       "      <td>500.00</td>\n",
       "      <td>500.00</td>\n",
       "    </tr>\n",
       "    <tr>\n",
       "      <th>2</th>\n",
       "      <td>3</td>\n",
       "      <td>CD</td>\n",
       "      <td>1</td>\n",
       "      <td>2004-06-30</td>\n",
       "      <td>None</td>\n",
       "      <td>2004-06-30</td>\n",
       "      <td>ACTIVE</td>\n",
       "      <td>2</td>\n",
       "      <td>10</td>\n",
       "      <td>3000.00</td>\n",
       "      <td>3000.00</td>\n",
       "    </tr>\n",
       "    <tr>\n",
       "      <th>3</th>\n",
       "      <td>4</td>\n",
       "      <td>CHK</td>\n",
       "      <td>2</td>\n",
       "      <td>2001-03-12</td>\n",
       "      <td>None</td>\n",
       "      <td>2004-12-27</td>\n",
       "      <td>ACTIVE</td>\n",
       "      <td>2</td>\n",
       "      <td>10</td>\n",
       "      <td>2258.02</td>\n",
       "      <td>2258.02</td>\n",
       "    </tr>\n",
       "    <tr>\n",
       "      <th>4</th>\n",
       "      <td>5</td>\n",
       "      <td>SAV</td>\n",
       "      <td>2</td>\n",
       "      <td>2001-03-12</td>\n",
       "      <td>None</td>\n",
       "      <td>2004-12-11</td>\n",
       "      <td>ACTIVE</td>\n",
       "      <td>2</td>\n",
       "      <td>10</td>\n",
       "      <td>200.00</td>\n",
       "      <td>200.00</td>\n",
       "    </tr>\n",
       "  </tbody>\n",
       "</table>\n",
       "</div>"
      ],
      "text/plain": [
       "   account_id product_cd  cust_id   open_date close_date last_activity_date  \\\n",
       "0           1        CHK        1  2000-01-15       None         2005-01-04   \n",
       "1           2        SAV        1  2000-01-15       None         2004-12-19   \n",
       "2           3         CD        1  2004-06-30       None         2004-06-30   \n",
       "3           4        CHK        2  2001-03-12       None         2004-12-27   \n",
       "4           5        SAV        2  2001-03-12       None         2004-12-11   \n",
       "\n",
       "   status  open_branch_id  open_emp_id  avail_balance  pending_balance  \n",
       "0  ACTIVE               2           10        1057.75          1057.75  \n",
       "1  ACTIVE               2           10         500.00           500.00  \n",
       "2  ACTIVE               2           10        3000.00          3000.00  \n",
       "3  ACTIVE               2           10        2258.02          2258.02  \n",
       "4  ACTIVE               2           10         200.00           200.00  "
      ]
     },
     "execution_count": 24,
     "metadata": {},
     "output_type": "execute_result"
    }
   ],
   "source": [
    "df_mysql.head()"
   ]
  },
  {
   "cell_type": "markdown",
   "metadata": {},
   "source": [
    "#### Usando um Banco SQLite"
   ]
  },
  {
   "cell_type": "code",
   "execution_count": 25,
   "metadata": {},
   "outputs": [],
   "source": [
    "conn = sqlite3.connect('example.db')\n",
    "cur = conn.cursor()"
   ]
  },
  {
   "cell_type": "code",
   "execution_count": 26,
   "metadata": {},
   "outputs": [],
   "source": [
    "# Create table\n",
    "cur.execute('''CREATE TABLE IF NOT EXISTS stocks\n",
    "             (date text, trans text, symbol text, qty real, price real)''')\n",
    "\n",
    "# Insert a row of data\n",
    "cur.execute(\"INSERT INTO stocks VALUES ('2006-01-05','BUY','RHAT',100,35.14)\")\n",
    "\n",
    "# Save (commit) the changes\n",
    "conn.commit()\n",
    "\n",
    "# We can also close the connection if we are done with it.\n",
    "# Just be sure any changes have been committed or they will be lost.\n",
    "conn.close()"
   ]
  },
  {
   "cell_type": "code",
   "execution_count": 27,
   "metadata": {},
   "outputs": [],
   "source": [
    "conn = sqlite3.connect('example.db')\n",
    "cur = conn.cursor()"
   ]
  },
  {
   "cell_type": "code",
   "execution_count": 28,
   "metadata": {},
   "outputs": [
    {
     "name": "stdout",
     "output_type": "stream",
     "text": [
      "('2006-01-05', 'BUY', 'RHAT', 100.0, 35.14)\n"
     ]
    }
   ],
   "source": [
    "t = ('RHAT',) #tuple with just one element\n",
    "cur.execute('SELECT * FROM stocks WHERE symbol=?', t)\n",
    "print(cur.fetchone())"
   ]
  },
  {
   "cell_type": "code",
   "execution_count": 29,
   "metadata": {},
   "outputs": [
    {
     "data": {
      "text/plain": [
       "<sqlite3.Cursor at 0x7f8cd31210a0>"
      ]
     },
     "execution_count": 29,
     "metadata": {},
     "output_type": "execute_result"
    }
   ],
   "source": [
    "# Larger example that inserts many records at a time\n",
    "purchases = [('2006-03-28', 'BUY', 'IBM', 1000, 45.00),\n",
    "             ('2006-04-05', 'BUY', 'MSFT', 1000, 72.00),\n",
    "             ('2006-04-06', 'SELL', 'IBM', 500, 53.00),\n",
    "            ]\n",
    "cur.executemany('INSERT INTO stocks VALUES (?,?,?,?,?)', purchases)"
   ]
  },
  {
   "cell_type": "code",
   "execution_count": 37,
   "metadata": {},
   "outputs": [
    {
     "name": "stdout",
     "output_type": "stream",
     "text": [
      "('2006-01-05', 'BUY', 'RHAT', 100.0, 35.14)\n",
      "('2006-01-05', 'BUY', 'RHAT', 100.0, 35.14)\n",
      "('2006-03-28', 'BUY', 'IBM', 1000.0, 45.0)\n",
      "('2006-04-06', 'SELL', 'IBM', 500.0, 53.0)\n",
      "('2006-04-05', 'BUY', 'MSFT', 1000.0, 72.0)\n"
     ]
    }
   ],
   "source": [
    "for row in cur.execute('SELECT * FROM stocks ORDER BY price'):\n",
    "        print(row)"
   ]
  },
  {
   "cell_type": "markdown",
   "metadata": {},
   "source": [
    "### Exercícios"
   ]
  },
  {
   "cell_type": "code",
   "execution_count": 41,
   "metadata": {},
   "outputs": [
    {
     "name": "stdout",
     "output_type": "stream",
     "text": [
      "········\n"
     ]
    }
   ],
   "source": [
    "p = getpass.getpass()\n",
    "conn = pymysql.connect(host='127.0.0.1', #localhost\n",
    "                       port=3306, \n",
    "                       user='aluno', \n",
    "                       passwd=p, \n",
    "                       db='Alunos')\n",
    "cur = conn.cursor()"
   ]
  },
  {
   "cell_type": "code",
   "execution_count": 42,
   "metadata": {},
   "outputs": [
    {
     "name": "stdout",
     "output_type": "stream",
     "text": [
      "('a',)\n",
      "('account',)\n",
      "('b',)\n",
      "('branch',)\n",
      "('business',)\n",
      "('customer',)\n",
      "('department',)\n",
      "('employee',)\n",
      "('individual',)\n",
      "('officer',)\n",
      "('perso',)\n",
      "('product',)\n",
      "('product_type',)\n",
      "('transaction',)\n",
      "('transaction_vw',)\n"
     ]
    }
   ],
   "source": [
    "cur.execute('use Alunos2;')\n",
    "cur.execute('show tables;')\n",
    "for r in cur.fetchall():\n",
    "    print(r)"
   ]
  },
  {
   "cell_type": "code",
   "execution_count": 43,
   "metadata": {},
   "outputs": [
    {
     "name": "stdout",
     "output_type": "stream",
     "text": [
      "('account_id', 'int(10) unsigned', 'NO', 'PRI', None, 'auto_increment')\n",
      "('product_cd', 'varchar(10)', 'NO', 'MUL', None, '')\n",
      "('cust_id', 'int(10) unsigned', 'NO', 'MUL', None, '')\n",
      "('open_date', 'date', 'NO', '', None, '')\n",
      "('close_date', 'date', 'YES', '', None, '')\n",
      "('last_activity_date', 'date', 'YES', '', None, '')\n",
      "('status', \"enum('ACTIVE','CLOSED','FROZEN')\", 'YES', '', None, '')\n",
      "('open_branch_id', 'smallint(5) unsigned', 'YES', 'MUL', None, '')\n",
      "('open_emp_id', 'smallint(5) unsigned', 'YES', 'MUL', None, '')\n",
      "('avail_balance', 'float(10,2)', 'YES', '', None, '')\n",
      "('pending_balance', 'float(10,2)', 'YES', '', None, '')\n"
     ]
    }
   ],
   "source": [
    "cur.execute('describe account;')\n",
    "for r in cur.fetchall():\n",
    "    print(r)"
   ]
  },
  {
   "cell_type": "code",
   "execution_count": 44,
   "metadata": {},
   "outputs": [
    {
     "name": "stdout",
     "output_type": "stream",
     "text": [
      "(1, 'CHK', 1, datetime.date(2000, 1, 15), None, datetime.date(2005, 1, 4), 'ACTIVE', 2, 10, 1057.75, 1057.75)\n",
      "(2, 'SAV', 1, datetime.date(2000, 1, 15), None, datetime.date(2004, 12, 19), 'ACTIVE', 2, 10, 500.0, 500.0)\n",
      "(3, 'CD', 1, datetime.date(2004, 6, 30), None, datetime.date(2004, 6, 30), 'ACTIVE', 2, 10, 3000.0, 3000.0)\n",
      "(4, 'CHK', 2, datetime.date(2001, 3, 12), None, datetime.date(2004, 12, 27), 'ACTIVE', 2, 10, 2258.02, 2258.02)\n",
      "(5, 'SAV', 2, datetime.date(2001, 3, 12), None, datetime.date(2004, 12, 11), 'ACTIVE', 2, 10, 200.0, 200.0)\n"
     ]
    }
   ],
   "source": [
    "cur.execute('select * from account limit 5;')\n",
    "for r in cur.fetchall():\n",
    "    print(r)"
   ]
  },
  {
   "cell_type": "code",
   "execution_count": 45,
   "metadata": {},
   "outputs": [
    {
     "name": "stdout",
     "output_type": "stream",
     "text": [
      "('product_cd', 'varchar(10)', 'NO', 'PRI', None, '')\n",
      "('name', 'varchar(50)', 'NO', '', None, '')\n",
      "('product_type_cd', 'varchar(10)', 'NO', 'MUL', None, '')\n",
      "('date_offered', 'date', 'YES', '', None, '')\n",
      "('date_retired', 'date', 'YES', '', None, '')\n"
     ]
    }
   ],
   "source": [
    "cur.execute('describe product;')\n",
    "for r in cur.fetchall():\n",
    "    print(r)"
   ]
  },
  {
   "cell_type": "code",
   "execution_count": 46,
   "metadata": {},
   "outputs": [
    {
     "name": "stdout",
     "output_type": "stream",
     "text": [
      "('AUT', 'auto loan', 'LOAN', datetime.date(2000, 1, 1), None)\n",
      "('BUS', 'business line of credit', 'LOAN', datetime.date(2000, 1, 1), None)\n",
      "('CD', 'certificate of deposit', 'ACCOUNT', datetime.date(2000, 1, 1), None)\n",
      "('CHK', 'checking account', 'ACCOUNT', datetime.date(2000, 1, 1), None)\n",
      "('MM', 'money market account', 'ACCOUNT', datetime.date(2000, 1, 1), None)\n",
      "('MRT', 'home mortgage', 'LOAN', datetime.date(2000, 1, 1), None)\n",
      "('SAV', 'savings account', 'ACCOUNT', datetime.date(2000, 1, 1), None)\n",
      "('SBL', 'small business loan', 'LOAN', datetime.date(2000, 1, 1), None)\n"
     ]
    }
   ],
   "source": [
    "cur.execute('select * from product;')\n",
    "for r in cur.fetchall():\n",
    "    print(r)"
   ]
  },
  {
   "cell_type": "code",
   "execution_count": 47,
   "metadata": {},
   "outputs": [
    {
     "name": "stdout",
     "output_type": "stream",
     "text": [
      "('product_type_cd', 'varchar(10)', 'NO', 'PRI', None, '')\n",
      "('name', 'varchar(50)', 'NO', '', None, '')\n"
     ]
    }
   ],
   "source": [
    "cur.execute('describe product_type;')\n",
    "for r in cur.fetchall():\n",
    "    print(r)"
   ]
  },
  {
   "cell_type": "code",
   "execution_count": 48,
   "metadata": {},
   "outputs": [
    {
     "name": "stdout",
     "output_type": "stream",
     "text": [
      "('ACCOUNT', 'Customer Accounts')\n",
      "('INSURANCE', 'Insurance Offerings')\n",
      "('LOAN', 'Individual and Business Loans')\n"
     ]
    }
   ],
   "source": [
    "cur.execute('select * from product_type;')\n",
    "for r in cur.fetchall():\n",
    "    print(r)"
   ]
  },
  {
   "cell_type": "code",
   "execution_count": 49,
   "metadata": {},
   "outputs": [
    {
     "name": "stdout",
     "output_type": "stream",
     "text": [
      "('emp_id', 'smallint(5) unsigned', 'NO', 'PRI', None, 'auto_increment')\n",
      "('fname', 'varchar(20)', 'NO', '', None, '')\n",
      "('lname', 'varchar(20)', 'NO', '', None, '')\n",
      "('start_date', 'date', 'NO', '', None, '')\n",
      "('end_date', 'date', 'YES', '', None, '')\n",
      "('superior_emp_id', 'smallint(5) unsigned', 'YES', 'MUL', None, '')\n",
      "('dept_id', 'smallint(5) unsigned', 'YES', 'MUL', None, '')\n",
      "('title', 'varchar(20)', 'YES', '', None, '')\n",
      "('assigned_branch_id', 'smallint(5) unsigned', 'YES', 'MUL', None, '')\n"
     ]
    }
   ],
   "source": [
    "cur.execute('describe employee;')\n",
    "for r in cur.fetchall():\n",
    "    print(r)"
   ]
  },
  {
   "cell_type": "code",
   "execution_count": 50,
   "metadata": {},
   "outputs": [
    {
     "name": "stdout",
     "output_type": "stream",
     "text": [
      "(1, 'Michael', 'Smith', datetime.date(2001, 6, 22), None, None, 3, 'President', 1)\n",
      "(2, 'Susan', 'Barker', datetime.date(2002, 9, 12), None, 1, 3, 'Vice President', 1)\n",
      "(3, 'Robert', 'Tyler', datetime.date(2000, 2, 9), None, 1, 3, 'Treasurer', 1)\n",
      "(4, 'Susan', 'Hawthorne', datetime.date(2002, 4, 24), None, 3, 1, 'Operations Manager', 1)\n",
      "(5, 'John', 'Gooding', datetime.date(2003, 11, 14), None, 4, 2, 'Loan Manager', 1)\n",
      "(6, 'Helen', 'Fleming', datetime.date(2004, 3, 17), None, 4, 1, 'Head Teller', 1)\n",
      "(7, 'Chris', 'Tucker', datetime.date(2004, 9, 15), None, 6, 1, 'Teller', 1)\n",
      "(8, 'Sarah', 'Parker', datetime.date(2002, 12, 2), None, 6, 1, 'Teller', 1)\n",
      "(9, 'Jane', 'Grossman', datetime.date(2002, 5, 3), None, 6, 1, 'Teller', 1)\n",
      "(10, 'Paula', 'Roberts', datetime.date(2002, 7, 27), None, 4, 1, 'Head Teller', 2)\n"
     ]
    }
   ],
   "source": [
    "cur.execute('select * from employee limit 10;')\n",
    "for r in cur.fetchall():\n",
    "    print(r)"
   ]
  },
  {
   "cell_type": "markdown",
   "metadata": {},
   "source": [
    "1 - Na tabela \"account\", quais os valores médio, mínimo e máximo de \"avail_balance\"?"
   ]
  },
  {
   "cell_type": "code",
   "execution_count": 51,
   "metadata": {},
   "outputs": [
    {
     "name": "stdout",
     "output_type": "stream",
     "text": [
      "(50000.0, 7114.769138, 0.0)\n"
     ]
    }
   ],
   "source": [
    "cur.execute('''select max(avail_balance),\n",
    "               avg(avail_balance), \n",
    "               min(avail_balance) from account;''')\n",
    "\n",
    "for r in cur.fetchall():\n",
    "    print(r)"
   ]
  },
  {
   "cell_type": "markdown",
   "metadata": {},
   "source": [
    "2 - Quais registros na tabela \"account\" estão acima da média de \"avail_balance\"?"
   ]
  },
  {
   "cell_type": "code",
   "execution_count": 52,
   "metadata": {},
   "outputs": [
    {
     "name": "stdout",
     "output_type": "stream",
     "text": [
      "(15, 'CD', 6, datetime.date(2004, 12, 28), None, datetime.date(2004, 12, 28), 'ACTIVE', 1, 1, 10000.0, 10000.0)\n",
      "(22, 'MM', 9, datetime.date(2004, 10, 28), None, datetime.date(2004, 10, 28), 'ACTIVE', 1, 1, 9345.55, 9845.55)\n",
      "(24, 'CHK', 10, datetime.date(2002, 9, 30), None, datetime.date(2004, 12, 15), 'ACTIVE', 4, 16, 23575.12, 23575.12)\n",
      "(27, 'BUS', 11, datetime.date(2004, 3, 22), None, datetime.date(2004, 11, 14), 'ACTIVE', 2, 10, 9345.55, 9345.55)\n",
      "(28, 'CHK', 12, datetime.date(2003, 7, 30), None, datetime.date(2004, 12, 15), 'ACTIVE', 4, 16, 38552.05, 38552.05)\n",
      "(29, 'SBL', 13, datetime.date(2004, 2, 22), None, datetime.date(2004, 12, 17), 'ACTIVE', 3, 13, 50000.0, 50000.0)\n"
     ]
    }
   ],
   "source": [
    "cur.execute('''select * from account where avail_balance > \n",
    "                (select avg(avail_balance) from account);''')\n",
    "\n",
    "for r in cur.fetchall():\n",
    "    print(r)"
   ]
  },
  {
   "cell_type": "markdown",
   "metadata": {},
   "source": [
    "3 - Na tabela \"account\", quais as 3 datas mais recentes e as 3 datas mais antigas (\"open_date\")?"
   ]
  },
  {
   "cell_type": "code",
   "execution_count": 53,
   "metadata": {},
   "outputs": [
    {
     "name": "stdout",
     "output_type": "stream",
     "text": [
      "('2000-01-15',)\n",
      "('2000-01-15',)\n",
      "('2000-01-15',)\n",
      "('2004-12-28',)\n",
      "('2004-10-28',)\n",
      "('2004-09-30',)\n"
     ]
    }
   ],
   "source": [
    "#cur.execute('''select max(open_date),min(open_date) from account;''')\n",
    "\n",
    "q = '''\n",
    "(select open_date from account order by open_date limit 3)\n",
    "UNION ALL\n",
    "(select open_date from account order by open_date desc limit 3);\n",
    "'''\n",
    "\n",
    "cur.execute(q)\n",
    "\n",
    "for r in cur.fetchall():\n",
    "    print(r)"
   ]
  },
  {
   "cell_type": "markdown",
   "metadata": {},
   "source": [
    "4 - Para cada elemento na tabela \"product\", exiba o nome completo do \"product_type_cd\" (tabela \"product_type\")"
   ]
  },
  {
   "cell_type": "code",
   "execution_count": 54,
   "metadata": {},
   "outputs": [
    {
     "name": "stdout",
     "output_type": "stream",
     "text": [
      "('AUT', 'auto loan', 'LOAN', datetime.date(2000, 1, 1), None, 'Individual and Business Loans')\n",
      "('BUS', 'business line of credit', 'LOAN', datetime.date(2000, 1, 1), None, 'Individual and Business Loans')\n",
      "('CD', 'certificate of deposit', 'ACCOUNT', datetime.date(2000, 1, 1), None, 'Customer Accounts')\n",
      "('CHK', 'checking account', 'ACCOUNT', datetime.date(2000, 1, 1), None, 'Customer Accounts')\n",
      "('MM', 'money market account', 'ACCOUNT', datetime.date(2000, 1, 1), None, 'Customer Accounts')\n",
      "('MRT', 'home mortgage', 'LOAN', datetime.date(2000, 1, 1), None, 'Individual and Business Loans')\n",
      "('SAV', 'savings account', 'ACCOUNT', datetime.date(2000, 1, 1), None, 'Customer Accounts')\n",
      "('SBL', 'small business loan', 'LOAN', datetime.date(2000, 1, 1), None, 'Individual and Business Loans')\n"
     ]
    }
   ],
   "source": [
    "q = '''\n",
    "SELECT p.product_cd, p.name, p.product_type_cd, p.date_offered, p.date_retired, pt.name from product AS p\n",
    "INNER JOIN product_type AS pt\n",
    "ON p.product_type_cd = pt.product_type_cd\n",
    ";\n",
    "'''\n",
    "\n",
    "cur.execute(q)\n",
    "for r in cur.fetchall():\n",
    "    print(r)"
   ]
  },
  {
   "cell_type": "markdown",
   "metadata": {},
   "source": [
    "5 - Quantos empregados (\"employees\") possuem a letra \"e\" em seus nomes? E quantos tem sobrenomes que terminam com \"r\"? "
   ]
  },
  {
   "cell_type": "code",
   "execution_count": 55,
   "metadata": {},
   "outputs": [
    {
     "name": "stdout",
     "output_type": "stream",
     "text": [
      "(1, 'Michael', 'Smith', datetime.date(2001, 6, 22), None, None, 3, 'President', 1)\n",
      "(3, 'Robert', 'Tyler', datetime.date(2000, 2, 9), None, 1, 3, 'Treasurer', 1)\n",
      "(6, 'Helen', 'Fleming', datetime.date(2004, 3, 17), None, 4, 1, 'Head Teller', 1)\n",
      "(9, 'Jane', 'Grossman', datetime.date(2002, 5, 3), None, 6, 1, 'Teller', 1)\n",
      "(16, 'Theresa', 'Markham', datetime.date(2001, 3, 15), None, 4, 1, 'Head Teller', 4)\n",
      "(17, 'Beth', 'Fowler', datetime.date(2002, 6, 29), None, 16, 1, 'Teller', 4)\n"
     ]
    }
   ],
   "source": [
    "q = '''SELECT * from employee where fname like '%e%';'''\n",
    "\n",
    "cur.execute(q)\n",
    "for r in cur.fetchall():\n",
    "    print(r)"
   ]
  },
  {
   "cell_type": "code",
   "execution_count": 56,
   "metadata": {},
   "outputs": [
    {
     "name": "stdout",
     "output_type": "stream",
     "text": [
      "(2, 'Susan', 'Barker', datetime.date(2002, 9, 12), None, 1, 3, 'Vice President', 1)\n",
      "(3, 'Robert', 'Tyler', datetime.date(2000, 2, 9), None, 1, 3, 'Treasurer', 1)\n",
      "(7, 'Chris', 'Tucker', datetime.date(2004, 9, 15), None, 6, 1, 'Teller', 1)\n",
      "(8, 'Sarah', 'Parker', datetime.date(2002, 12, 2), None, 6, 1, 'Teller', 1)\n",
      "(11, 'Thomas', 'Ziegler', datetime.date(2000, 10, 23), None, 10, 1, 'Teller', 2)\n",
      "(17, 'Beth', 'Fowler', datetime.date(2002, 6, 29), None, 16, 1, 'Teller', 4)\n"
     ]
    }
   ],
   "source": [
    "q = '''SELECT * from employee where lname like '%r';'''\n",
    "\n",
    "cur.execute(q)\n",
    "for r in cur.fetchall():\n",
    "    print(r)"
   ]
  },
  {
   "cell_type": "markdown",
   "metadata": {},
   "source": [
    "6 - Quais são os títulos (\"title\") possíveis para os empregados (\"employees\")? "
   ]
  },
  {
   "cell_type": "code",
   "execution_count": 57,
   "metadata": {},
   "outputs": [
    {
     "name": "stdout",
     "output_type": "stream",
     "text": [
      "('President',)\n",
      "('Vice President',)\n",
      "('Treasurer',)\n",
      "('Operations Manager',)\n",
      "('Loan Manager',)\n",
      "('Head Teller',)\n",
      "('Teller',)\n"
     ]
    }
   ],
   "source": [
    "q = '''SELECT distinct(title) from employee;'''\n",
    "\n",
    "cur.execute(q)\n",
    "for r in cur.fetchall():\n",
    "    print(r)"
   ]
  },
  {
   "cell_type": "markdown",
   "metadata": {},
   "source": [
    "7 - Quantos empregados (\"employees\") estão a exatamente dois níveis abaixo do presidente? "
   ]
  },
  {
   "cell_type": "code",
   "execution_count": 58,
   "metadata": {},
   "outputs": [
    {
     "name": "stdout",
     "output_type": "stream",
     "text": [
      "('emp_id', 'smallint(5) unsigned', 'NO', 'PRI', None, 'auto_increment')\n",
      "('fname', 'varchar(20)', 'NO', '', None, '')\n",
      "('lname', 'varchar(20)', 'NO', '', None, '')\n",
      "('start_date', 'date', 'NO', '', None, '')\n",
      "('end_date', 'date', 'YES', '', None, '')\n",
      "('superior_emp_id', 'smallint(5) unsigned', 'YES', 'MUL', None, '')\n",
      "('dept_id', 'smallint(5) unsigned', 'YES', 'MUL', None, '')\n",
      "('title', 'varchar(20)', 'YES', '', None, '')\n",
      "('assigned_branch_id', 'smallint(5) unsigned', 'YES', 'MUL', None, '')\n"
     ]
    }
   ],
   "source": [
    "q = '''describe employee;'''\n",
    "\n",
    "cur.execute(q)\n",
    "for r in cur.fetchall():\n",
    "    print(r)"
   ]
  },
  {
   "cell_type": "code",
   "execution_count": 72,
   "metadata": {},
   "outputs": [
    {
     "name": "stdout",
     "output_type": "stream",
     "text": [
      "(4,)\n"
     ]
    }
   ],
   "source": [
    "q1 = '''select * from employee;'''\n",
    "\n",
    "q2 = '''select cast(emp_id as unsigned) from employee where superior_emp_id = 1;'''\n",
    "\n",
    "q3 = '''\n",
    "    SELECT cast(emp_id as unsigned)\n",
    "    from Alunos2.employee \n",
    "    WHERE superior_emp_id IN (\n",
    "    select cast(emp_id as unsigned) \n",
    "    from Alunos2.employee \n",
    "    where superior_emp_id = 1)'''\n",
    "\n",
    "cur.execute(q3)\n",
    "for r in cur.fetchall():\n",
    "    print(r)"
   ]
  },
  {
   "cell_type": "markdown",
   "metadata": {},
   "source": [
    "8 - Na tabela \"account\", quais os valores médio, mínimo e máximo de \"avail_balance\" por tipo de 'product_cd' ?"
   ]
  },
  {
   "cell_type": "code",
   "execution_count": 79,
   "metadata": {},
   "outputs": [
    {
     "name": "stdout",
     "output_type": "stream",
     "text": [
      "('BUS', 4672.774902, 0.0, 9345.55)\n",
      "('CD', 4875.0, 1500.0, 10000.0)\n",
      "('CHK', 7300.800985, 122.37, 38552.05)\n",
      "('MM', 5681.713216, 2212.5, 9345.55)\n",
      "('SAV', 463.940002, 200.0, 767.77)\n",
      "('SBL', 50000.0, 50000.0, 50000.0)\n"
     ]
    }
   ],
   "source": [
    "q1 = '''select * from account;'''\n",
    "\n",
    "q2 = '''select product_cd, avg(avail_balance), min(avail_balance), max(avail_balance) \n",
    "        from account \n",
    "        group by product_cd;'''\n",
    "\n",
    "cur.execute(q2)\n",
    "for r in cur.fetchall():\n",
    "    print(r)"
   ]
  },
  {
   "cell_type": "markdown",
   "metadata": {},
   "source": [
    "9 - Na tabela \"transaction\", há quantos registros por ano (\"txn_date\")?"
   ]
  },
  {
   "cell_type": "code",
   "execution_count": 80,
   "metadata": {},
   "outputs": [
    {
     "name": "stdout",
     "output_type": "stream",
     "text": [
      "('txn_id', 'int(10) unsigned', 'NO', 'PRI', None, 'auto_increment')\n",
      "('txn_date', 'datetime', 'NO', '', None, '')\n",
      "('account_id', 'int(10) unsigned', 'NO', 'MUL', None, '')\n",
      "('txn_type_cd', \"enum('DBT','CDT')\", 'YES', '', None, '')\n",
      "('amount', 'double(10,2)', 'NO', '', None, '')\n",
      "('teller_emp_id', 'smallint(5) unsigned', 'YES', 'MUL', None, '')\n",
      "('execution_branch_id', 'smallint(5) unsigned', 'YES', 'MUL', None, '')\n",
      "('funds_avail_date', 'datetime', 'YES', '', None, '')\n"
     ]
    }
   ],
   "source": [
    "cur.execute('describe transaction;')\n",
    "for r in cur.fetchall():\n",
    "    print(r)"
   ]
  },
  {
   "cell_type": "code",
   "execution_count": 86,
   "metadata": {},
   "outputs": [
    {
     "name": "stdout",
     "output_type": "stream",
     "text": [
      "(2000, 3)\n",
      "(2001, 4)\n",
      "(2002, 4)\n",
      "(2003, 3)\n",
      "(2004, 7)\n"
     ]
    }
   ],
   "source": [
    "q1 = '''select * from transaction limit 5;'''\n",
    "\n",
    "q2 = '''select year(txn_date), count(*) from transaction group by year(txn_date);'''\n",
    "\n",
    "cur.execute(q2)\n",
    "for r in cur.fetchall():\n",
    "    print(r)"
   ]
  },
  {
   "cell_type": "markdown",
   "metadata": {},
   "source": [
    "10 - Você é dono de uma loja de automóveis. Crie tabelas no banco \"Alunos\" para representar os carros de seu pátio, os modelos de automóveis, os clientes e as compras realizadas. "
   ]
  },
  {
   "cell_type": "code",
   "execution_count": null,
   "metadata": {},
   "outputs": [],
   "source": [
    "# Create table\n",
    "cur.execute('''CREATE TABLE IF NOT EXISTS loja_carros\n",
    "             (date text, trans text, symbol text, qty real, price real);''')\n",
    "\n"
   ]
  },
  {
   "cell_type": "markdown",
   "metadata": {},
   "source": [
    "11 - Crie uma lista no Python com todos os nomes e sobrenomes em strings únicas, a partir da tabela \"individual\"  "
   ]
  },
  {
   "cell_type": "code",
   "execution_count": 87,
   "metadata": {},
   "outputs": [
    {
     "name": "stdout",
     "output_type": "stream",
     "text": [
      "('cust_id', 'int(10) unsigned', 'NO', 'PRI', None, '')\n",
      "('fname', 'varchar(30)', 'NO', '', None, '')\n",
      "('lname', 'varchar(30)', 'NO', '', None, '')\n",
      "('birth_date', 'date', 'YES', '', None, '')\n"
     ]
    }
   ],
   "source": [
    "cur.execute('describe individual;')\n",
    "for r in cur.fetchall():\n",
    "    print(r)"
   ]
  },
  {
   "cell_type": "code",
   "execution_count": 89,
   "metadata": {},
   "outputs": [
    {
     "name": "stdout",
     "output_type": "stream",
     "text": [
      "['James Hadley', 'Susan Tingley', 'Frank Tucker', 'John Hayward', 'Charles Frasier', 'John Spencer', 'Margaret Young', 'Louis Blake', 'Richard Farley']\n"
     ]
    }
   ],
   "source": [
    "q1 = '''select fname, lname from individual;'''\n",
    "l = []\n",
    "\n",
    "cur.execute(q1)\n",
    "for r in cur.fetchall():\n",
    "    l.append('{} {}'.format(r[0],r[1]))\n",
    "print(l)"
   ]
  },
  {
   "cell_type": "markdown",
   "metadata": {},
   "source": [
    "12 - A partir da tabela \"individual\", crie um dicionário no Python tendo os nomes e sobrenomes em strings únicas como chaves e os anos das datas como valores."
   ]
  },
  {
   "cell_type": "code",
   "execution_count": 92,
   "metadata": {},
   "outputs": [
    {
     "name": "stdout",
     "output_type": "stream",
     "text": [
      "{'Louis Blake': 1977, 'Frank Tucker': 1958, 'John Spencer': 1962, 'Susan Tingley': 1968, 'Charles Frasier': 1971, 'James Hadley': 1972, 'Margaret Young': 1947, 'John Hayward': 1966, 'Richard Farley': 1968}\n"
     ]
    }
   ],
   "source": [
    "q1 = '''select year(birth_date), fname, lname from individual;'''\n",
    "d = {}\n",
    "\n",
    "cur.execute(q1)\n",
    "for r in cur.fetchall():\n",
    "    d['{} {}'.format(r[1],r[2])] = r[0]\n",
    "print(d)"
   ]
  },
  {
   "cell_type": "code",
   "execution_count": null,
   "metadata": {},
   "outputs": [],
   "source": []
  }
 ],
 "metadata": {
  "kernelspec": {
   "display_name": "Python 3",
   "language": "python",
   "name": "python3"
  },
  "language_info": {
   "codemirror_mode": {
    "name": "ipython",
    "version": 3
   },
   "file_extension": ".py",
   "mimetype": "text/x-python",
   "name": "python",
   "nbconvert_exporter": "python",
   "pygments_lexer": "ipython3",
   "version": "3.5.2"
  }
 },
 "nbformat": 4,
 "nbformat_minor": 2
}
