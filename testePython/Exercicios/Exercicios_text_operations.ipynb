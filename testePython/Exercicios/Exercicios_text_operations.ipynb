{
 "cells": [
  {
   "cell_type": "markdown",
   "metadata": {},
   "source": [
    "#### Exercícios Python"
   ]
  },
  {
   "cell_type": "markdown",
   "metadata": {},
   "source": [
    "Primeiro Exercício"
   ]
  },
  {
   "cell_type": "code",
   "execution_count": 34,
   "metadata": {
    "collapsed": false
   },
   "outputs": [],
   "source": [
    "def freqdist(texto):\n",
    "    d = {}\n",
    "    lista = texto.split('\\n')\n",
    "    texto = ' '.join(lista)\n",
    "    lista = texto.split(' ')\n",
    "    for palavra in lista:\n",
    "        palavra = palavra.strip().lower()\n",
    "        if palavra not in d:\n",
    "            d[palavra] = 1\n",
    "        else:\n",
    "            d[palavra] += 1\n",
    "    return d    "
   ]
  },
  {
   "cell_type": "code",
   "execution_count": 42,
   "metadata": {
    "collapsed": false
   },
   "outputs": [],
   "source": [
    "confortablynumb = '''\n",
    "Hello\n",
    "Is there anybody in there?\n",
    "Just nod if you can hear me\n",
    "Is there anyone at home?\n",
    "\n",
    "Come on now\n",
    "I hear you're feeling down\n",
    "Well, I can ease your pain\n",
    "And get you on your feet again\n",
    "\n",
    "Relax\n",
    "I'll need some information first\n",
    "Just the basic facts\n",
    "Can you show me where it hurts\n",
    "\n",
    "There is no pain, you are receding\n",
    "A distant ship's smoke on the horizon\n",
    "You are only coming through in waves\n",
    "Your lips move but I can't hear what you're saying\n",
    "When I was a child I had a fever\n",
    "My hands felt just like two balloons\n",
    "\n",
    "Now I've got that feeling once again\n",
    "I can't explain, you would not understand\n",
    "This is not how I am\n",
    "I have become comfortably numb\n",
    "\n",
    "I have become comfortably numb\n",
    "\n",
    "Ok\n",
    "Just a little pin prick\n",
    "There'll be no more\n",
    "Ah!\n",
    "But you might feel a little sick\n",
    "Can you stand up?\n",
    "I do belive it's working, good\n",
    "That'll keep you going, through the show\n",
    "Come on it's time to go.\n",
    "\n",
    "There is no pain you are receding\n",
    "A distant ship's smoke on the horizon\n",
    "You are only coming through in waves\n",
    "Your lips move, but I can't hear what you're saying\n",
    "When I was a child\n",
    "I caught a fleeting glimpse\n",
    "Out of the corner of my eye\n",
    "I turned to look but it was gone\n",
    "I cannot put my finger on it now\n",
    "The child is grown\n",
    "The dream is gone\n",
    "And I have become\n",
    "Comfortably num'''"
   ]
  },
  {
   "cell_type": "code",
   "execution_count": 43,
   "metadata": {
    "collapsed": false
   },
   "outputs": [
    {
     "data": {
      "text/plain": [
       "\"\\nHello\\nIs there anybody in there?\\nJust nod if you can hear me\\nIs there anyone at home?\\n\\nCome on now\\nI hear you're feeling down\\nWell, I can ease your pain\\nAnd get you on your feet again\\n\\nRelax\\nI'll need some information first\\nJust the basic facts\\nCan you show me where it hurts\\n\\nThere is no pain, you are receding\\nA distant ship's smoke on the horizon\\nYou are only coming through in waves\\nYour lips move but I can't hear what you're saying\\nWhen I was a child I had a fever\\nMy hands felt just like two balloons\\n\\nNow I've got that feeling once again\\nI can't explain, you would not understand\\nThis is not how I am\\nI have become comfortably numb\\n\\nI have become comfortably numb\\n\\nOk\\nJust a little pin prick\\nThere'll be no more\\nAh!\\nBut you might feel a little sick\\nCan you stand up?\\nI do belive it's working, good\\nThat'll keep you going, through the show\\nCome on it's time to go.\\n\\nThere is no pain you are receding\\nA distant ship's smoke on the horizon\\nYou are only coming through in waves\\nYour lips move, but I can't hear what you're saying\\nWhen I was a child\\nI caught a fleeting glimpse\\nOut of the corner of my eye\\nI turned to look but it was gone\\nI cannot put my finger on it now\\nThe child is grown\\nThe dream is gone\\nAnd I have become\\nComfortably num\""
      ]
     },
     "execution_count": 43,
     "metadata": {},
     "output_type": "execute_result"
    }
   ],
   "source": [
    "confortablynumb"
   ]
  },
  {
   "cell_type": "code",
   "execution_count": 49,
   "metadata": {
    "collapsed": false
   },
   "outputs": [],
   "source": [
    "d = freqdist(confortablynumb)"
   ]
  },
  {
   "cell_type": "code",
   "execution_count": 50,
   "metadata": {
    "collapsed": false
   },
   "outputs": [
    {
     "data": {
      "text/plain": [
       "{'': 8,\n",
       " 'anyone': 1,\n",
       " 'little': 2,\n",
       " \"it's\": 2,\n",
       " 'understand': 1,\n",
       " 'need': 1,\n",
       " 'feet': 1,\n",
       " 'first': 1,\n",
       " 'child': 3,\n",
       " 'up?': 1,\n",
       " 'sick': 1,\n",
       " 'hear': 4,\n",
       " 'caught': 1,\n",
       " 'got': 1,\n",
       " 'lips': 2,\n",
       " 'but': 4,\n",
       " 'saying': 2,\n",
       " 'smoke': 2,\n",
       " 'cannot': 1,\n",
       " 'is': 7,\n",
       " 'at': 1,\n",
       " 'be': 1,\n",
       " 'hello': 1,\n",
       " 'balloons': 1,\n",
       " 'would': 1,\n",
       " 'num': 1,\n",
       " 'out': 1,\n",
       " 'turned': 1,\n",
       " 'get': 1,\n",
       " 'come': 2,\n",
       " 'stand': 1,\n",
       " 'dream': 1,\n",
       " 'go.': 1,\n",
       " \"you're\": 3,\n",
       " 'felt': 1,\n",
       " 'more': 1,\n",
       " 'the': 7,\n",
       " 'nod': 1,\n",
       " 'there': 4,\n",
       " 'time': 1,\n",
       " 'grown': 1,\n",
       " 'on': 6,\n",
       " 'pain,': 1,\n",
       " 'once': 1,\n",
       " \"i've\": 1,\n",
       " 'home?': 1,\n",
       " 'ok': 1,\n",
       " 'information': 1,\n",
       " 'eye': 1,\n",
       " 'finger': 1,\n",
       " \"ship's\": 2,\n",
       " 'coming': 2,\n",
       " 'had': 1,\n",
       " 'prick': 1,\n",
       " 'distant': 2,\n",
       " 'ah!': 1,\n",
       " 'was': 3,\n",
       " 'waves': 2,\n",
       " 'well,': 1,\n",
       " 'no': 3,\n",
       " \"there'll\": 1,\n",
       " 'what': 2,\n",
       " 'you': 11,\n",
       " 'in': 3,\n",
       " 'corner': 1,\n",
       " \"that'll\": 1,\n",
       " 'and': 2,\n",
       " 'that': 1,\n",
       " 'comfortably': 3,\n",
       " 'where': 1,\n",
       " 'anybody': 1,\n",
       " 'good': 1,\n",
       " 'to': 2,\n",
       " 'now': 3,\n",
       " 'like': 1,\n",
       " 'your': 4,\n",
       " 'move': 1,\n",
       " 'it': 3,\n",
       " 'horizon': 2,\n",
       " 'facts': 1,\n",
       " 'through': 3,\n",
       " 'keep': 1,\n",
       " 'basic': 1,\n",
       " 'i': 16,\n",
       " 'of': 2,\n",
       " 'put': 1,\n",
       " 'down': 1,\n",
       " 'hands': 1,\n",
       " 'pain': 2,\n",
       " 'some': 1,\n",
       " 'gone': 2,\n",
       " 'explain,': 1,\n",
       " 'how': 1,\n",
       " 'going,': 1,\n",
       " 'again': 2,\n",
       " 'look': 1,\n",
       " 'show': 2,\n",
       " 'not': 2,\n",
       " 'do': 1,\n",
       " 'my': 3,\n",
       " 'feel': 1,\n",
       " 'just': 4,\n",
       " 'belive': 1,\n",
       " 'glimpse': 1,\n",
       " 'two': 1,\n",
       " 'relax': 1,\n",
       " 'can': 4,\n",
       " 'hurts': 1,\n",
       " 'if': 1,\n",
       " 'am': 1,\n",
       " 'only': 2,\n",
       " 'are': 4,\n",
       " 'there?': 1,\n",
       " 'this': 1,\n",
       " 'numb': 2,\n",
       " 'pin': 1,\n",
       " 'become': 3,\n",
       " 'have': 3,\n",
       " 'a': 8,\n",
       " \"can't\": 3,\n",
       " 'fleeting': 1,\n",
       " 'when': 2,\n",
       " 'ease': 1,\n",
       " 'receding': 2,\n",
       " 'fever': 1,\n",
       " 'feeling': 2,\n",
       " 'move,': 1,\n",
       " 'might': 1,\n",
       " 'me': 2,\n",
       " 'working,': 1,\n",
       " \"i'll\": 1}"
      ]
     },
     "execution_count": 50,
     "metadata": {},
     "output_type": "execute_result"
    }
   ],
   "source": [
    "d"
   ]
  },
  {
   "cell_type": "code",
   "execution_count": 66,
   "metadata": {
    "collapsed": false
   },
   "outputs": [
    {
     "data": {
      "text/plain": [
       "[('i', 16),\n",
       " ('you', 11),\n",
       " ('', 8),\n",
       " ('a', 8),\n",
       " ('is', 7),\n",
       " ('the', 7),\n",
       " ('on', 6),\n",
       " ('hear', 4),\n",
       " ('but', 4),\n",
       " ('there', 4),\n",
       " ('your', 4),\n",
       " ('just', 4),\n",
       " ('can', 4),\n",
       " ('are', 4),\n",
       " ('child', 3),\n",
       " (\"you're\", 3),\n",
       " ('was', 3),\n",
       " ('no', 3),\n",
       " ('in', 3),\n",
       " ('comfortably', 3),\n",
       " ('now', 3),\n",
       " ('it', 3),\n",
       " ('through', 3),\n",
       " ('my', 3),\n",
       " ('become', 3),\n",
       " ('have', 3),\n",
       " (\"can't\", 3),\n",
       " ('little', 2),\n",
       " (\"it's\", 2),\n",
       " ('lips', 2),\n",
       " ('saying', 2),\n",
       " ('smoke', 2),\n",
       " ('come', 2),\n",
       " (\"ship's\", 2),\n",
       " ('coming', 2),\n",
       " ('distant', 2),\n",
       " ('waves', 2),\n",
       " ('what', 2),\n",
       " ('and', 2),\n",
       " ('to', 2),\n",
       " ('horizon', 2),\n",
       " ('of', 2),\n",
       " ('pain', 2),\n",
       " ('gone', 2),\n",
       " ('again', 2),\n",
       " ('show', 2),\n",
       " ('not', 2),\n",
       " ('only', 2),\n",
       " ('numb', 2),\n",
       " ('when', 2),\n",
       " ('receding', 2),\n",
       " ('feeling', 2),\n",
       " ('me', 2),\n",
       " ('anyone', 1),\n",
       " ('understand', 1),\n",
       " ('need', 1),\n",
       " ('feet', 1),\n",
       " ('first', 1),\n",
       " ('up?', 1),\n",
       " ('sick', 1),\n",
       " ('caught', 1),\n",
       " ('got', 1),\n",
       " ('cannot', 1),\n",
       " ('at', 1),\n",
       " ('be', 1),\n",
       " ('hello', 1),\n",
       " ('balloons', 1),\n",
       " ('would', 1),\n",
       " ('num', 1),\n",
       " ('out', 1),\n",
       " ('turned', 1),\n",
       " ('get', 1),\n",
       " ('stand', 1),\n",
       " ('dream', 1),\n",
       " ('go.', 1),\n",
       " ('felt', 1),\n",
       " ('more', 1),\n",
       " ('nod', 1),\n",
       " ('time', 1),\n",
       " ('grown', 1),\n",
       " ('pain,', 1),\n",
       " ('once', 1),\n",
       " (\"i've\", 1),\n",
       " ('home?', 1),\n",
       " ('ok', 1),\n",
       " ('information', 1),\n",
       " ('eye', 1),\n",
       " ('finger', 1),\n",
       " ('had', 1),\n",
       " ('prick', 1),\n",
       " ('ah!', 1),\n",
       " ('well,', 1),\n",
       " (\"there'll\", 1),\n",
       " ('corner', 1),\n",
       " (\"that'll\", 1),\n",
       " ('that', 1),\n",
       " ('where', 1),\n",
       " ('anybody', 1),\n",
       " ('good', 1),\n",
       " ('like', 1),\n",
       " ('move', 1),\n",
       " ('facts', 1),\n",
       " ('keep', 1),\n",
       " ('basic', 1),\n",
       " ('put', 1),\n",
       " ('down', 1),\n",
       " ('hands', 1),\n",
       " ('some', 1),\n",
       " ('explain,', 1),\n",
       " ('how', 1),\n",
       " ('going,', 1),\n",
       " ('look', 1),\n",
       " ('do', 1),\n",
       " ('feel', 1),\n",
       " ('belive', 1),\n",
       " ('glimpse', 1),\n",
       " ('two', 1),\n",
       " ('relax', 1),\n",
       " ('hurts', 1),\n",
       " ('if', 1),\n",
       " ('am', 1),\n",
       " ('there?', 1),\n",
       " ('this', 1),\n",
       " ('pin', 1),\n",
       " ('fleeting', 1),\n",
       " ('ease', 1),\n",
       " ('fever', 1),\n",
       " ('move,', 1),\n",
       " ('might', 1),\n",
       " ('working,', 1),\n",
       " (\"i'll\", 1)]"
      ]
     },
     "execution_count": 66,
     "metadata": {},
     "output_type": "execute_result"
    }
   ],
   "source": [
    "import operator\n",
    "d2 = sorted(d.items(), key=operator.itemgetter(1), reverse=True)\n",
    "d2"
   ]
  },
  {
   "cell_type": "markdown",
   "metadata": {},
   "source": [
    "Segundo Exercício"
   ]
  },
  {
   "cell_type": "code",
   "execution_count": 55,
   "metadata": {
    "collapsed": false
   },
   "outputs": [],
   "source": [
    "import nltk\n",
    "sw = nltk.corpus.stopwords.words('english')"
   ]
  },
  {
   "cell_type": "code",
   "execution_count": 67,
   "metadata": {
    "collapsed": false
   },
   "outputs": [
    {
     "name": "stdout",
     "output_type": "stream",
     "text": [
      "Retirando palavra i\n",
      "Retirando palavra me\n",
      "Retirando palavra my\n",
      "Retirando palavra you\n",
      "Retirando palavra your\n",
      "Retirando palavra it\n",
      "Retirando palavra what\n",
      "Retirando palavra this\n",
      "Retirando palavra that\n",
      "Retirando palavra am\n",
      "Retirando palavra is\n",
      "Retirando palavra are\n",
      "Retirando palavra was\n",
      "Retirando palavra be\n",
      "Retirando palavra have\n",
      "Retirando palavra had\n",
      "Retirando palavra do\n",
      "Retirando palavra a\n",
      "Retirando palavra the\n",
      "Retirando palavra and\n",
      "Retirando palavra but\n",
      "Retirando palavra if\n",
      "Retirando palavra of\n",
      "Retirando palavra at\n",
      "Retirando palavra through\n",
      "Retirando palavra to\n",
      "Retirando palavra down\n",
      "Retirando palavra in\n",
      "Retirando palavra out\n",
      "Retirando palavra on\n",
      "Retirando palavra again\n",
      "Retirando palavra once\n",
      "Retirando palavra there\n",
      "Retirando palavra when\n",
      "Retirando palavra where\n",
      "Retirando palavra how\n",
      "Retirando palavra more\n",
      "Retirando palavra some\n",
      "Retirando palavra no\n",
      "Retirando palavra not\n",
      "Retirando palavra only\n",
      "Retirando palavra can\n",
      "Retirando palavra just\n",
      "Retirando palavra now\n"
     ]
    },
    {
     "data": {
      "text/plain": [
       "{'': 8,\n",
       " 'anyone': 1,\n",
       " 'little': 2,\n",
       " \"it's\": 2,\n",
       " 'understand': 1,\n",
       " 'first': 1,\n",
       " \"ship's\": 2,\n",
       " 'got': 1,\n",
       " 'lips': 2,\n",
       " 'corner': 1,\n",
       " 'saying': 2,\n",
       " 'numb': 2,\n",
       " 'up?': 1,\n",
       " 'hello': 1,\n",
       " 'turned': 1,\n",
       " 'go.': 1,\n",
       " 'home?': 1,\n",
       " 'felt': 1,\n",
       " 'nod': 1,\n",
       " 'pain,': 1,\n",
       " 'ok': 1,\n",
       " 'information': 1,\n",
       " 'put': 1,\n",
       " 'feeling': 2,\n",
       " 'coming': 2,\n",
       " 'distant': 2,\n",
       " 'ah!': 1,\n",
       " 'well,': 1,\n",
       " \"i've\": 1,\n",
       " 'good': 1,\n",
       " 'move': 1,\n",
       " 'horizon': 2,\n",
       " 'facts': 1,\n",
       " 'basic': 1,\n",
       " 'hands': 1,\n",
       " 'show': 2,\n",
       " 'pain': 2,\n",
       " 'explain,': 1,\n",
       " 'going,': 1,\n",
       " 'belive': 1,\n",
       " 'glimpse': 1,\n",
       " 'two': 1,\n",
       " 'pin': 1,\n",
       " 'cannot': 1,\n",
       " 'sick': 1,\n",
       " \"can't\": 3,\n",
       " 'ease': 1,\n",
       " 'fever': 1,\n",
       " 'gone': 2,\n",
       " 'working,': 1,\n",
       " 'move,': 1,\n",
       " 'need': 1,\n",
       " 'feet': 1,\n",
       " 'child': 3,\n",
       " 'hear': 4,\n",
       " 'caught': 1,\n",
       " 'smoke': 2,\n",
       " 'balloons': 1,\n",
       " 'would': 1,\n",
       " 'get': 1,\n",
       " 'come': 2,\n",
       " 'stand': 1,\n",
       " \"you're\": 3,\n",
       " 'time': 1,\n",
       " 'grown': 1,\n",
       " 'finger': 1,\n",
       " 'look': 1,\n",
       " 'eye': 1,\n",
       " 'num': 1,\n",
       " 'waves': 2,\n",
       " \"there'll\": 1,\n",
       " 'comfortably': 3,\n",
       " 'like': 1,\n",
       " 'keep': 1,\n",
       " 'anybody': 1,\n",
       " 'dream': 1,\n",
       " 'receding': 2,\n",
       " 'relax': 1,\n",
       " 'hurts': 1,\n",
       " \"that'll\": 1,\n",
       " 'there?': 1,\n",
       " 'become': 3,\n",
       " 'prick': 1,\n",
       " 'fleeting': 1,\n",
       " 'feel': 1,\n",
       " 'might': 1,\n",
       " \"i'll\": 1}"
      ]
     },
     "execution_count": 67,
     "metadata": {},
     "output_type": "execute_result"
    }
   ],
   "source": [
    "d3 = d.copy()\n",
    "for word in sw:\n",
    "    if word in d3:\n",
    "        print('Retirando palavra {}'.format(word))\n",
    "        d3.pop(word)\n",
    "d3"
   ]
  },
  {
   "cell_type": "markdown",
   "metadata": {},
   "source": [
    "Terceiro Exercício"
   ]
  },
  {
   "cell_type": "code",
   "execution_count": 70,
   "metadata": {
    "collapsed": false
   },
   "outputs": [],
   "source": [
    "import numpy as np\n",
    "import matplotlib.pyplot as plt\n",
    "%matplotlib inline"
   ]
  },
  {
   "cell_type": "code",
   "execution_count": 77,
   "metadata": {
    "collapsed": false
   },
   "outputs": [],
   "source": [
    "lista1 = [1,2,3,4,5,6]\n",
    "lista2 = [2,4,6,8,10,12]\n",
    "lista3 = [3,6,9,12,15,18]\n",
    "\n",
    "def plota_num(*listas):\n",
    "    plt.figure()\n",
    "    for lista in listas:\n",
    "        plt.plot(lista,'o')\n",
    "    plt.show()"
   ]
  },
  {
   "cell_type": "code",
   "execution_count": 78,
   "metadata": {
    "collapsed": false
   },
   "outputs": [
    {
     "data": {
      "image/png": "[encoded data removed]",
      "text/plain": [
       "<matplotlib.figure.Figure at 0x85ce278>"
      ]
     },
     "metadata": {},
     "output_type": "display_data"
    }
   ],
   "source": [
    "plota_num(lista1,lista2,lista3)"
   ]
  },
  {
   "cell_type": "markdown",
   "metadata": {},
   "source": [
    "Quarto Exercício"
   ]
  },
  {
   "cell_type": "code",
   "execution_count": 83,
   "metadata": {
    "collapsed": false
   },
   "outputs": [
    {
     "data": {
      "text/plain": [
       "['Minha', 'Algumas', 'Palavras']"
      ]
     },
     "execution_count": 83,
     "metadata": {},
     "output_type": "execute_result"
    }
   ],
   "source": [
    "s = 'Minha STring com Algumas Palavras começando COM maiúsculas'\n",
    "l = s.split()\n",
    "s2 = filter(lambda x:x.istitle(),l)\n",
    "list(s2)"
   ]
  },
  {
   "cell_type": "markdown",
   "metadata": {},
   "source": [
    "Quinto Exercício"
   ]
  },
  {
   "cell_type": "code",
   "execution_count": 84,
   "metadata": {
    "collapsed": false
   },
   "outputs": [],
   "source": [
    "import requests"
   ]
  },
  {
   "cell_type": "code",
   "execution_count": 125,
   "metadata": {
    "collapsed": false
   },
   "outputs": [],
   "source": [
    "url = 'http://emap.fgv.br'\n",
    "pagina = requests.get(url)\n",
    "texto = pagina.text"
   ]
  },
  {
   "cell_type": "code",
   "execution_count": 126,
   "metadata": {
    "collapsed": false
   },
   "outputs": [],
   "source": [
    "lista_palavras = texto.split(' ')"
   ]
  },
  {
   "cell_type": "code",
   "execution_count": 127,
   "metadata": {
    "collapsed": false
   },
   "outputs": [],
   "source": [
    "links = [p.strip() for p in lista_palavras if '://' in p]\n",
    "#for link in links:\n",
    "#    print(link[link.find('http'):link.find('\"',link.find('http'))])"
   ]
  },
  {
   "cell_type": "code",
   "execution_count": 128,
   "metadata": {
    "collapsed": false
   },
   "outputs": [
    {
     "data": {
      "text/plain": [
       "['@fgv_emap</a>\\n<script>!function(d,s,id){var']"
      ]
     },
     "execution_count": 128,
     "metadata": {},
     "output_type": "execute_result"
    }
   ],
   "source": [
    "emails = [p.strip() for p in lista_palavras if '@' in p]\n",
    "emails"
   ]
  },
  {
   "cell_type": "markdown",
   "metadata": {},
   "source": [
    "Transposição de Matrizes"
   ]
  },
  {
   "cell_type": "code",
   "execution_count": 150,
   "metadata": {
    "collapsed": false
   },
   "outputs": [],
   "source": [
    "M = np.arange(1,10).reshape(3,3)\n",
    "N = np.empty(9).reshape(3,3)"
   ]
  },
  {
   "cell_type": "code",
   "execution_count": 162,
   "metadata": {
    "collapsed": false
   },
   "outputs": [],
   "source": [
    "for i in range(M.shape[0]):\n",
    "    for j in range(M.shape[1]):\n",
    "        N[i,j] = M[j,i]"
   ]
  },
  {
   "cell_type": "code",
   "execution_count": 163,
   "metadata": {
    "collapsed": false
   },
   "outputs": [
    {
     "data": {
      "text/plain": [
       "array([[1, 2, 3],\n",
       "       [4, 5, 6],\n",
       "       [7, 8, 9]])"
      ]
     },
     "execution_count": 163,
     "metadata": {},
     "output_type": "execute_result"
    }
   ],
   "source": [
    "M"
   ]
  },
  {
   "cell_type": "code",
   "execution_count": 164,
   "metadata": {
    "collapsed": false
   },
   "outputs": [
    {
     "data": {
      "text/plain": [
       "array([[1, 4, 7],\n",
       "       [2, 5, 8],\n",
       "       [3, 6, 9]])"
      ]
     },
     "execution_count": 164,
     "metadata": {},
     "output_type": "execute_result"
    }
   ],
   "source": [
    "M.T"
   ]
  },
  {
   "cell_type": "code",
   "execution_count": 168,
   "metadata": {
    "collapsed": false
   },
   "outputs": [
    {
     "data": {
      "text/plain": [
       "array([[1, 4, 7],\n",
       "       [2, 5, 8],\n",
       "       [3, 6, 9]])"
      ]
     },
     "execution_count": 168,
     "metadata": {},
     "output_type": "execute_result"
    }
   ],
   "source": [
    "N.astype(int)"
   ]
  },
  {
   "cell_type": "code",
   "execution_count": null,
   "metadata": {
    "collapsed": false
   },
   "outputs": [],
   "source": []
  }
 ],
 "metadata": {
  "kernelspec": {
   "display_name": "Python 3",
   "language": "python",
   "name": "python3"
  },
  "language_info": {
   "codemirror_mode": {
    "name": "ipython",
    "version": 3
   },
   "file_extension": ".py",
   "mimetype": "text/x-python",
   "name": "python",
   "nbconvert_exporter": "python",
   "pygments_lexer": "ipython3",
   "version": "3.5.1+"
  }
 },
 "nbformat": 4,
 "nbformat_minor": 0
}
